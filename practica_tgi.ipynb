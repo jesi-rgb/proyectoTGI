{
 "cells": [
  {
   "cell_type": "markdown",
   "metadata": {},
   "source": [
    "# PRÁCTICA TECNOLOGÍAS DE GESTIÓN DE LA INFORMACIÓN\n",
    "\n",
    "Práctica hecha por:\n",
    " - Mendorito\n",
    " - Jesi\n",
    " \n",
    "Esto es un texto de **prueba** para _ver_ cómo va este _**texto**_"
   ]
  },
  {
   "cell_type": "code",
   "execution_count": 1,
   "metadata": {},
   "outputs": [],
   "source": [
    "import pandas as pd\n",
    "import numpy as np\n",
    "import matplotlib.pyplot as plt"
   ]
  },
  {
   "cell_type": "code",
   "execution_count": 2,
   "metadata": {},
   "outputs": [],
   "source": [
    "electricity_prices = pd.read_csv(\"electricity_prices_household.csv\", delimiter=\";\")\n",
    "electricity_prices.shape\n",
    "\n",
    "#tomamos solo las filas que contengan lo que nos interesa: datos de españa, precios sin tasas añadidas y el precio representado en euros\n",
    "es_electricity = electricity_prices.loc[(electricity_prices['geo\\\\time'] == 'ES') & (electricity_prices['tax'] == 'X_TAX') & (electricity_prices['currency'] == 'EUR')]\n"
   ]
  },
  {
   "cell_type": "code",
   "execution_count": 3,
   "metadata": {},
   "outputs": [
    {
     "data": {
      "text/html": [
       "<div>\n",
       "<style scoped>\n",
       "    .dataframe tbody tr th:only-of-type {\n",
       "        vertical-align: middle;\n",
       "    }\n",
       "\n",
       "    .dataframe tbody tr th {\n",
       "        vertical-align: top;\n",
       "    }\n",
       "\n",
       "    .dataframe thead th {\n",
       "        text-align: right;\n",
       "    }\n",
       "</style>\n",
       "<table border=\"1\" class=\"dataframe\">\n",
       "  <thead>\n",
       "    <tr style=\"text-align: right;\">\n",
       "      <th></th>\n",
       "      <th>product</th>\n",
       "      <th>consom</th>\n",
       "      <th>unit</th>\n",
       "      <th>tax</th>\n",
       "      <th>currency</th>\n",
       "      <th>geo\\time</th>\n",
       "      <th>2019S1</th>\n",
       "      <th>2018S2</th>\n",
       "      <th>2018S1</th>\n",
       "      <th>2017S2</th>\n",
       "      <th>...</th>\n",
       "      <th>2011S2</th>\n",
       "      <th>2011S1</th>\n",
       "      <th>2010S2</th>\n",
       "      <th>2010S1</th>\n",
       "      <th>2009S2</th>\n",
       "      <th>2009S1</th>\n",
       "      <th>2008S2</th>\n",
       "      <th>2008S1</th>\n",
       "      <th>2007S2</th>\n",
       "      <th>2007S1</th>\n",
       "    </tr>\n",
       "  </thead>\n",
       "  <tbody>\n",
       "    <tr>\n",
       "      <th>139</th>\n",
       "      <td>6000</td>\n",
       "      <td>4161901</td>\n",
       "      <td>KWH</td>\n",
       "      <td>X_TAX</td>\n",
       "      <td>EUR</td>\n",
       "      <td>ES</td>\n",
       "      <td>0.5166</td>\n",
       "      <td>0.4485</td>\n",
       "      <td>0.4680</td>\n",
       "      <td>0.4479</td>\n",
       "      <td>...</td>\n",
       "      <td>0.3044</td>\n",
       "      <td>0.2890</td>\n",
       "      <td>0.2926</td>\n",
       "      <td>0.3174</td>\n",
       "      <td>0.2611</td>\n",
       "      <td>0.2540</td>\n",
       "      <td>0.2622</td>\n",
       "      <td>0.2455</td>\n",
       "      <td>0.2424</td>\n",
       "      <td>:</td>\n",
       "    </tr>\n",
       "    <tr>\n",
       "      <th>520</th>\n",
       "      <td>6000</td>\n",
       "      <td>4161902</td>\n",
       "      <td>KWH</td>\n",
       "      <td>X_TAX</td>\n",
       "      <td>EUR</td>\n",
       "      <td>ES</td>\n",
       "      <td>0.2355</td>\n",
       "      <td>0.2393</td>\n",
       "      <td>0.2303</td>\n",
       "      <td>0.2113</td>\n",
       "      <td>...</td>\n",
       "      <td>0.1870</td>\n",
       "      <td>0.1768</td>\n",
       "      <td>0.1681</td>\n",
       "      <td>0.1622</td>\n",
       "      <td>0.1571</td>\n",
       "      <td>0.1459</td>\n",
       "      <td>0.1475</td>\n",
       "      <td>0.1299</td>\n",
       "      <td>0.1332</td>\n",
       "      <td>:</td>\n",
       "    </tr>\n",
       "    <tr>\n",
       "      <th>901</th>\n",
       "      <td>6000</td>\n",
       "      <td>4161903</td>\n",
       "      <td>KWH</td>\n",
       "      <td>X_TAX</td>\n",
       "      <td>EUR</td>\n",
       "      <td>ES</td>\n",
       "      <td>0.1889</td>\n",
       "      <td>0.1947</td>\n",
       "      <td>0.1873</td>\n",
       "      <td>0.1712</td>\n",
       "      <td>...</td>\n",
       "      <td>0.1684</td>\n",
       "      <td>0.1597</td>\n",
       "      <td>0.1492</td>\n",
       "      <td>0.1417</td>\n",
       "      <td>0.1381</td>\n",
       "      <td>0.1294</td>\n",
       "      <td>0.1277</td>\n",
       "      <td>0.1124</td>\n",
       "      <td>0.1152</td>\n",
       "      <td>:</td>\n",
       "    </tr>\n",
       "    <tr>\n",
       "      <th>1282</th>\n",
       "      <td>6000</td>\n",
       "      <td>4161904</td>\n",
       "      <td>KWH</td>\n",
       "      <td>X_TAX</td>\n",
       "      <td>EUR</td>\n",
       "      <td>ES</td>\n",
       "      <td>0.1608</td>\n",
       "      <td>0.1697</td>\n",
       "      <td>0.1513</td>\n",
       "      <td>0.1482</td>\n",
       "      <td>...</td>\n",
       "      <td>0.1563</td>\n",
       "      <td>0.1426</td>\n",
       "      <td>0.1363</td>\n",
       "      <td>0.1271</td>\n",
       "      <td>0.1266</td>\n",
       "      <td>0.1203</td>\n",
       "      <td>0.1219</td>\n",
       "      <td>0.1021</td>\n",
       "      <td>0.1058</td>\n",
       "      <td>:</td>\n",
       "    </tr>\n",
       "    <tr>\n",
       "      <th>1663</th>\n",
       "      <td>6000</td>\n",
       "      <td>4161905</td>\n",
       "      <td>KWH</td>\n",
       "      <td>X_TAX</td>\n",
       "      <td>EUR</td>\n",
       "      <td>ES</td>\n",
       "      <td>0.1409</td>\n",
       "      <td>0.1414</td>\n",
       "      <td>0.1236</td>\n",
       "      <td>0.1311</td>\n",
       "      <td>...</td>\n",
       "      <td>0.1444</td>\n",
       "      <td>0.1251</td>\n",
       "      <td>0.1244</td>\n",
       "      <td>0.1174</td>\n",
       "      <td>0.1153</td>\n",
       "      <td>0.1163</td>\n",
       "      <td>0.1148</td>\n",
       "      <td>0.0981</td>\n",
       "      <td>0.0976</td>\n",
       "      <td>:</td>\n",
       "    </tr>\n",
       "  </tbody>\n",
       "</table>\n",
       "<p>5 rows × 31 columns</p>\n",
       "</div>"
      ],
      "text/plain": [
       "      product   consom unit    tax currency geo\\time  2019S1  2018S2  2018S1  \\\n",
       "139      6000  4161901  KWH  X_TAX      EUR       ES  0.5166  0.4485  0.4680   \n",
       "520      6000  4161902  KWH  X_TAX      EUR       ES  0.2355  0.2393  0.2303   \n",
       "901      6000  4161903  KWH  X_TAX      EUR       ES  0.1889  0.1947  0.1873   \n",
       "1282     6000  4161904  KWH  X_TAX      EUR       ES  0.1608  0.1697  0.1513   \n",
       "1663     6000  4161905  KWH  X_TAX      EUR       ES  0.1409  0.1414  0.1236   \n",
       "\n",
       "      2017S2  ...  2011S2  2011S1  2010S2  2010S1  2009S2  2009S1  2008S2  \\\n",
       "139   0.4479  ...  0.3044  0.2890  0.2926  0.3174  0.2611  0.2540  0.2622   \n",
       "520   0.2113  ...  0.1870  0.1768  0.1681  0.1622  0.1571  0.1459  0.1475   \n",
       "901   0.1712  ...  0.1684  0.1597  0.1492  0.1417  0.1381  0.1294  0.1277   \n",
       "1282  0.1482  ...  0.1563  0.1426  0.1363  0.1271  0.1266  0.1203  0.1219   \n",
       "1663  0.1311  ...  0.1444  0.1251  0.1244  0.1174  0.1153  0.1163  0.1148   \n",
       "\n",
       "      2008S1  2007S2 2007S1  \n",
       "139   0.2455  0.2424     :   \n",
       "520   0.1299  0.1332     :   \n",
       "901   0.1124  0.1152     :   \n",
       "1282  0.1021  0.1058     :   \n",
       "1663  0.0981  0.0976     :   \n",
       "\n",
       "[5 rows x 31 columns]"
      ]
     },
     "execution_count": 3,
     "metadata": {},
     "output_type": "execute_result"
    }
   ],
   "source": [
    "es_electricity.head()"
   ]
  },
  {
   "cell_type": "code",
   "execution_count": 4,
   "metadata": {},
   "outputs": [],
   "source": [
    "# eliminamos la columna correspondiente al primer semestre de 2007,\n",
    "# ya que no hay datos de esa época\n",
    "es_electricity = es_electricity.drop(columns=\"2007S1\")\n",
    "\n",
    "# le damos la vuelta porque los años están dispuestos del revés\n",
    "# generamos la x que pondremos abajo en nuestra gráfica\n",
    "x = np.flip(es_electricity.columns[6:].to_numpy())\n",
    "\n",
    "# convertimos el DataFrame de pandas a un numpy array para manipularlo más fácilmente\n",
    "nparray = es_electricity.to_numpy()\n",
    "\n",
    "# hacemos lo mismo que con la x, pero con la y\n",
    "y1 = np.flip(nparray[0, 6:])\n",
    "y2 = np.flip(nparray[1, 6:])\n",
    "y3 = np.flip(nparray[2, 6:])\n",
    "y4 = np.flip(nparray[3, 6:])\n",
    "y5 = np.flip(nparray[4, 6:])\n",
    "\n",
    "# el siguiente paso es castearlos a un tipo flotante,\n",
    "# así que nos aseguramos de que los valores no numéricos\n",
    "# no existan\n",
    "\n",
    "y1[y1 == ': '] = -1\n",
    "y2[y2 == ': '] = -1\n",
    "y3[y3 == ': '] = -1\n",
    "y4[y4 == ': '] = -1\n",
    "y5[y5 == ': '] = -1\n",
    "\n",
    "# convertimos el array a float, ya que hasta ahora era\n",
    "# un array de strings\n",
    "y1 = y1.astype(float)\n",
    "y2 = y2.astype(float)\n",
    "y3 = y3.astype(float)\n",
    "y4 = y4.astype(float)\n",
    "y5 = y5.astype(float)\n"
   ]
  },
  {
   "cell_type": "code",
   "execution_count": 5,
   "metadata": {},
   "outputs": [
    {
     "data": {
      "image/png": "[encoded data removed]",
      "text/plain": [
       "<Figure size 1440x720 with 1 Axes>"
      ]
     },
     "metadata": {
      "needs_background": "light"
     },
     "output_type": "display_data"
    }
   ],
   "source": [
    "plt.figure(figsize=(20,10))\n",
    "plt.plot(x, y1)\n",
    "plt.plot(x, y2)\n",
    "plt.plot(x, y3)\n",
    "plt.plot(x, y4)\n",
    "plt.plot(x, y5)\n",
    "\n",
    "legend = [\"< 1000 kWh\", \"1000 kWh < Consumption < 2500 kWh\",\"2500 kWh < Consumption < 5000 kWh\",\"5000 kWh < Consumption < 15000 kWh\",]\n",
    "plt.legend(legend)\n",
    "\n",
    "plt.ylabel('Cost €')\n",
    "plt.xlabel('Time in semesters')\n",
    "\n",
    "plt.title(\"Cost of energy per year per consumption category, no taxes applied\")\n",
    "\n",
    "plt.show()"
   ]
  },
  {
   "cell_type": "code",
   "execution_count": 6,
   "metadata": {},
   "outputs": [
    {
     "data": {
      "text/html": [
       "<div>\n",
       "<style scoped>\n",
       "    .dataframe tbody tr th:only-of-type {\n",
       "        vertical-align: middle;\n",
       "    }\n",
       "\n",
       "    .dataframe tbody tr th {\n",
       "        vertical-align: top;\n",
       "    }\n",
       "\n",
       "    .dataframe thead th {\n",
       "        text-align: right;\n",
       "    }\n",
       "</style>\n",
       "<table border=\"1\" class=\"dataframe\">\n",
       "  <thead>\n",
       "    <tr style=\"text-align: right;\">\n",
       "      <th></th>\n",
       "      <th>product</th>\n",
       "      <th>consom</th>\n",
       "      <th>unit</th>\n",
       "      <th>tax</th>\n",
       "      <th>currency</th>\n",
       "      <th>geo\\time</th>\n",
       "      <th>semester</th>\n",
       "      <th>cost</th>\n",
       "    </tr>\n",
       "  </thead>\n",
       "  <tbody>\n",
       "    <tr>\n",
       "      <th>0</th>\n",
       "      <td>6000</td>\n",
       "      <td>4161901</td>\n",
       "      <td>KWH</td>\n",
       "      <td>I_TAX</td>\n",
       "      <td>EUR</td>\n",
       "      <td>AL</td>\n",
       "      <td>2019S1</td>\n",
       "      <td>:</td>\n",
       "    </tr>\n",
       "    <tr>\n",
       "      <th>1</th>\n",
       "      <td>6000</td>\n",
       "      <td>4161901</td>\n",
       "      <td>KWH</td>\n",
       "      <td>I_TAX</td>\n",
       "      <td>EUR</td>\n",
       "      <td>AT</td>\n",
       "      <td>2019S1</td>\n",
       "      <td>0.3796</td>\n",
       "    </tr>\n",
       "    <tr>\n",
       "      <th>2</th>\n",
       "      <td>6000</td>\n",
       "      <td>4161901</td>\n",
       "      <td>KWH</td>\n",
       "      <td>I_TAX</td>\n",
       "      <td>EUR</td>\n",
       "      <td>BA</td>\n",
       "      <td>2019S1</td>\n",
       "      <td>0.2090</td>\n",
       "    </tr>\n",
       "    <tr>\n",
       "      <th>3</th>\n",
       "      <td>6000</td>\n",
       "      <td>4161901</td>\n",
       "      <td>KWH</td>\n",
       "      <td>I_TAX</td>\n",
       "      <td>EUR</td>\n",
       "      <td>BE</td>\n",
       "      <td>2019S1</td>\n",
       "      <td>0.4742</td>\n",
       "    </tr>\n",
       "    <tr>\n",
       "      <th>4</th>\n",
       "      <td>6000</td>\n",
       "      <td>4161901</td>\n",
       "      <td>KWH</td>\n",
       "      <td>I_TAX</td>\n",
       "      <td>EUR</td>\n",
       "      <td>BG</td>\n",
       "      <td>2019S1</td>\n",
       "      <td>0.1014</td>\n",
       "    </tr>\n",
       "  </tbody>\n",
       "</table>\n",
       "</div>"
      ],
      "text/plain": [
       "   product   consom unit    tax currency geo\\time semester    cost\n",
       "0     6000  4161901  KWH  I_TAX      EUR       AL   2019S1      : \n",
       "1     6000  4161901  KWH  I_TAX      EUR       AT   2019S1  0.3796\n",
       "2     6000  4161901  KWH  I_TAX      EUR       BA   2019S1  0.2090\n",
       "3     6000  4161901  KWH  I_TAX      EUR       BE   2019S1  0.4742\n",
       "4     6000  4161901  KWH  I_TAX      EUR       BG   2019S1  0.1014"
      ]
     },
     "execution_count": 6,
     "metadata": {},
     "output_type": "execute_result"
    }
   ],
   "source": [
    "elec_melt = electricity_prices.melt(\n",
    "    id_vars=['product', 'consom', 'unit', 'tax', 'currency', 'geo\\\\time'],\n",
    "    var_name='semester',\n",
    "    value_name='cost'\n",
    ")\n",
    "\n",
    "elec_melt.head()"
   ]
  },
  {
   "cell_type": "code",
   "execution_count": 7,
   "metadata": {},
   "outputs": [
    {
     "data": {
      "text/html": [
       "<div>\n",
       "<style scoped>\n",
       "    .dataframe tbody tr th:only-of-type {\n",
       "        vertical-align: middle;\n",
       "    }\n",
       "\n",
       "    .dataframe tbody tr th {\n",
       "        vertical-align: top;\n",
       "    }\n",
       "\n",
       "    .dataframe thead th {\n",
       "        text-align: right;\n",
       "    }\n",
       "</style>\n",
       "<table border=\"1\" class=\"dataframe\">\n",
       "  <thead>\n",
       "    <tr style=\"text-align: right;\">\n",
       "      <th></th>\n",
       "      <th>product</th>\n",
       "      <th>consom</th>\n",
       "      <th>unit</th>\n",
       "      <th>tax</th>\n",
       "      <th>currency</th>\n",
       "      <th>geo\\time</th>\n",
       "      <th>semester</th>\n",
       "      <th>cost</th>\n",
       "    </tr>\n",
       "  </thead>\n",
       "  <tbody>\n",
       "    <tr>\n",
       "      <th>12</th>\n",
       "      <td>6000</td>\n",
       "      <td>4161901</td>\n",
       "      <td>KWH</td>\n",
       "      <td>I_TAX</td>\n",
       "      <td>EUR</td>\n",
       "      <td>ES</td>\n",
       "      <td>2019S1</td>\n",
       "      <td>0.6570</td>\n",
       "    </tr>\n",
       "    <tr>\n",
       "      <th>56</th>\n",
       "      <td>6000</td>\n",
       "      <td>4161901</td>\n",
       "      <td>KWH</td>\n",
       "      <td>I_TAX</td>\n",
       "      <td>NAT</td>\n",
       "      <td>ES</td>\n",
       "      <td>2019S1</td>\n",
       "      <td>0.6570</td>\n",
       "    </tr>\n",
       "    <tr>\n",
       "      <th>100</th>\n",
       "      <td>6000</td>\n",
       "      <td>4161901</td>\n",
       "      <td>KWH</td>\n",
       "      <td>I_TAX</td>\n",
       "      <td>PPS</td>\n",
       "      <td>ES</td>\n",
       "      <td>2019S1</td>\n",
       "      <td>0.7183</td>\n",
       "    </tr>\n",
       "    <tr>\n",
       "      <th>139</th>\n",
       "      <td>6000</td>\n",
       "      <td>4161901</td>\n",
       "      <td>KWH</td>\n",
       "      <td>X_TAX</td>\n",
       "      <td>EUR</td>\n",
       "      <td>ES</td>\n",
       "      <td>2019S1</td>\n",
       "      <td>0.5166</td>\n",
       "    </tr>\n",
       "    <tr>\n",
       "      <th>183</th>\n",
       "      <td>6000</td>\n",
       "      <td>4161901</td>\n",
       "      <td>KWH</td>\n",
       "      <td>X_TAX</td>\n",
       "      <td>NAT</td>\n",
       "      <td>ES</td>\n",
       "      <td>2019S1</td>\n",
       "      <td>0.5166</td>\n",
       "    </tr>\n",
       "  </tbody>\n",
       "</table>\n",
       "</div>"
      ],
      "text/plain": [
       "     product   consom unit    tax currency geo\\time semester    cost\n",
       "12      6000  4161901  KWH  I_TAX      EUR       ES   2019S1  0.6570\n",
       "56      6000  4161901  KWH  I_TAX      NAT       ES   2019S1  0.6570\n",
       "100     6000  4161901  KWH  I_TAX      PPS       ES   2019S1  0.7183\n",
       "139     6000  4161901  KWH  X_TAX      EUR       ES   2019S1  0.5166\n",
       "183     6000  4161901  KWH  X_TAX      NAT       ES   2019S1  0.5166"
      ]
     },
     "execution_count": 7,
     "metadata": {},
     "output_type": "execute_result"
    }
   ],
   "source": [
    "es_melt = elec_melt[elec_melt['geo\\\\time'] == 'ES']\n",
    "es_melt.head()"
   ]
  },
  {
   "cell_type": "code",
   "execution_count": 8,
   "metadata": {},
   "outputs": [
    {
     "data": {
      "text/html": [
       "<div>\n",
       "<style scoped>\n",
       "    .dataframe tbody tr th:only-of-type {\n",
       "        vertical-align: middle;\n",
       "    }\n",
       "\n",
       "    .dataframe tbody tr th {\n",
       "        vertical-align: top;\n",
       "    }\n",
       "\n",
       "    .dataframe thead th {\n",
       "        text-align: right;\n",
       "    }\n",
       "</style>\n",
       "<table border=\"1\" class=\"dataframe\">\n",
       "  <thead>\n",
       "    <tr style=\"text-align: right;\">\n",
       "      <th></th>\n",
       "      <th>TIME</th>\n",
       "      <th>GEO</th>\n",
       "      <th>NRG_BAL</th>\n",
       "      <th>UNIT</th>\n",
       "      <th>Value</th>\n",
       "      <th>Flag and Footnotes</th>\n",
       "    </tr>\n",
       "  </thead>\n",
       "  <tbody>\n",
       "    <tr>\n",
       "      <th>0</th>\n",
       "      <td>2008</td>\n",
       "      <td>European Union - 28 countries</td>\n",
       "      <td>Renewable energy sources</td>\n",
       "      <td>Percentage</td>\n",
       "      <td>11.325</td>\n",
       "      <td>NaN</td>\n",
       "    </tr>\n",
       "    <tr>\n",
       "      <th>1</th>\n",
       "      <td>2008</td>\n",
       "      <td>Belgium</td>\n",
       "      <td>Renewable energy sources</td>\n",
       "      <td>Percentage</td>\n",
       "      <td>3.591</td>\n",
       "      <td>NaN</td>\n",
       "    </tr>\n",
       "    <tr>\n",
       "      <th>2</th>\n",
       "      <td>2008</td>\n",
       "      <td>Bulgaria</td>\n",
       "      <td>Renewable energy sources</td>\n",
       "      <td>Percentage</td>\n",
       "      <td>10.492</td>\n",
       "      <td>NaN</td>\n",
       "    </tr>\n",
       "    <tr>\n",
       "      <th>3</th>\n",
       "      <td>2008</td>\n",
       "      <td>Czechia</td>\n",
       "      <td>Renewable energy sources</td>\n",
       "      <td>Percentage</td>\n",
       "      <td>8.626</td>\n",
       "      <td>NaN</td>\n",
       "    </tr>\n",
       "    <tr>\n",
       "      <th>4</th>\n",
       "      <td>2008</td>\n",
       "      <td>Denmark</td>\n",
       "      <td>Renewable energy sources</td>\n",
       "      <td>Percentage</td>\n",
       "      <td>18.564</td>\n",
       "      <td>NaN</td>\n",
       "    </tr>\n",
       "  </tbody>\n",
       "</table>\n",
       "</div>"
      ],
      "text/plain": [
       "   TIME                            GEO                   NRG_BAL        UNIT  \\\n",
       "0  2008  European Union - 28 countries  Renewable energy sources  Percentage   \n",
       "1  2008                        Belgium  Renewable energy sources  Percentage   \n",
       "2  2008                       Bulgaria  Renewable energy sources  Percentage   \n",
       "3  2008                        Czechia  Renewable energy sources  Percentage   \n",
       "4  2008                        Denmark  Renewable energy sources  Percentage   \n",
       "\n",
       "    Value  Flag and Footnotes  \n",
       "0  11.325                 NaN  \n",
       "1   3.591                 NaN  \n",
       "2  10.492                 NaN  \n",
       "3   8.626                 NaN  \n",
       "4  18.564                 NaN  "
      ]
     },
     "execution_count": 8,
     "metadata": {},
     "output_type": "execute_result"
    }
   ],
   "source": [
    "renewable = pd.read_csv(\"share_renewable.csv\");\n",
    "renewable.head()"
   ]
  },
  {
   "cell_type": "code",
   "execution_count": 9,
   "metadata": {},
   "outputs": [
    {
     "data": {
      "text/html": [
       "<div>\n",
       "<style scoped>\n",
       "    .dataframe tbody tr th:only-of-type {\n",
       "        vertical-align: middle;\n",
       "    }\n",
       "\n",
       "    .dataframe tbody tr th {\n",
       "        vertical-align: top;\n",
       "    }\n",
       "\n",
       "    .dataframe thead th {\n",
       "        text-align: right;\n",
       "    }\n",
       "</style>\n",
       "<table border=\"1\" class=\"dataframe\">\n",
       "  <thead>\n",
       "    <tr style=\"text-align: right;\">\n",
       "      <th></th>\n",
       "      <th>TIME</th>\n",
       "      <th>GEO</th>\n",
       "      <th>NRG_BAL</th>\n",
       "      <th>UNIT</th>\n",
       "      <th>Value</th>\n",
       "      <th>Flag and Footnotes</th>\n",
       "    </tr>\n",
       "  </thead>\n",
       "  <tbody>\n",
       "    <tr>\n",
       "      <th>9</th>\n",
       "      <td>2008</td>\n",
       "      <td>Spain</td>\n",
       "      <td>Renewable energy sources</td>\n",
       "      <td>Percentage</td>\n",
       "      <td>10.737</td>\n",
       "      <td>NaN</td>\n",
       "    </tr>\n",
       "    <tr>\n",
       "      <th>46</th>\n",
       "      <td>2009</td>\n",
       "      <td>Spain</td>\n",
       "      <td>Renewable energy sources</td>\n",
       "      <td>Percentage</td>\n",
       "      <td>12.963</td>\n",
       "      <td>NaN</td>\n",
       "    </tr>\n",
       "    <tr>\n",
       "      <th>83</th>\n",
       "      <td>2010</td>\n",
       "      <td>Spain</td>\n",
       "      <td>Renewable energy sources</td>\n",
       "      <td>Percentage</td>\n",
       "      <td>13.810</td>\n",
       "      <td>NaN</td>\n",
       "    </tr>\n",
       "    <tr>\n",
       "      <th>120</th>\n",
       "      <td>2011</td>\n",
       "      <td>Spain</td>\n",
       "      <td>Renewable energy sources</td>\n",
       "      <td>Percentage</td>\n",
       "      <td>13.224</td>\n",
       "      <td>NaN</td>\n",
       "    </tr>\n",
       "    <tr>\n",
       "      <th>157</th>\n",
       "      <td>2012</td>\n",
       "      <td>Spain</td>\n",
       "      <td>Renewable energy sources</td>\n",
       "      <td>Percentage</td>\n",
       "      <td>14.286</td>\n",
       "      <td>NaN</td>\n",
       "    </tr>\n",
       "  </tbody>\n",
       "</table>\n",
       "</div>"
      ],
      "text/plain": [
       "     TIME    GEO                   NRG_BAL        UNIT   Value  \\\n",
       "9    2008  Spain  Renewable energy sources  Percentage  10.737   \n",
       "46   2009  Spain  Renewable energy sources  Percentage  12.963   \n",
       "83   2010  Spain  Renewable energy sources  Percentage  13.810   \n",
       "120  2011  Spain  Renewable energy sources  Percentage  13.224   \n",
       "157  2012  Spain  Renewable energy sources  Percentage  14.286   \n",
       "\n",
       "     Flag and Footnotes  \n",
       "9                   NaN  \n",
       "46                  NaN  \n",
       "83                  NaN  \n",
       "120                 NaN  \n",
       "157                 NaN  "
      ]
     },
     "execution_count": 9,
     "metadata": {},
     "output_type": "execute_result"
    }
   ],
   "source": [
    "es_renewable = renewable[renewable['GEO'] == 'Spain']\n",
    "es_renewable.head()"
   ]
  },
  {
   "cell_type": "code",
   "execution_count": 10,
   "metadata": {},
   "outputs": [],
   "source": [
    "x = es_renewable.TIME\n",
    "y = es_renewable.Value"
   ]
  },
  {
   "cell_type": "code",
   "execution_count": 11,
   "metadata": {},
   "outputs": [
    {
     "data": {
      "image/png": "[encoded data removed]",
      "text/plain": [
       "<Figure size 432x288 with 1 Axes>"
      ]
     },
     "metadata": {
      "needs_background": "light"
     },
     "output_type": "display_data"
    }
   ],
   "source": [
    "plt.plot(x, y)\n",
    "plt.show()"
   ]
  },
  {
   "cell_type": "code",
   "execution_count": 12,
   "metadata": {},
   "outputs": [
    {
     "data": {
      "text/html": [
       "<div>\n",
       "<style scoped>\n",
       "    .dataframe tbody tr th:only-of-type {\n",
       "        vertical-align: middle;\n",
       "    }\n",
       "\n",
       "    .dataframe tbody tr th {\n",
       "        vertical-align: top;\n",
       "    }\n",
       "\n",
       "    .dataframe thead th {\n",
       "        text-align: right;\n",
       "    }\n",
       "</style>\n",
       "<table border=\"1\" class=\"dataframe\">\n",
       "  <thead>\n",
       "    <tr style=\"text-align: right;\">\n",
       "      <th></th>\n",
       "      <th>TIME</th>\n",
       "      <th>GEO</th>\n",
       "      <th>NRG_BAL</th>\n",
       "      <th>SIEC</th>\n",
       "      <th>UNIT</th>\n",
       "      <th>Value</th>\n",
       "      <th>Flag and Footnotes</th>\n",
       "    </tr>\n",
       "  </thead>\n",
       "  <tbody>\n",
       "    <tr>\n",
       "      <th>0</th>\n",
       "      <td>2008</td>\n",
       "      <td>European Union - 28 countries</td>\n",
       "      <td>Inland consumption - calculated</td>\n",
       "      <td>Geothermal</td>\n",
       "      <td>Terajoule</td>\n",
       "      <td>235 262.865</td>\n",
       "      <td>NaN</td>\n",
       "    </tr>\n",
       "    <tr>\n",
       "      <th>1</th>\n",
       "      <td>2008</td>\n",
       "      <td>European Union - 28 countries</td>\n",
       "      <td>Inland consumption - calculated</td>\n",
       "      <td>Solar thermal</td>\n",
       "      <td>Terajoule</td>\n",
       "      <td>46 004.286</td>\n",
       "      <td>NaN</td>\n",
       "    </tr>\n",
       "    <tr>\n",
       "      <th>2</th>\n",
       "      <td>2008</td>\n",
       "      <td>European Union - 28 countries</td>\n",
       "      <td>Inland consumption - calculated</td>\n",
       "      <td>Primary solid biofuels</td>\n",
       "      <td>Terajoule</td>\n",
       "      <td>3 268 114.691</td>\n",
       "      <td>NaN</td>\n",
       "    </tr>\n",
       "    <tr>\n",
       "      <th>3</th>\n",
       "      <td>2008</td>\n",
       "      <td>European Union - 28 countries</td>\n",
       "      <td>Inland consumption - calculated</td>\n",
       "      <td>Biogases</td>\n",
       "      <td>Terajoule</td>\n",
       "      <td>280 015.181</td>\n",
       "      <td>NaN</td>\n",
       "    </tr>\n",
       "    <tr>\n",
       "      <th>4</th>\n",
       "      <td>2008</td>\n",
       "      <td>European Union - 28 countries</td>\n",
       "      <td>Inland consumption - calculated</td>\n",
       "      <td>Renewable municipal waste</td>\n",
       "      <td>Terajoule</td>\n",
       "      <td>303 233.213</td>\n",
       "      <td>NaN</td>\n",
       "    </tr>\n",
       "  </tbody>\n",
       "</table>\n",
       "</div>"
      ],
      "text/plain": [
       "   TIME                            GEO                          NRG_BAL  \\\n",
       "0  2008  European Union - 28 countries  Inland consumption - calculated   \n",
       "1  2008  European Union - 28 countries  Inland consumption - calculated   \n",
       "2  2008  European Union - 28 countries  Inland consumption - calculated   \n",
       "3  2008  European Union - 28 countries  Inland consumption - calculated   \n",
       "4  2008  European Union - 28 countries  Inland consumption - calculated   \n",
       "\n",
       "                        SIEC       UNIT          Value  Flag and Footnotes  \n",
       "0                 Geothermal  Terajoule    235 262.865                 NaN  \n",
       "1              Solar thermal  Terajoule     46 004.286                 NaN  \n",
       "2     Primary solid biofuels  Terajoule  3 268 114.691                 NaN  \n",
       "3                   Biogases  Terajoule    280 015.181                 NaN  \n",
       "4  Renewable municipal waste  Terajoule    303 233.213                 NaN  "
      ]
     },
     "execution_count": 12,
     "metadata": {},
     "output_type": "execute_result"
    }
   ],
   "source": [
    "supply_consumption = pd.read_csv(\"supply_consumption_renewables.csv\")\n",
    "supply_consumption.head()"
   ]
  },
  {
   "cell_type": "code",
   "execution_count": 13,
   "metadata": {},
   "outputs": [
    {
     "data": {
      "text/html": [
       "<div>\n",
       "<style scoped>\n",
       "    .dataframe tbody tr th:only-of-type {\n",
       "        vertical-align: middle;\n",
       "    }\n",
       "\n",
       "    .dataframe tbody tr th {\n",
       "        vertical-align: top;\n",
       "    }\n",
       "\n",
       "    .dataframe thead th {\n",
       "        text-align: right;\n",
       "    }\n",
       "</style>\n",
       "<table border=\"1\" class=\"dataframe\">\n",
       "  <thead>\n",
       "    <tr style=\"text-align: right;\">\n",
       "      <th></th>\n",
       "      <th>TIME</th>\n",
       "      <th>GEO</th>\n",
       "      <th>NRG_BAL</th>\n",
       "      <th>SIEC</th>\n",
       "      <th>UNIT</th>\n",
       "      <th>Value</th>\n",
       "      <th>Flag and Footnotes</th>\n",
       "    </tr>\n",
       "  </thead>\n",
       "  <tbody>\n",
       "    <tr>\n",
       "      <th>50</th>\n",
       "      <td>2008</td>\n",
       "      <td>Spain</td>\n",
       "      <td>Inland consumption - calculated</td>\n",
       "      <td>Geothermal</td>\n",
       "      <td>Terajoule</td>\n",
       "      <td>459.000</td>\n",
       "      <td>NaN</td>\n",
       "    </tr>\n",
       "    <tr>\n",
       "      <th>51</th>\n",
       "      <td>2008</td>\n",
       "      <td>Spain</td>\n",
       "      <td>Inland consumption - calculated</td>\n",
       "      <td>Solar thermal</td>\n",
       "      <td>Terajoule</td>\n",
       "      <td>5 378.234</td>\n",
       "      <td>NaN</td>\n",
       "    </tr>\n",
       "    <tr>\n",
       "      <th>52</th>\n",
       "      <td>2008</td>\n",
       "      <td>Spain</td>\n",
       "      <td>Inland consumption - calculated</td>\n",
       "      <td>Primary solid biofuels</td>\n",
       "      <td>Terajoule</td>\n",
       "      <td>176 143.000</td>\n",
       "      <td>NaN</td>\n",
       "    </tr>\n",
       "    <tr>\n",
       "      <th>53</th>\n",
       "      <td>2008</td>\n",
       "      <td>Spain</td>\n",
       "      <td>Inland consumption - calculated</td>\n",
       "      <td>Biogases</td>\n",
       "      <td>Terajoule</td>\n",
       "      <td>8 660.000</td>\n",
       "      <td>NaN</td>\n",
       "    </tr>\n",
       "    <tr>\n",
       "      <th>54</th>\n",
       "      <td>2008</td>\n",
       "      <td>Spain</td>\n",
       "      <td>Inland consumption - calculated</td>\n",
       "      <td>Renewable municipal waste</td>\n",
       "      <td>Terajoule</td>\n",
       "      <td>13 735.000</td>\n",
       "      <td>NaN</td>\n",
       "    </tr>\n",
       "  </tbody>\n",
       "</table>\n",
       "</div>"
      ],
      "text/plain": [
       "    TIME    GEO                          NRG_BAL                       SIEC  \\\n",
       "50  2008  Spain  Inland consumption - calculated                 Geothermal   \n",
       "51  2008  Spain  Inland consumption - calculated              Solar thermal   \n",
       "52  2008  Spain  Inland consumption - calculated     Primary solid biofuels   \n",
       "53  2008  Spain  Inland consumption - calculated                   Biogases   \n",
       "54  2008  Spain  Inland consumption - calculated  Renewable municipal waste   \n",
       "\n",
       "         UNIT        Value  Flag and Footnotes  \n",
       "50  Terajoule      459.000                 NaN  \n",
       "51  Terajoule    5 378.234                 NaN  \n",
       "52  Terajoule  176 143.000                 NaN  \n",
       "53  Terajoule    8 660.000                 NaN  \n",
       "54  Terajoule   13 735.000                 NaN  "
      ]
     },
     "execution_count": 13,
     "metadata": {},
     "output_type": "execute_result"
    }
   ],
   "source": [
    "es_supply = supply_consumption[supply_consumption['GEO'] == 'Spain']\n",
    "es_supply.head()"
   ]
  },
  {
   "cell_type": "code",
   "execution_count": 14,
   "metadata": {},
   "outputs": [],
   "source": [
    "es_supply = es_supply.reset_index()\n",
    "categories = es_supply.SIEC"
   ]
  },
  {
   "cell_type": "code",
   "execution_count": 15,
   "metadata": {},
   "outputs": [
    {
     "data": {
      "text/plain": [
       "0                   Geothermal\n",
       "1                Solar thermal\n",
       "2       Primary solid biofuels\n",
       "3                     Biogases\n",
       "4    Renewable municipal waste\n",
       "Name: SIEC, dtype: object"
      ]
     },
     "execution_count": 15,
     "metadata": {},
     "output_type": "execute_result"
    }
   ],
   "source": [
    "categories.head()"
   ]
  },
  {
   "cell_type": "code",
   "execution_count": 16,
   "metadata": {},
   "outputs": [],
   "source": [
    "categories = categories.drop_duplicates()"
   ]
  },
  {
   "cell_type": "code",
   "execution_count": 17,
   "metadata": {},
   "outputs": [
    {
     "data": {
      "text/plain": [
       "0                   Geothermal\n",
       "1                Solar thermal\n",
       "2       Primary solid biofuels\n",
       "3                     Biogases\n",
       "4    Renewable municipal waste\n",
       "Name: SIEC, dtype: object"
      ]
     },
     "execution_count": 17,
     "metadata": {},
     "output_type": "execute_result"
    }
   ],
   "source": [
    "categories"
   ]
  },
  {
   "cell_type": "code",
   "execution_count": 18,
   "metadata": {},
   "outputs": [],
   "source": [
    "x = es_supply.TIME\n",
    "x = x.drop_duplicates()"
   ]
  },
  {
   "cell_type": "code",
   "execution_count": 19,
   "metadata": {},
   "outputs": [
    {
     "data": {
      "text/plain": [
       "0     459.0\n",
       "5     572.0\n",
       "10    670.0\n",
       "15    703.0\n",
       "20    738.0\n",
       "25    758.0\n",
       "30    789.0\n",
       "35    789.0\n",
       "40    789.0\n",
       "45    789.0\n",
       "Name: Value, dtype: float64"
      ]
     },
     "execution_count": 19,
     "metadata": {},
     "output_type": "execute_result"
    }
   ],
   "source": [
    "yGeo = es_supply[es_supply['SIEC'] == categories.get(0)].Value\n",
    "yGeo = yGeo.astype(float)\n",
    "yGeo"
   ]
  },
  {
   "cell_type": "code",
   "execution_count": 20,
   "metadata": {},
   "outputs": [
    {
     "data": {
      "text/plain": [
       "1       5378.234\n",
       "6       8272.054\n",
       "11     20195.687\n",
       "16     29791.363\n",
       "21     71327.148\n",
       "26     88434.891\n",
       "31    100519.635\n",
       "36    103552.466\n",
       "41    104013.015\n",
       "46    109660.141\n",
       "Name: Value, dtype: float64"
      ]
     },
     "execution_count": 20,
     "metadata": {},
     "output_type": "execute_result"
    }
   ],
   "source": [
    "ySol = es_supply[es_supply['SIEC'] == categories.get(1)].Value\n",
    "ySol = (ySol.str.replace(\" \", \"\")).astype(float)\n",
    "ySol"
   ]
  },
  {
   "cell_type": "code",
   "execution_count": 21,
   "metadata": {},
   "outputs": [
    {
     "data": {
      "text/plain": [
       "2     176143.0\n",
       "7     197256.0\n",
       "12    195340.0\n",
       "17    207226.0\n",
       "22    213321.0\n",
       "27    224214.0\n",
       "32    220876.0\n",
       "37    220234.0\n",
       "42    223019.0\n",
       "47    229133.0\n",
       "Name: Value, dtype: float64"
      ]
     },
     "execution_count": 21,
     "metadata": {},
     "output_type": "execute_result"
    }
   ],
   "source": [
    "yBio = es_supply[es_supply['SIEC'] == categories.get(2)].Value\n",
    "yBio = (yBio.str.replace(\" \", \"\")).astype(float)\n",
    "yBio"
   ]
  },
  {
   "cell_type": "code",
   "execution_count": 22,
   "metadata": {},
   "outputs": [
    {
     "data": {
      "text/plain": [
       "3      8660.0\n",
       "8      8107.0\n",
       "13    11600.0\n",
       "18    11520.0\n",
       "23    12179.0\n",
       "28    20072.0\n",
       "33    14791.0\n",
       "38    10954.0\n",
       "43    10264.0\n",
       "48    10943.0\n",
       "Name: Value, dtype: float64"
      ]
     },
     "execution_count": 22,
     "metadata": {},
     "output_type": "execute_result"
    }
   ],
   "source": [
    "yGas = es_supply[es_supply['SIEC'] == categories.get(3)].Value\n",
    "yGas = (yGas.str.replace(\" \", \"\")).astype(float)\n",
    "yGas"
   ]
  },
  {
   "cell_type": "code",
   "execution_count": 23,
   "metadata": {},
   "outputs": [
    {
     "data": {
      "text/plain": [
       "4     13735.0\n",
       "9     13364.0\n",
       "14     7293.0\n",
       "19     8166.0\n",
       "24     7355.0\n",
       "29     8362.0\n",
       "34     8549.0\n",
       "39    10551.0\n",
       "44     9849.0\n",
       "49    10871.5\n",
       "Name: Value, dtype: float64"
      ]
     },
     "execution_count": 23,
     "metadata": {},
     "output_type": "execute_result"
    }
   ],
   "source": [
    "yWaste = es_supply[es_supply['SIEC'] == categories.get(4)].Value\n",
    "yWaste = (yWaste.str.replace(\" \", \"\")).astype(float)\n",
    "yWaste"
   ]
  },
  {
   "cell_type": "code",
   "execution_count": 26,
   "metadata": {},
   "outputs": [
    {
     "data": {
      "image/png": "[encoded data removed]",
      "text/plain": [
       "<Figure size 1080x504 with 1 Axes>"
      ]
     },
     "metadata": {
      "needs_background": "light"
     },
     "output_type": "display_data"
    }
   ],
   "source": [
    "plt.figure(figsize=(15, 7))\n",
    "plt.plot(x, yGeo, x, ySol, x, yBio, x, yGas, x, yWaste)\n",
    "plt.xlabel('Año')\n",
    "plt.ylabel('Consumo (TJ)')\n",
    "plt.title('Consumo de las distintas energías en terajulios por año')\n",
    "plt.yscale('log')\n",
    "plt.legend(['Geotérmica', 'Solar', 'Biofuels', 'Gas', 'Renovables & Desperdicios'])\n",
    "plt.show()"
   ]
  },
  {
   "cell_type": "code",
   "execution_count": null,
   "metadata": {},
   "outputs": [],
   "source": []
  }
 ],
 "metadata": {
  "kernelspec": {
   "display_name": "Python 3",
   "language": "python",
   "name": "python3"
  },
  "language_info": {
   "codemirror_mode": {
    "name": "ipython",
    "version": 3
   },
   "file_extension": ".py",
   "mimetype": "text/x-python",
   "name": "python",
   "nbconvert_exporter": "python",
   "pygments_lexer": "ipython3",
   "version": "3.7.3"
  }
 },
 "nbformat": 4,
 "nbformat_minor": 4
}
