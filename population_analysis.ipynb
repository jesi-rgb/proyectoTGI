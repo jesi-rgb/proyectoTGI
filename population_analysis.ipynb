{
 "cells": [
  {
   "cell_type": "code",
   "execution_count": 1,
   "metadata": {},
   "outputs": [],
   "source": [
    "import numpy, pandas as pd, matplotlib.pyplot as plt"
   ]
  },
  {
   "cell_type": "code",
   "execution_count": 2,
   "metadata": {},
   "outputs": [],
   "source": [
    "pop_dis = pd.read_csv(\"population_distribution.csv\")"
   ]
  },
  {
   "cell_type": "code",
   "execution_count": 3,
   "metadata": {},
   "outputs": [
    {
     "data": {
      "text/html": [
       "<div>\n",
       "<style scoped>\n",
       "    .dataframe tbody tr th:only-of-type {\n",
       "        vertical-align: middle;\n",
       "    }\n",
       "\n",
       "    .dataframe tbody tr th {\n",
       "        vertical-align: top;\n",
       "    }\n",
       "\n",
       "    .dataframe thead th {\n",
       "        text-align: right;\n",
       "    }\n",
       "</style>\n",
       "<table border=\"1\" class=\"dataframe\">\n",
       "  <thead>\n",
       "    <tr style=\"text-align: right;\">\n",
       "      <th></th>\n",
       "      <th>TIME</th>\n",
       "      <th>GEO</th>\n",
       "      <th>AGE</th>\n",
       "      <th>SEX</th>\n",
       "      <th>Value</th>\n",
       "      <th>Flag and Footnotes</th>\n",
       "    </tr>\n",
       "  </thead>\n",
       "  <tbody>\n",
       "    <tr>\n",
       "      <th>0</th>\n",
       "      <td>2009</td>\n",
       "      <td>European Union (EU6-1958, EU9-1973, EU10-1981,...</td>\n",
       "      <td>18 years or over</td>\n",
       "      <td>Total</td>\n",
       "      <td>:</td>\n",
       "      <td>NaN</td>\n",
       "    </tr>\n",
       "    <tr>\n",
       "      <th>1</th>\n",
       "      <td>2009</td>\n",
       "      <td>European Union - 28 countries</td>\n",
       "      <td>18 years or over</td>\n",
       "      <td>Total</td>\n",
       "      <td>:</td>\n",
       "      <td>NaN</td>\n",
       "    </tr>\n",
       "    <tr>\n",
       "      <th>2</th>\n",
       "      <td>2009</td>\n",
       "      <td>European Union - 27 countries (2007-2013)</td>\n",
       "      <td>18 years or over</td>\n",
       "      <td>Total</td>\n",
       "      <td>80.8</td>\n",
       "      <td>NaN</td>\n",
       "    </tr>\n",
       "    <tr>\n",
       "      <th>3</th>\n",
       "      <td>2009</td>\n",
       "      <td>Euro area (EA11-2000, EA12-2006, EA13-2007, EA...</td>\n",
       "      <td>18 years or over</td>\n",
       "      <td>Total</td>\n",
       "      <td>:</td>\n",
       "      <td>NaN</td>\n",
       "    </tr>\n",
       "    <tr>\n",
       "      <th>4</th>\n",
       "      <td>2009</td>\n",
       "      <td>Euro area (19 countries)</td>\n",
       "      <td>18 years or over</td>\n",
       "      <td>Total</td>\n",
       "      <td>81.2</td>\n",
       "      <td>NaN</td>\n",
       "    </tr>\n",
       "  </tbody>\n",
       "</table>\n",
       "</div>"
      ],
      "text/plain": [
       "   TIME                                                GEO               AGE  \\\n",
       "0  2009  European Union (EU6-1958, EU9-1973, EU10-1981,...  18 years or over   \n",
       "1  2009                      European Union - 28 countries  18 years or over   \n",
       "2  2009          European Union - 27 countries (2007-2013)  18 years or over   \n",
       "3  2009  Euro area (EA11-2000, EA12-2006, EA13-2007, EA...  18 years or over   \n",
       "4  2009                           Euro area (19 countries)  18 years or over   \n",
       "\n",
       "     SEX Value Flag and Footnotes  \n",
       "0  Total     :                NaN  \n",
       "1  Total     :                NaN  \n",
       "2  Total  80.8                NaN  \n",
       "3  Total     :                NaN  \n",
       "4  Total  81.2                NaN  "
      ]
     },
     "execution_count": 3,
     "metadata": {},
     "output_type": "execute_result"
    }
   ],
   "source": [
    "pop_dis.head()"
   ]
  },
  {
   "cell_type": "code",
   "execution_count": 4,
   "metadata": {},
   "outputs": [],
   "source": [
    "pop_dis_esp = pop_dis[pop_dis['GEO'] == 'Spain']"
   ]
  },
  {
   "cell_type": "code",
   "execution_count": 5,
   "metadata": {},
   "outputs": [
    {
     "data": {
      "text/html": [
       "<div>\n",
       "<style scoped>\n",
       "    .dataframe tbody tr th:only-of-type {\n",
       "        vertical-align: middle;\n",
       "    }\n",
       "\n",
       "    .dataframe tbody tr th {\n",
       "        vertical-align: top;\n",
       "    }\n",
       "\n",
       "    .dataframe thead th {\n",
       "        text-align: right;\n",
       "    }\n",
       "</style>\n",
       "<table border=\"1\" class=\"dataframe\">\n",
       "  <thead>\n",
       "    <tr style=\"text-align: right;\">\n",
       "      <th></th>\n",
       "      <th>TIME</th>\n",
       "      <th>GEO</th>\n",
       "      <th>AGE</th>\n",
       "      <th>SEX</th>\n",
       "      <th>Value</th>\n",
       "      <th>Flag and Footnotes</th>\n",
       "    </tr>\n",
       "  </thead>\n",
       "  <tbody>\n",
       "    <tr>\n",
       "      <th>14</th>\n",
       "      <td>2009</td>\n",
       "      <td>Spain</td>\n",
       "      <td>18 years or over</td>\n",
       "      <td>Total</td>\n",
       "      <td>82.1</td>\n",
       "      <td>b</td>\n",
       "    </tr>\n",
       "    <tr>\n",
       "      <th>54</th>\n",
       "      <td>2010</td>\n",
       "      <td>Spain</td>\n",
       "      <td>18 years or over</td>\n",
       "      <td>Total</td>\n",
       "      <td>82.0</td>\n",
       "      <td>NaN</td>\n",
       "    </tr>\n",
       "    <tr>\n",
       "      <th>94</th>\n",
       "      <td>2011</td>\n",
       "      <td>Spain</td>\n",
       "      <td>18 years or over</td>\n",
       "      <td>Total</td>\n",
       "      <td>82.1</td>\n",
       "      <td>NaN</td>\n",
       "    </tr>\n",
       "    <tr>\n",
       "      <th>134</th>\n",
       "      <td>2012</td>\n",
       "      <td>Spain</td>\n",
       "      <td>18 years or over</td>\n",
       "      <td>Total</td>\n",
       "      <td>81.9</td>\n",
       "      <td>NaN</td>\n",
       "    </tr>\n",
       "    <tr>\n",
       "      <th>174</th>\n",
       "      <td>2013</td>\n",
       "      <td>Spain</td>\n",
       "      <td>18 years or over</td>\n",
       "      <td>Total</td>\n",
       "      <td>81.9</td>\n",
       "      <td>NaN</td>\n",
       "    </tr>\n",
       "  </tbody>\n",
       "</table>\n",
       "</div>"
      ],
      "text/plain": [
       "     TIME    GEO               AGE    SEX Value Flag and Footnotes\n",
       "14   2009  Spain  18 years or over  Total  82.1                  b\n",
       "54   2010  Spain  18 years or over  Total  82.0                NaN\n",
       "94   2011  Spain  18 years or over  Total  82.1                NaN\n",
       "134  2012  Spain  18 years or over  Total  81.9                NaN\n",
       "174  2013  Spain  18 years or over  Total  81.9                NaN"
      ]
     },
     "execution_count": 5,
     "metadata": {},
     "output_type": "execute_result"
    }
   ],
   "source": [
    "pop_dis_esp.head()"
   ]
  },
  {
   "cell_type": "code",
   "execution_count": 6,
   "metadata": {},
   "outputs": [
    {
     "data": {
      "text/plain": [
       "(10, 6)"
      ]
     },
     "execution_count": 6,
     "metadata": {},
     "output_type": "execute_result"
    }
   ],
   "source": [
    "pop_dis_esp.shape"
   ]
  },
  {
   "cell_type": "code",
   "execution_count": 7,
   "metadata": {},
   "outputs": [
    {
     "data": {
      "text/plain": [
       "14     18 years or over\n",
       "54     18 years or over\n",
       "94     18 years or over\n",
       "134    18 years or over\n",
       "174    18 years or over\n",
       "214    18 years or over\n",
       "254    18 years or over\n",
       "294    18 years or over\n",
       "334    18 years or over\n",
       "374    18 years or over\n",
       "Name: AGE, dtype: object"
      ]
     },
     "execution_count": 7,
     "metadata": {},
     "output_type": "execute_result"
    }
   ],
   "source": [
    "pop_dis_esp.AGE"
   ]
  },
  {
   "cell_type": "code",
   "execution_count": 8,
   "metadata": {},
   "outputs": [],
   "source": [
    "pov_risk = pd.read_csv(\"poverty_risk.csv\")"
   ]
  },
  {
   "cell_type": "code",
   "execution_count": 9,
   "metadata": {},
   "outputs": [],
   "source": [
    "pov_es = pov_risk[pov_risk[\"GEO\"] == 'Spain']"
   ]
  },
  {
   "cell_type": "code",
   "execution_count": 10,
   "metadata": {},
   "outputs": [],
   "source": [
    "pov_es = pov_es[pov_es['UNIT'] == 'Thousand persons']"
   ]
  },
  {
   "cell_type": "code",
   "execution_count": 11,
   "metadata": {},
   "outputs": [],
   "source": [
    "pov_es_male = pov_es[pov_es['SEX'] == 'Males']\n",
    "pov_es_male = pov_es_male[pov_es_male['AGE'] == 'Total']\n",
    "\n",
    "pov_es_fem = pov_es[pov_es['SEX'] == 'Females']\n",
    "pov_es_fem = pov_es_fem[pov_es_fem['AGE'] == 'Total']\n",
    "\n",
    "\n",
    "pov_es_tot = pov_es[pov_es['SEX'] == 'Total']\n",
    "pov_es_tot = pov_es_tot[pov_es_tot['AGE'] == 'Total']\n"
   ]
  },
  {
   "cell_type": "code",
   "execution_count": 12,
   "metadata": {},
   "outputs": [],
   "source": [
    "x = pov_es.TIME"
   ]
  },
  {
   "cell_type": "code",
   "execution_count": 13,
   "metadata": {},
   "outputs": [],
   "source": [
    "y_m = pov_es_male.Value\n",
    "y_m = y_m.str.replace(\" \", \"\").astype(int)\n",
    "\n",
    "y_f = pov_es_fem.Value\n",
    "y_f = y_f.str.replace(\" \", \"\").astype(int)\n",
    "\n",
    "y_t = pov_es_tot.Value\n",
    "y_t = y_t.str.replace(\" \", \"\").astype(int)"
   ]
  },
  {
   "cell_type": "code",
   "execution_count": 14,
   "metadata": {},
   "outputs": [
    {
     "data": {
      "image/png": "[encoded data removed]",
      "text/plain": [
       "<Figure size 1440x720 with 1 Axes>"
      ]
     },
     "metadata": {
      "needs_background": "light"
     },
     "output_type": "display_data"
    }
   ],
   "source": [
    "plt.figure(figsize=(20, 10))\n",
    "plt.plot(pov_es_male.TIME, y_m, pov_es_fem.TIME, y_f, pov_es_tot.TIME, y_t)\n",
    "plt.legend(['Males', 'Females', 'Total'])\n",
    "plt.grid(True)\n"
   ]
  },
  {
   "cell_type": "code",
   "execution_count": 15,
   "metadata": {},
   "outputs": [
    {
     "data": {
      "text/html": [
       "<div>\n",
       "<style scoped>\n",
       "    .dataframe tbody tr th:only-of-type {\n",
       "        vertical-align: middle;\n",
       "    }\n",
       "\n",
       "    .dataframe tbody tr th {\n",
       "        vertical-align: top;\n",
       "    }\n",
       "\n",
       "    .dataframe thead th {\n",
       "        text-align: right;\n",
       "    }\n",
       "</style>\n",
       "<table border=\"1\" class=\"dataframe\">\n",
       "  <thead>\n",
       "    <tr style=\"text-align: right;\">\n",
       "      <th></th>\n",
       "      <th>TIME</th>\n",
       "      <th>GEO</th>\n",
       "      <th>UNIT</th>\n",
       "      <th>AGE</th>\n",
       "      <th>SEX</th>\n",
       "      <th>Value</th>\n",
       "      <th>Flag and Footnotes</th>\n",
       "    </tr>\n",
       "  </thead>\n",
       "  <tbody>\n",
       "    <tr>\n",
       "      <th>645</th>\n",
       "      <td>2009</td>\n",
       "      <td>Spain</td>\n",
       "      <td>Thousand persons</td>\n",
       "      <td>Total</td>\n",
       "      <td>Total</td>\n",
       "      <td>11 336</td>\n",
       "      <td>NaN</td>\n",
       "    </tr>\n",
       "    <tr>\n",
       "      <th>646</th>\n",
       "      <td>2009</td>\n",
       "      <td>Spain</td>\n",
       "      <td>Thousand persons</td>\n",
       "      <td>Total</td>\n",
       "      <td>Males</td>\n",
       "      <td>5 399</td>\n",
       "      <td>NaN</td>\n",
       "    </tr>\n",
       "    <tr>\n",
       "      <th>647</th>\n",
       "      <td>2009</td>\n",
       "      <td>Spain</td>\n",
       "      <td>Thousand persons</td>\n",
       "      <td>Total</td>\n",
       "      <td>Females</td>\n",
       "      <td>5 937</td>\n",
       "      <td>NaN</td>\n",
       "    </tr>\n",
       "    <tr>\n",
       "      <th>648</th>\n",
       "      <td>2009</td>\n",
       "      <td>Spain</td>\n",
       "      <td>Thousand persons</td>\n",
       "      <td>Less than 16 years</td>\n",
       "      <td>Total</td>\n",
       "      <td>2 323</td>\n",
       "      <td>NaN</td>\n",
       "    </tr>\n",
       "    <tr>\n",
       "      <th>649</th>\n",
       "      <td>2009</td>\n",
       "      <td>Spain</td>\n",
       "      <td>Thousand persons</td>\n",
       "      <td>Less than 16 years</td>\n",
       "      <td>Males</td>\n",
       "      <td>1 219</td>\n",
       "      <td>NaN</td>\n",
       "    </tr>\n",
       "  </tbody>\n",
       "</table>\n",
       "</div>"
      ],
      "text/plain": [
       "     TIME    GEO              UNIT                 AGE      SEX   Value  \\\n",
       "645  2009  Spain  Thousand persons               Total    Total  11 336   \n",
       "646  2009  Spain  Thousand persons               Total    Males   5 399   \n",
       "647  2009  Spain  Thousand persons               Total  Females   5 937   \n",
       "648  2009  Spain  Thousand persons  Less than 16 years    Total   2 323   \n",
       "649  2009  Spain  Thousand persons  Less than 16 years    Males   1 219   \n",
       "\n",
       "    Flag and Footnotes  \n",
       "645                NaN  \n",
       "646                NaN  \n",
       "647                NaN  \n",
       "648                NaN  \n",
       "649                NaN  "
      ]
     },
     "execution_count": 15,
     "metadata": {},
     "output_type": "execute_result"
    }
   ],
   "source": [
    "pov_es.head()"
   ]
  },
  {
   "cell_type": "code",
   "execution_count": 16,
   "metadata": {},
   "outputs": [
    {
     "data": {
      "text/plain": [
       "645                  Total\n",
       "648     Less than 16 years\n",
       "651    From 16 to 24 years\n",
       "654    From 25 to 54 years\n",
       "657       55 years or over\n",
       "Name: AGE, dtype: object"
      ]
     },
     "execution_count": 16,
     "metadata": {},
     "output_type": "execute_result"
    }
   ],
   "source": [
    "pov_es.AGE.drop_duplicates()"
   ]
  },
  {
   "cell_type": "code",
   "execution_count": 17,
   "metadata": {},
   "outputs": [],
   "source": [
    "pov_es.Value = pov_es.Value.str.replace(\" \", \"\")"
   ]
  },
  {
   "cell_type": "code",
   "execution_count": 18,
   "metadata": {},
   "outputs": [],
   "source": [
    "pov_es.Value = pd.to_numeric(pov_es.Value)"
   ]
  },
  {
   "cell_type": "code",
   "execution_count": 19,
   "metadata": {},
   "outputs": [
    {
     "data": {
      "text/html": [
       "<div>\n",
       "<style scoped>\n",
       "    .dataframe tbody tr th:only-of-type {\n",
       "        vertical-align: middle;\n",
       "    }\n",
       "\n",
       "    .dataframe tbody tr th {\n",
       "        vertical-align: top;\n",
       "    }\n",
       "\n",
       "    .dataframe thead th {\n",
       "        text-align: right;\n",
       "    }\n",
       "</style>\n",
       "<table border=\"1\" class=\"dataframe\">\n",
       "  <thead>\n",
       "    <tr style=\"text-align: right;\">\n",
       "      <th></th>\n",
       "      <th>Value</th>\n",
       "    </tr>\n",
       "    <tr>\n",
       "      <th>AGE</th>\n",
       "      <th></th>\n",
       "    </tr>\n",
       "  </thead>\n",
       "  <tbody>\n",
       "    <tr>\n",
       "      <th>55 years or over</th>\n",
       "      <td>56181</td>\n",
       "    </tr>\n",
       "    <tr>\n",
       "      <th>From 16 to 24 years</th>\n",
       "      <td>29585</td>\n",
       "    </tr>\n",
       "    <tr>\n",
       "      <th>From 25 to 54 years</th>\n",
       "      <td>116036</td>\n",
       "    </tr>\n",
       "    <tr>\n",
       "      <th>Less than 16 years</th>\n",
       "      <td>47547</td>\n",
       "    </tr>\n",
       "    <tr>\n",
       "      <th>Total</th>\n",
       "      <td>249347</td>\n",
       "    </tr>\n",
       "  </tbody>\n",
       "</table>\n",
       "</div>"
      ],
      "text/plain": [
       "                      Value\n",
       "AGE                        \n",
       "55 years or over      56181\n",
       "From 16 to 24 years   29585\n",
       "From 25 to 54 years  116036\n",
       "Less than 16 years    47547\n",
       "Total                249347"
      ]
     },
     "execution_count": 19,
     "metadata": {},
     "output_type": "execute_result"
    }
   ],
   "source": [
    "values_per_age = pov_es[['AGE', 'Value']].groupby('AGE').sum()\n",
    "values_per_age"
   ]
  },
  {
   "cell_type": "code",
   "execution_count": 20,
   "metadata": {},
   "outputs": [
    {
     "data": {
      "text/plain": [
       "<BarContainer object of 5 artists>"
      ]
     },
     "execution_count": 20,
     "metadata": {},
     "output_type": "execute_result"
    },
    {
     "data": {
      "image/png": "[encoded data removed]",
      "text/plain": [
       "<Figure size 1440x720 with 1 Axes>"
      ]
     },
     "metadata": {
      "needs_background": "light"
     },
     "output_type": "display_data"
    }
   ],
   "source": [
    "plt.figure(figsize=(20, 10))\n",
    "plt.bar(values_per_age.index, height=values_per_age.Value)"
   ]
  },
  {
   "cell_type": "code",
   "execution_count": null,
   "metadata": {},
   "outputs": [],
   "source": []
  }
 ],
 "metadata": {
  "kernelspec": {
   "display_name": "Python 3",
   "language": "python",
   "name": "python3"
  },
  "language_info": {
   "codemirror_mode": {
    "name": "ipython",
    "version": 3
   },
   "file_extension": ".py",
   "mimetype": "text/x-python",
   "name": "python",
   "nbconvert_exporter": "python",
   "pygments_lexer": "ipython3",
   "version": "3.7.3"
  }
 },
 "nbformat": 4,
 "nbformat_minor": 4
}
