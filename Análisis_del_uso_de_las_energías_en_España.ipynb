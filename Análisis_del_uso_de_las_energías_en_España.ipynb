{
 "cells": [
  {
   "cell_type": "markdown",
   "metadata": {
    "colab_type": "text",
    "id": "zfXLYKsu7i7G"
   },
   "source": [
    "# **Análisis del uso de las energías en España y su relación con las energías renovables.**\n",
    "\n",
    "### Trabajo por **Álvaro Mendoza González** y **Jesús Enrique Cartas Rascón**\n",
    "\n",
    "\n",
    "---\n",
    "\n",
    "\n",
    "En este análisis pretendemos entender qué energías se utlizan en España principalmente, cuánto y cómo. Intentaremos también arrojar luz en el tema de las energías renovables y su relación con las energías clásicas, para ver en qué medida merece la pena dar el salto. \n",
    "\n",
    "Todos los datos provienen del [**Eurostat**](https://ec.europa.eu/eurostat), una gran fuente de datos estadísticos a nivel europeo.\n",
    "\n",
    "\n"
   ]
  },
  {
   "cell_type": "markdown",
   "metadata": {
    "colab_type": "text",
    "id": "JVsIJlQ0A0aB"
   },
   "source": [
    "# Índice\n",
    "\n",
    "1. <a href=#intro>Introducción</a>\n",
    "\n",
    "2. <a href=#howandwhy>Cómo y cuánto se usa cada tipo de energía</a>\n",
    "\n",
    "3. <a href=#access>Cómo de accesible es esta energía a los diferentes sectores</a>\n",
    "\n",
    "4. <a href=#efficient>Relación producción/consumo de energía</a>\n",
    "\n",
    "5. <a href=#renew>Cómo evoluciona el ritmo de uso de las energías renovables</a>\n",
    "\n",
    "6. <a href=#relation>Cómo se relacionan éstas energías con las energías renovables</a>"
   ]
  },
  {
   "cell_type": "markdown",
   "metadata": {
    "colab_type": "text",
    "id": "QWpV0cG9AqqW"
   },
   "source": [
    "## 1. Introducción <a name='intro' />"
   ]
  },
  {
   "cell_type": "markdown",
   "metadata": {
    "colab_type": "text",
    "id": "TmK_5q404J59"
   },
   "source": [
    "Dedicaremos esta primera parte a importar las librerías y archivos necesarios para el análisis, así como a definir un conjunto de funciones que nos sirvan de ayuda y agilicen el proceso de desarrollo."
   ]
  },
  {
   "cell_type": "code",
   "execution_count": 3,
   "metadata": {
    "colab": {},
    "colab_type": "code",
    "id": "0ZPWPpNXiCf2"
   },
   "outputs": [],
   "source": [
    "import pandas as pd\n",
    "import numpy as np\n",
    "import matplotlib.pyplot as plt"
   ]
  },
  {
   "cell_type": "code",
   "execution_count": null,
   "metadata": {
    "colab": {},
    "colab_type": "code",
    "id": "hGMKLih5lYJV"
   },
   "outputs": [],
   "source": [
    "base_url = \"https://raw.githubusercontent.com/jesi-rgb/proyectoTGI/master/\""
   ]
  },
  {
   "cell_type": "code",
   "execution_count": null,
   "metadata": {
    "colab": {},
    "colab_type": "code",
    "id": "woe0B1udiGlE"
   },
   "outputs": [],
   "source": [
    "electricity_prices_household = pd.read_csv(base_url + \"energy_data/electricity_prices_household.csv\", delimiter=';')\n",
    "gas_prices_household = pd.read_csv(base_url + \"energy_data/gas_prices_household.csv\", delimiter=';')"
   ]
  },
  {
   "cell_type": "code",
   "execution_count": null,
   "metadata": {
    "colab": {},
    "colab_type": "code",
    "id": "XF7No7PciIsT"
   },
   "outputs": [],
   "source": [
    "def consulta_por_valor_columna(dataframe, valor, nombre_columna):\n",
    "    return dataframe[dataframe[nombre_columna] == valor]"
   ]
  },
  {
   "cell_type": "code",
   "execution_count": 1,
   "metadata": {
    "colab": {},
    "colab_type": "code",
    "id": "1XCzHhr8iL0k"
   },
   "outputs": [],
   "source": [
    "def crear_grafica(x_data, y_data, titulo='XD', x_label='X', y_label='D'):\n",
    "    '''Crea una gráfica simple a partir de un conjunto de datos.'''\n",
    "    plt.figure(figsize=(20, 10))\n",
    "    plt.plot(x_data, y_data)\n",
    "    plt.xlabel(x_label)\n",
    "    plt.ylabel(y_label)\n",
    "    plt.title(titulo)"
   ]
  },
  {
   "cell_type": "code",
   "execution_count": null,
   "metadata": {
    "colab": {},
    "colab_type": "code",
    "id": "U09lZJeJiNwM"
   },
   "outputs": [],
   "source": [
    "def castear_a_float(input_list):\n",
    "    '''Recibe una lista de valores y devuelve otra con los valores interpretados como flotantes.\n",
    "    Esta función NO edita la columna, devuelve una nueva. La columna del dataframe original deberá ser sobreescrita pertinentemente.\n",
    "    ''' \n",
    "    return input_list.apply(float)"
   ]
  },
  {
   "cell_type": "code",
   "execution_count": null,
   "metadata": {
    "colab": {},
    "colab_type": "code",
    "id": "82HTNZoYiPw7"
   },
   "outputs": [],
   "source": [
    "def string_replace_columna(columna, valor_a_buscar, valor_sustituto):\n",
    "    '''Busca espacios en la columna y los elimina\n",
    "    Esta función NO edita la columna, devuelve una nueva. La columna del dataframe original deberá ser sobreescrita pertinentemente.\n",
    "    '''\n",
    "    return columna.str.replace(valor_a_buscar, valor_sustituto)"
   ]
  },
  {
   "cell_type": "code",
   "execution_count": null,
   "metadata": {
    "colab": {},
    "colab_type": "code",
    "id": "cDp_x0xaiTHj"
   },
   "outputs": [],
   "source": [
    "def eliminar_valores_invalidos(dataframe, columna, valor_invalido, valor_nuevo):\n",
    "    '''Sustituye las instancias de valor_invalido por las de valor nuevo en la columna. Por ejemplo, para sustituir \\':\\' por -1\n",
    "    Es recomendable pasar el valor nuevo como tipo igual al que tiene el data frame, para que luego los casteos no se hagan complicados\n",
    "    '''\n",
    "    dataframe.loc[dataframe[columna] == valor_invalido, columna] = valor_nuevo"
   ]
  },
  {
   "cell_type": "code",
   "execution_count": null,
   "metadata": {
    "colab": {},
    "colab_type": "code",
    "id": "hKRlCTNPiW1D"
   },
   "outputs": [],
   "source": [
    "text_arguments = {\n",
    "    \"fontfamily\":[\"Consolas\", \"Inconsolata\"],\n",
    "    \"fontsize\":18\n",
    "}"
   ]
  },
  {
   "cell_type": "code",
   "execution_count": null,
   "metadata": {
    "colab": {},
    "colab_type": "code",
    "id": "mHs35zMtiYq7"
   },
   "outputs": [],
   "source": [
    "tableau20 = np.array([(31, 119, 180), (174, 199, 232), (255, 127, 14), (255, 187, 120),    \n",
    "             (44, 160, 44), (152, 223, 138), (214, 39, 40), (255, 152, 150),    \n",
    "             (148, 103, 189), (197, 176, 213), (140, 86, 75), (196, 156, 148),    \n",
    "             (227, 119, 194), (247, 182, 210), (127, 127, 127), (199, 199, 199),    \n",
    "             (188, 189, 34), (219, 219, 141), (23, 190, 207), (158, 218, 229)]) \n",
    "tableau20 = tableau20/255"
   ]
  },
  {
   "cell_type": "code",
   "execution_count": 2,
   "metadata": {
    "colab": {},
    "colab_type": "code",
    "id": "QJot-Wl2iaVj"
   },
   "outputs": [],
   "source": [
    "def annot_max(x,y, ax=None, xPos=1, yPos=1):\n",
    "    '''Indica cuál es el máximo del conjunto de datos que pasemos con una etiquetita dentro de una gráfica'''\n",
    "    xmax = x[pd.Series.idxmax(y)]\n",
    "    ymax = y.max()\n",
    "    text = \"Max: x={0:s}, y={1:.3f}\".format(xmax, float(ymax))\n",
    "    if not ax:\n",
    "        ax=plt.gca()\n",
    "    bbox_props = dict(boxstyle=\"square\", pad=0.3, fc=\"w\" , ec=\"k\", lw=0.52)\n",
    "    arrowprops = dict(arrowstyle= \"-|>\", connectionstyle=\"angle, angleA=0, angleB=60\")\n",
    "    kw = dict(xycoords='data',textcoords=\"axes fraction\",\n",
    "              arrowprops=arrowprops, bbox=bbox_props, ha=\"right\", va=\"top\" )\n",
    "    ax.annotate(text, xy=(xmax, ymax), xytext=(xPos, yPos), **kw)"
   ]
  },
  {
   "cell_type": "markdown",
   "metadata": {
    "colab_type": "text",
    "id": "hcwOVhjS9aH8"
   },
   "source": [
    "# 2. Cómo y cuánto se usa cada tipo de energía <a name='howandwhy' />"
   ]
  },
  {
   "cell_type": "markdown",
   "metadata": {
    "colab_type": "text",
    "id": "-dtFp6bVc_cu"
   },
   "source": [
    "En esta sección trataremos de hallar las proporciones de uso de las energías más importantes en España: la energía eléctrica, el consumo de gas, y otras como petróleo o nucleares."
   ]
  },
  {
   "cell_type": "markdown",
   "metadata": {
    "colab_type": "text",
    "id": "M2l5Pm4w9fwQ"
   },
   "source": [
    "# 3. Cómo de accesible es esta energía a los diferentes sectores <a name='access' />"
   ]
  },
  {
   "cell_type": "markdown",
   "metadata": {},
   "source": [
    "Una vez visto qué es lo que más se consume, vamos a ver cuánto cuesta consumirlo. Trataremos de ver cuánto le cuesta la energía a los distintos sectores que la demandan, como el de viviendas (usuarios normales), empresas y demás, y ver si los precios son realmente accesibles."
   ]
  },
  {
   "cell_type": "code",
   "execution_count": null,
   "metadata": {
    "colab": {},
    "colab_type": "code",
    "id": "my2CEBsqk1Vu"
   },
   "outputs": [],
   "source": [
    "electricity_prices_household_es = consulta_por_valor_columna(electricity_prices_household, 'ES', 'geo\\\\time')\n",
    "gas_prices_household_es = consulta_por_valor_columna(gas_prices_household, 'ES', 'geo\\\\time')"
   ]
  },
  {
   "cell_type": "code",
   "execution_count": null,
   "metadata": {
    "colab": {},
    "colab_type": "code",
    "id": "DWi75MSsk3vH"
   },
   "outputs": [],
   "source": [
    "electricity_prices_household_es_eur = consulta_por_valor_columna(electricity_prices_household_es, 'EUR', 'currency')\n",
    "electricity_prices_household_es_eur_xtax = consulta_por_valor_columna(electricity_prices_household_es_eur, 'X_TAX', 'tax')\n",
    "\n",
    "\n",
    "gas_prices_household_es_eur = consulta_por_valor_columna(gas_prices_household_es, 'EUR', 'currency')\n",
    "gas_prices_household_es_eur_xtax = consulta_por_valor_columna(gas_prices_household_es_eur, 'X_TAX', 'tax')"
   ]
  },
  {
   "cell_type": "code",
   "execution_count": null,
   "metadata": {
    "colab": {},
    "colab_type": "code",
    "id": "c1b3ZnP9k6W2"
   },
   "outputs": [],
   "source": [
    "electricity_prices_household_es_eur_xtax = electricity_prices_household_es_eur_xtax.melt(\n",
    "    id_vars=['product', 'consom', 'unit', 'tax', 'currency', 'geo\\\\time'],\n",
    "    var_name='Semestres',\n",
    "    value_name='Precio' \n",
    ")"
   ]
  },
  {
   "cell_type": "code",
   "execution_count": null,
   "metadata": {
    "colab": {},
    "colab_type": "code",
    "id": "K2K946lOk8LD"
   },
   "outputs": [],
   "source": [
    "gas_prices_household_es_eur_xtax = gas_prices_household_es_eur_xtax.melt(\n",
    "    id_vars=['product', 'consom', 'unit', 'tax', 'currency', 'geo\\\\time'],\n",
    "    var_name='Semestres',\n",
    "    value_name='Precio' \n",
    ")"
   ]
  },
  {
   "cell_type": "code",
   "execution_count": null,
   "metadata": {
    "colab": {},
    "colab_type": "code",
    "id": "UsTr-gRlk-G9"
   },
   "outputs": [],
   "source": [
    "eliminar_valores_invalidos(electricity_prices_household_es_eur_xtax, 'Precio', \": \", np.NaN)\n",
    "eliminar_valores_invalidos(electricity_prices_household_es_eur_xtax, 'Precio', \": u\", np.NaN)\n",
    "\n",
    "electricity_prices_household_es_eur_xtax.Precio = string_replace_columna(electricity_prices_household_es_eur_xtax.Precio, 'p', \"\")\n",
    "electricity_prices_household_es_eur_xtax.Precio = string_replace_columna(electricity_prices_household_es_eur_xtax.Precio, \" \", \"\")"
   ]
  },
  {
   "cell_type": "code",
   "execution_count": null,
   "metadata": {
    "colab": {},
    "colab_type": "code",
    "id": "Pe8oQwXjl_KN"
   },
   "outputs": [],
   "source": [
    "electricity_prices_household_es_eur_xtax.Precio = castear_a_float(electricity_prices_household_es_eur_xtax.Precio)"
   ]
  },
  {
   "cell_type": "code",
   "execution_count": null,
   "metadata": {
    "colab": {},
    "colab_type": "code",
    "id": "_G1uUl4BmAAE"
   },
   "outputs": [],
   "source": [
    "eliminar_valores_invalidos(gas_prices_household_es_eur_xtax, 'Precio', \": \", np.NaN)\n",
    "eliminar_valores_invalidos(gas_prices_household_es_eur_xtax, 'Precio', \": u\", np.NaN)\n",
    "\n",
    "gas_prices_household_es_eur_xtax.Precio = string_replace_columna(gas_prices_household_es_eur_xtax.Precio, 'p', \"\")\n",
    "gas_prices_household_es_eur_xtax.Precio = string_replace_columna(gas_prices_household_es_eur_xtax.Precio, \" \", \"\")"
   ]
  },
  {
   "cell_type": "code",
   "execution_count": null,
   "metadata": {
    "colab": {},
    "colab_type": "code",
    "id": "wNWfdVWNneaX"
   },
   "outputs": [],
   "source": [
    "gas_prices_household_es_eur_xtax.Precio = castear_a_float(gas_prices_household_es_eur_xtax.Precio)"
   ]
  },
  {
   "cell_type": "code",
   "execution_count": null,
   "metadata": {
    "colab": {},
    "colab_type": "code",
    "id": "qswh70lwnrUj"
   },
   "outputs": [],
   "source": [
    "electricity_prices_household_es_eur_xtax = electricity_prices_household_es_eur_xtax[electricity_prices_household_es_eur_xtax['Semestres'] != '2007S1']"
   ]
  },
  {
   "cell_type": "code",
   "execution_count": null,
   "metadata": {
    "colab": {},
    "colab_type": "code",
    "id": "G9Sb_6QunuGS"
   },
   "outputs": [],
   "source": [
    "less_1k = (consulta_por_valor_columna(electricity_prices_household_es_eur_xtax, 4161901, 'consom')).Precio\n",
    "from_1k_to_2k = (consulta_por_valor_columna(electricity_prices_household_es_eur_xtax, 4161902, 'consom')).Precio\n",
    "from_2k_to_5k = (consulta_por_valor_columna(electricity_prices_household_es_eur_xtax, 4161903, 'consom')).Precio\n",
    "from_5k_to_15k = (consulta_por_valor_columna(electricity_prices_household_es_eur_xtax, 4161904, 'consom')).Precio\n",
    "over_15k = (consulta_por_valor_columna(electricity_prices_household_es_eur_xtax, 4161905, 'consom')).Precio"
   ]
  },
  {
   "cell_type": "code",
   "execution_count": null,
   "metadata": {
    "colab": {},
    "colab_type": "code",
    "id": "6XkyK8AFnwp4"
   },
   "outputs": [],
   "source": [
    "semestres_elec = (electricity_prices_household_es_eur_xtax.Semestres).drop_duplicates()"
   ]
  },
  {
   "cell_type": "markdown",
   "metadata": {
    "colab_type": "text",
    "id": "pZMAs7A59h6F"
   },
   "source": [
    "# 4. Relación producción/consumo de energía <a name='efficient' />"
   ]
  },
  {
   "cell_type": "markdown",
   "metadata": {},
   "source": [
    "En esta sección vamos a estudiar cuánto se produce y consume de cada energía y trataremos de encontrar la relación entre las mismas y concluir algo en base a los datos obtenidos anteriormente."
   ]
  },
  {
   "cell_type": "markdown",
   "metadata": {
    "colab_type": "text",
    "id": "TQpjK-pd9lYy"
   },
   "source": [
    "# 6. Cómo evoluciona el ritmo de uso de las energías renovables <a name='renew' />"
   ]
  },
  {
   "cell_type": "markdown",
   "metadata": {
    "colab_type": "text",
    "id": "wGy1pxSj9npe"
   },
   "source": [
    "# 7. Cómo se relacionan éstas energías con las energías renovables <a name='relation' />"
   ]
  }
 ],
 "metadata": {
  "colab": {
   "collapsed_sections": [],
   "name": "Análisis del uso de las energías en España",
   "provenance": [],
   "toc_visible": true
  },
  "kernelspec": {
   "display_name": "Python 3",
   "language": "python",
   "name": "python3"
  },
  "language_info": {
   "codemirror_mode": {
    "name": "ipython",
    "version": 3
   },
   "file_extension": ".py",
   "mimetype": "text/x-python",
   "name": "python",
   "nbconvert_exporter": "python",
   "pygments_lexer": "ipython3",
   "version": "3.7.3"
  }
 },
 "nbformat": 4,
 "nbformat_minor": 4
}
