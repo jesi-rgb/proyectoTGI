{
  "nbformat": 4,
  "nbformat_minor": 0,
  "metadata": {
    "colab": {
      "name": "Análisis del uso de las energías en España",
      "provenance": [],
      "collapsed_sections": [],
      "toc_visible": true
    },
    "kernelspec": {
      "name": "python3",
      "display_name": "Python 3"
    }
  },
  "cells": [
    {
      "cell_type": "markdown",
      "metadata": {
        "id": "zfXLYKsu7i7G",
        "colab_type": "text"
      },
      "source": [
        "# **Análisis del uso de las energías en España y su relación con las energías renovables.**\n",
        "\n",
        "### Trabajo por **Álvaro Mendoza González** y **Jesús Enrique Cartas Rascón**\n",
        "\n",
        "\n",
        "---\n",
        "\n",
        "\n",
        "En este análisis pretendemos entender qué energías se utlizan en España principalmente, cuánto y cómo. Intentaremos también arrojar luz en el tema de las energías renovables y su relación con las energías clásicas, para ver en qué medida merece la pena dar el salto. \n",
        "\n",
        "Todos los datos provienen del [**Eurostat**](https://ec.europa.eu/eurostat), una gran fuente de datos estadísticos a nivel europeo.\n",
        "\n",
        "\n"
      ]
    },
    {
      "cell_type": "markdown",
      "metadata": {
        "id": "JVsIJlQ0A0aB",
        "colab_type": "text"
      },
      "source": [
        "# Tabla de contenidos\n",
        "\n",
        "> Introducción\n",
        "\n",
        "> Cómo y cuánto se usa cada tipo de energía\n",
        "\n",
        "> Cómo de accesible es esta energía a los diferentes sectores\n",
        "\n",
        "\n",
        "> Cómo de eficiente es cada tipo de energía\n",
        "\n",
        "> Cuales son los niveles de contaminación producidos por cada tipo de energía\n",
        "\n",
        "> Cómo evoluciona el ritmo de uso de las energías renovables\n",
        "\n",
        "> Cómo se relacionan éstas energías con las energías renovables"
      ]
    },
    {
      "cell_type": "markdown",
      "metadata": {
        "id": "QWpV0cG9AqqW",
        "colab_type": "text"
      },
      "source": [
        "## Introducción"
      ]
    },
    {
      "cell_type": "markdown",
      "metadata": {
        "id": "TmK_5q404J59",
        "colab_type": "text"
      },
      "source": [
        "Dedicaremos esta primera parte a importar las librerías y archivos necesarios para el análisis, así como a definir un conjunto de funciones que nos sirvan de ayuda y agilicen el proceso de desarrollo."
      ]
    },
    {
      "cell_type": "code",
      "metadata": {
        "id": "0ZPWPpNXiCf2",
        "colab_type": "code",
        "colab": {}
      },
      "source": [
        "import pandas as pd\n",
        "import numpy as np\n",
        "import matplotlib.pyplot as plt"
      ],
      "execution_count": 0,
      "outputs": []
    },
    {
      "cell_type": "code",
      "metadata": {
        "id": "hGMKLih5lYJV",
        "colab_type": "code",
        "colab": {}
      },
      "source": [
        "base_url = \"https://raw.githubusercontent.com/jesi-rgb/proyectoTGI/master/\""
      ],
      "execution_count": 0,
      "outputs": []
    },
    {
      "cell_type": "code",
      "metadata": {
        "id": "woe0B1udiGlE",
        "colab_type": "code",
        "colab": {}
      },
      "source": [
        "electricity_prices_household = pd.read_csv(base_url + \"energy_data/electricity_prices_household.csv\", delimiter=';')\n",
        "gas_prices_household = pd.read_csv(base_url + \"energy_data/gas_prices_household.csv\", delimiter=';')"
      ],
      "execution_count": 0,
      "outputs": []
    },
    {
      "cell_type": "code",
      "metadata": {
        "id": "XF7No7PciIsT",
        "colab_type": "code",
        "colab": {}
      },
      "source": [
        "def consulta_por_valor_columna(dataframe, valor, nombre_columna):\n",
        "    return dataframe[dataframe[nombre_columna] == valor]"
      ],
      "execution_count": 0,
      "outputs": []
    },
    {
      "cell_type": "code",
      "metadata": {
        "id": "1XCzHhr8iL0k",
        "colab_type": "code",
        "colab": {}
      },
      "source": [
        "def crear_grafica(x_data, y_data, titulo='XD', x_label='X', y_label='D'):\n",
        "    plt.figure(figsize=(20, 10))\n",
        "    plt.plot(x_data, y_data)\n",
        "    plt.xlabel(x_label)\n",
        "    plt.ylabel(y_label)\n",
        "    plt.title(titulo)"
      ],
      "execution_count": 0,
      "outputs": []
    },
    {
      "cell_type": "code",
      "metadata": {
        "id": "U09lZJeJiNwM",
        "colab_type": "code",
        "colab": {}
      },
      "source": [
        "def castear_a_float(input_list):\n",
        "    '''Recibe una lista de valores y devuelve otra con los valores interpretados como flotantes.\n",
        "    Esta función NO edita la columna, devuelve una nueva. La columna del dataframe original deberá ser sobreescrita pertinentemente.\n",
        "    ''' \n",
        "    return input_list.apply(float)"
      ],
      "execution_count": 0,
      "outputs": []
    },
    {
      "cell_type": "code",
      "metadata": {
        "id": "82HTNZoYiPw7",
        "colab_type": "code",
        "colab": {}
      },
      "source": [
        "def string_replace_columna(columna, valor_a_buscar, valor_sustituto):\n",
        "    '''Busca espacios en la columna y los elimina\n",
        "    Esta función NO edita la columna, devuelve una nueva. La columna del dataframe original deberá ser sobreescrita pertinentemente.\n",
        "    '''\n",
        "    return columna.str.replace(valor_a_buscar, valor_sustituto)"
      ],
      "execution_count": 0,
      "outputs": []
    },
    {
      "cell_type": "code",
      "metadata": {
        "id": "cDp_x0xaiTHj",
        "colab_type": "code",
        "colab": {}
      },
      "source": [
        "def eliminar_valores_invalidos(dataframe, columna, valor_invalido, valor_nuevo):\n",
        "    '''Sustituye las instancias de valor_invalido por las de valor nuevo en la columna. Por ejemplo, para sustituir \\':\\' por -1\n",
        "    Es recomendable pasar el valor nuevo como tipo igual al que tiene el data frame, para que luego los casteos no se hagan complicados\n",
        "    '''\n",
        "    dataframe.loc[dataframe[columna] == valor_invalido, columna] = valor_nuevo"
      ],
      "execution_count": 0,
      "outputs": []
    },
    {
      "cell_type": "code",
      "metadata": {
        "id": "hKRlCTNPiW1D",
        "colab_type": "code",
        "colab": {}
      },
      "source": [
        "text_arguments = {\n",
        "    \"fontfamily\":[\"Consolas\", \"Inconsolata\"],\n",
        "    \"fontsize\":18\n",
        "}"
      ],
      "execution_count": 0,
      "outputs": []
    },
    {
      "cell_type": "code",
      "metadata": {
        "id": "mHs35zMtiYq7",
        "colab_type": "code",
        "colab": {}
      },
      "source": [
        "tableau20 = np.array([(31, 119, 180), (174, 199, 232), (255, 127, 14), (255, 187, 120),    \n",
        "             (44, 160, 44), (152, 223, 138), (214, 39, 40), (255, 152, 150),    \n",
        "             (148, 103, 189), (197, 176, 213), (140, 86, 75), (196, 156, 148),    \n",
        "             (227, 119, 194), (247, 182, 210), (127, 127, 127), (199, 199, 199),    \n",
        "             (188, 189, 34), (219, 219, 141), (23, 190, 207), (158, 218, 229)]) \n",
        "tableau20 = tableau20/255"
      ],
      "execution_count": 0,
      "outputs": []
    },
    {
      "cell_type": "code",
      "metadata": {
        "id": "QJot-Wl2iaVj",
        "colab_type": "code",
        "colab": {}
      },
      "source": [
        "def annot_max(x,y, ax=None, xPos=1, yPos=1):\n",
        "    xmax = x[pd.Series.idxmax(y)]\n",
        "    ymax = y.max()\n",
        "    text = \"Max: x={0:s}, y={1:.3f}\".format(xmax, float(ymax))\n",
        "    if not ax:\n",
        "        ax=plt.gca()\n",
        "    bbox_props = dict(boxstyle=\"square\", pad=0.3, fc=\"w\" , ec=\"k\", lw=0.52)\n",
        "    arrowprops = dict(arrowstyle= \"-|>\", connectionstyle=\"angle, angleA=0, angleB=60\")\n",
        "    kw = dict(xycoords='data',textcoords=\"axes fraction\",\n",
        "              arrowprops=arrowprops, bbox=bbox_props, ha=\"right\", va=\"top\" )\n",
        "    ax.annotate(text, xy=(xmax, ymax), xytext=(xPos, yPos), **kw)"
      ],
      "execution_count": 0,
      "outputs": []
    },
    {
      "cell_type": "markdown",
      "metadata": {
        "id": "hcwOVhjS9aH8",
        "colab_type": "text"
      },
      "source": [
        "# Cómo y cuánto se usa cada tipo de energía"
      ]
    },
    {
      "cell_type": "markdown",
      "metadata": {
        "id": "-dtFp6bVc_cu",
        "colab_type": "text"
      },
      "source": [
        "En esta sección trataremos de hallar las proporciones de uso de las energías más importantes en España: la energía eléctrica, el consumo de gas"
      ]
    },
    {
      "cell_type": "markdown",
      "metadata": {
        "id": "M2l5Pm4w9fwQ",
        "colab_type": "text"
      },
      "source": [
        "# Cómo de accesible es esta energía a los diferentes sectores"
      ]
    },
    {
      "cell_type": "code",
      "metadata": {
        "id": "my2CEBsqk1Vu",
        "colab_type": "code",
        "colab": {}
      },
      "source": [
        "electricity_prices_household_es = consulta_por_valor_columna(electricity_prices_household, 'ES', 'geo\\\\time')\n",
        "gas_prices_household_es = consulta_por_valor_columna(gas_prices_household, 'ES', 'geo\\\\time')"
      ],
      "execution_count": 0,
      "outputs": []
    },
    {
      "cell_type": "code",
      "metadata": {
        "id": "DWi75MSsk3vH",
        "colab_type": "code",
        "colab": {}
      },
      "source": [
        "electricity_prices_household_es_eur = consulta_por_valor_columna(electricity_prices_household_es, 'EUR', 'currency')\n",
        "electricity_prices_household_es_eur_xtax = consulta_por_valor_columna(electricity_prices_household_es_eur, 'X_TAX', 'tax')\n",
        "\n",
        "\n",
        "gas_prices_household_es_eur = consulta_por_valor_columna(gas_prices_household_es, 'EUR', 'currency')\n",
        "gas_prices_household_es_eur_xtax = consulta_por_valor_columna(gas_prices_household_es_eur, 'X_TAX', 'tax')"
      ],
      "execution_count": 0,
      "outputs": []
    },
    {
      "cell_type": "code",
      "metadata": {
        "id": "c1b3ZnP9k6W2",
        "colab_type": "code",
        "colab": {}
      },
      "source": [
        "electricity_prices_household_es_eur_xtax = electricity_prices_household_es_eur_xtax.melt(\n",
        "    id_vars=['product', 'consom', 'unit', 'tax', 'currency', 'geo\\\\time'],\n",
        "    var_name='Semestres',\n",
        "    value_name='Precio' \n",
        ")"
      ],
      "execution_count": 0,
      "outputs": []
    },
    {
      "cell_type": "code",
      "metadata": {
        "id": "K2K946lOk8LD",
        "colab_type": "code",
        "colab": {}
      },
      "source": [
        "gas_prices_household_es_eur_xtax = gas_prices_household_es_eur_xtax.melt(\n",
        "    id_vars=['product', 'consom', 'unit', 'tax', 'currency', 'geo\\\\time'],\n",
        "    var_name='Semestres',\n",
        "    value_name='Precio' \n",
        ")"
      ],
      "execution_count": 0,
      "outputs": []
    },
    {
      "cell_type": "code",
      "metadata": {
        "id": "UsTr-gRlk-G9",
        "colab_type": "code",
        "colab": {}
      },
      "source": [
        "eliminar_valores_invalidos(electricity_prices_household_es_eur_xtax, 'Precio', \": \", np.NaN)\n",
        "eliminar_valores_invalidos(electricity_prices_household_es_eur_xtax, 'Precio', \": u\", np.NaN)\n",
        "\n",
        "electricity_prices_household_es_eur_xtax.Precio = string_replace_columna(electricity_prices_household_es_eur_xtax.Precio, 'p', \"\")\n",
        "electricity_prices_household_es_eur_xtax.Precio = string_replace_columna(electricity_prices_household_es_eur_xtax.Precio, \" \", \"\")"
      ],
      "execution_count": 0,
      "outputs": []
    },
    {
      "cell_type": "code",
      "metadata": {
        "id": "Pe8oQwXjl_KN",
        "colab_type": "code",
        "colab": {}
      },
      "source": [
        "electricity_prices_household_es_eur_xtax.Precio = castear_a_float(electricity_prices_household_es_eur_xtax.Precio)"
      ],
      "execution_count": 0,
      "outputs": []
    },
    {
      "cell_type": "code",
      "metadata": {
        "id": "_G1uUl4BmAAE",
        "colab_type": "code",
        "colab": {}
      },
      "source": [
        "eliminar_valores_invalidos(gas_prices_household_es_eur_xtax, 'Precio', \": \", np.NaN)\n",
        "eliminar_valores_invalidos(gas_prices_household_es_eur_xtax, 'Precio', \": u\", np.NaN)\n",
        "\n",
        "gas_prices_household_es_eur_xtax.Precio = string_replace_columna(gas_prices_household_es_eur_xtax.Precio, 'p', \"\")\n",
        "gas_prices_household_es_eur_xtax.Precio = string_replace_columna(gas_prices_household_es_eur_xtax.Precio, \" \", \"\")"
      ],
      "execution_count": 0,
      "outputs": []
    },
    {
      "cell_type": "code",
      "metadata": {
        "id": "wNWfdVWNneaX",
        "colab_type": "code",
        "colab": {}
      },
      "source": [
        "gas_prices_household_es_eur_xtax.Precio = castear_a_float(gas_prices_household_es_eur_xtax.Precio)"
      ],
      "execution_count": 0,
      "outputs": []
    },
    {
      "cell_type": "code",
      "metadata": {
        "id": "qswh70lwnrUj",
        "colab_type": "code",
        "colab": {}
      },
      "source": [
        "electricity_prices_household_es_eur_xtax = electricity_prices_household_es_eur_xtax[electricity_prices_household_es_eur_xtax['Semestres'] != '2007S1']"
      ],
      "execution_count": 0,
      "outputs": []
    },
    {
      "cell_type": "code",
      "metadata": {
        "id": "G9Sb_6QunuGS",
        "colab_type": "code",
        "colab": {}
      },
      "source": [
        "less_1k = (consulta_por_valor_columna(electricity_prices_household_es_eur_xtax, 4161901, 'consom')).Precio\n",
        "from_1k_to_2k = (consulta_por_valor_columna(electricity_prices_household_es_eur_xtax, 4161902, 'consom')).Precio\n",
        "from_2k_to_5k = (consulta_por_valor_columna(electricity_prices_household_es_eur_xtax, 4161903, 'consom')).Precio\n",
        "from_5k_to_15k = (consulta_por_valor_columna(electricity_prices_household_es_eur_xtax, 4161904, 'consom')).Precio\n",
        "over_15k = (consulta_por_valor_columna(electricity_prices_household_es_eur_xtax, 4161905, 'consom')).Precio"
      ],
      "execution_count": 0,
      "outputs": []
    },
    {
      "cell_type": "code",
      "metadata": {
        "id": "6XkyK8AFnwp4",
        "colab_type": "code",
        "colab": {}
      },
      "source": [
        "semestres_elec = (electricity_prices_household_es_eur_xtax.Semestres).drop_duplicates()"
      ],
      "execution_count": 0,
      "outputs": []
    },
    {
      "cell_type": "markdown",
      "metadata": {
        "id": "pZMAs7A59h6F",
        "colab_type": "text"
      },
      "source": [
        "# Cómo de eficiente es cada tipo de energía"
      ]
    },
    {
      "cell_type": "markdown",
      "metadata": {
        "id": "PMjJqr1Q9qgn",
        "colab_type": "text"
      },
      "source": [
        "# Cuales son los niveles de contaminación producidos por cada tipo de energía"
      ]
    },
    {
      "cell_type": "markdown",
      "metadata": {
        "id": "TQpjK-pd9lYy",
        "colab_type": "text"
      },
      "source": [
        "# Cómo evoluciona el ritmo de uso de las energías renovables"
      ]
    },
    {
      "cell_type": "markdown",
      "metadata": {
        "id": "wGy1pxSj9npe",
        "colab_type": "text"
      },
      "source": [
        "# Cómo se relacionan éstas energías con las energías renovables"
      ]
    }
  ]
}