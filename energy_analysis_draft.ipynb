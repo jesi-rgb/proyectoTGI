{
 "cells": [
  {
   "cell_type": "markdown",
   "metadata": {},
   "source": [
    "# PRÁCTICA TECNOLOGÍAS DE GESTIÓN DE LA INFORMACIÓN\n",
    "\n",
    "Práctica hecha por:\n",
    " - Mendorito\n",
    " - Jesi\n",
    " \n",
    "Esto es un texto de **prueba** para _ver_ cómo va este _**texto**_\n",
    "\n",
    "<a href=#bookmark>Ir al comienzo de la libreta</a>"
   ]
  },
  {
   "cell_type": "code",
   "execution_count": 11,
   "metadata": {},
   "outputs": [],
   "source": [
    "import pandas as pd\n",
    "import numpy as np\n",
    "import matplotlib.pyplot as plt"
   ]
  },
  {
   "cell_type": "code",
   "execution_count": 12,
   "metadata": {},
   "outputs": [],
   "source": [
    "electricity_prices = pd.read_csv(\"energy_data/electricity_prices_household.csv\", delimiter=\";\")\n",
    "electricity_prices.shape\n",
    "\n",
    "#tomamos solo las filas que contengan lo que nos interesa: datos de españa, precios sin tasas añadidas y el precio representado en euros\n",
    "es_electricity = electricity_prices.loc[(electricity_prices['geo\\\\time'] == 'ES') & (electricity_prices['tax'] == 'X_TAX') & (electricity_prices['currency'] == 'EUR')]\n"
   ]
  },
  {
   "cell_type": "code",
   "execution_count": 13,
   "metadata": {},
   "outputs": [
    {
     "data": {
      "text/html": [
       "<div>\n",
       "<style scoped>\n",
       "    .dataframe tbody tr th:only-of-type {\n",
       "        vertical-align: middle;\n",
       "    }\n",
       "\n",
       "    .dataframe tbody tr th {\n",
       "        vertical-align: top;\n",
       "    }\n",
       "\n",
       "    .dataframe thead th {\n",
       "        text-align: right;\n",
       "    }\n",
       "</style>\n",
       "<table border=\"1\" class=\"dataframe\">\n",
       "  <thead>\n",
       "    <tr style=\"text-align: right;\">\n",
       "      <th></th>\n",
       "      <th>product</th>\n",
       "      <th>consom</th>\n",
       "      <th>unit</th>\n",
       "      <th>tax</th>\n",
       "      <th>currency</th>\n",
       "      <th>geo\\time</th>\n",
       "      <th>2019S1</th>\n",
       "      <th>2018S2</th>\n",
       "      <th>2018S1</th>\n",
       "      <th>2017S2</th>\n",
       "      <th>...</th>\n",
       "      <th>2011S2</th>\n",
       "      <th>2011S1</th>\n",
       "      <th>2010S2</th>\n",
       "      <th>2010S1</th>\n",
       "      <th>2009S2</th>\n",
       "      <th>2009S1</th>\n",
       "      <th>2008S2</th>\n",
       "      <th>2008S1</th>\n",
       "      <th>2007S2</th>\n",
       "      <th>2007S1</th>\n",
       "    </tr>\n",
       "  </thead>\n",
       "  <tbody>\n",
       "    <tr>\n",
       "      <th>139</th>\n",
       "      <td>6000</td>\n",
       "      <td>4161901</td>\n",
       "      <td>KWH</td>\n",
       "      <td>X_TAX</td>\n",
       "      <td>EUR</td>\n",
       "      <td>ES</td>\n",
       "      <td>0.5166</td>\n",
       "      <td>0.4485</td>\n",
       "      <td>0.4680</td>\n",
       "      <td>0.4479</td>\n",
       "      <td>...</td>\n",
       "      <td>0.3044</td>\n",
       "      <td>0.2890</td>\n",
       "      <td>0.2926</td>\n",
       "      <td>0.3174</td>\n",
       "      <td>0.2611</td>\n",
       "      <td>0.2540</td>\n",
       "      <td>0.2622</td>\n",
       "      <td>0.2455</td>\n",
       "      <td>0.2424</td>\n",
       "      <td>:</td>\n",
       "    </tr>\n",
       "    <tr>\n",
       "      <th>520</th>\n",
       "      <td>6000</td>\n",
       "      <td>4161902</td>\n",
       "      <td>KWH</td>\n",
       "      <td>X_TAX</td>\n",
       "      <td>EUR</td>\n",
       "      <td>ES</td>\n",
       "      <td>0.2355</td>\n",
       "      <td>0.2393</td>\n",
       "      <td>0.2303</td>\n",
       "      <td>0.2113</td>\n",
       "      <td>...</td>\n",
       "      <td>0.1870</td>\n",
       "      <td>0.1768</td>\n",
       "      <td>0.1681</td>\n",
       "      <td>0.1622</td>\n",
       "      <td>0.1571</td>\n",
       "      <td>0.1459</td>\n",
       "      <td>0.1475</td>\n",
       "      <td>0.1299</td>\n",
       "      <td>0.1332</td>\n",
       "      <td>:</td>\n",
       "    </tr>\n",
       "    <tr>\n",
       "      <th>901</th>\n",
       "      <td>6000</td>\n",
       "      <td>4161903</td>\n",
       "      <td>KWH</td>\n",
       "      <td>X_TAX</td>\n",
       "      <td>EUR</td>\n",
       "      <td>ES</td>\n",
       "      <td>0.1889</td>\n",
       "      <td>0.1947</td>\n",
       "      <td>0.1873</td>\n",
       "      <td>0.1712</td>\n",
       "      <td>...</td>\n",
       "      <td>0.1684</td>\n",
       "      <td>0.1597</td>\n",
       "      <td>0.1492</td>\n",
       "      <td>0.1417</td>\n",
       "      <td>0.1381</td>\n",
       "      <td>0.1294</td>\n",
       "      <td>0.1277</td>\n",
       "      <td>0.1124</td>\n",
       "      <td>0.1152</td>\n",
       "      <td>:</td>\n",
       "    </tr>\n",
       "    <tr>\n",
       "      <th>1282</th>\n",
       "      <td>6000</td>\n",
       "      <td>4161904</td>\n",
       "      <td>KWH</td>\n",
       "      <td>X_TAX</td>\n",
       "      <td>EUR</td>\n",
       "      <td>ES</td>\n",
       "      <td>0.1608</td>\n",
       "      <td>0.1697</td>\n",
       "      <td>0.1513</td>\n",
       "      <td>0.1482</td>\n",
       "      <td>...</td>\n",
       "      <td>0.1563</td>\n",
       "      <td>0.1426</td>\n",
       "      <td>0.1363</td>\n",
       "      <td>0.1271</td>\n",
       "      <td>0.1266</td>\n",
       "      <td>0.1203</td>\n",
       "      <td>0.1219</td>\n",
       "      <td>0.1021</td>\n",
       "      <td>0.1058</td>\n",
       "      <td>:</td>\n",
       "    </tr>\n",
       "    <tr>\n",
       "      <th>1663</th>\n",
       "      <td>6000</td>\n",
       "      <td>4161905</td>\n",
       "      <td>KWH</td>\n",
       "      <td>X_TAX</td>\n",
       "      <td>EUR</td>\n",
       "      <td>ES</td>\n",
       "      <td>0.1409</td>\n",
       "      <td>0.1414</td>\n",
       "      <td>0.1236</td>\n",
       "      <td>0.1311</td>\n",
       "      <td>...</td>\n",
       "      <td>0.1444</td>\n",
       "      <td>0.1251</td>\n",
       "      <td>0.1244</td>\n",
       "      <td>0.1174</td>\n",
       "      <td>0.1153</td>\n",
       "      <td>0.1163</td>\n",
       "      <td>0.1148</td>\n",
       "      <td>0.0981</td>\n",
       "      <td>0.0976</td>\n",
       "      <td>:</td>\n",
       "    </tr>\n",
       "  </tbody>\n",
       "</table>\n",
       "<p>5 rows × 31 columns</p>\n",
       "</div>"
      ],
      "text/plain": [
       "      product   consom unit    tax currency geo\\time  2019S1  2018S2  2018S1  \\\n",
       "139      6000  4161901  KWH  X_TAX      EUR       ES  0.5166  0.4485  0.4680   \n",
       "520      6000  4161902  KWH  X_TAX      EUR       ES  0.2355  0.2393  0.2303   \n",
       "901      6000  4161903  KWH  X_TAX      EUR       ES  0.1889  0.1947  0.1873   \n",
       "1282     6000  4161904  KWH  X_TAX      EUR       ES  0.1608  0.1697  0.1513   \n",
       "1663     6000  4161905  KWH  X_TAX      EUR       ES  0.1409  0.1414  0.1236   \n",
       "\n",
       "      2017S2  ...  2011S2  2011S1  2010S2  2010S1  2009S2  2009S1  2008S2  \\\n",
       "139   0.4479  ...  0.3044  0.2890  0.2926  0.3174  0.2611  0.2540  0.2622   \n",
       "520   0.2113  ...  0.1870  0.1768  0.1681  0.1622  0.1571  0.1459  0.1475   \n",
       "901   0.1712  ...  0.1684  0.1597  0.1492  0.1417  0.1381  0.1294  0.1277   \n",
       "1282  0.1482  ...  0.1563  0.1426  0.1363  0.1271  0.1266  0.1203  0.1219   \n",
       "1663  0.1311  ...  0.1444  0.1251  0.1244  0.1174  0.1153  0.1163  0.1148   \n",
       "\n",
       "      2008S1  2007S2 2007S1  \n",
       "139   0.2455  0.2424     :   \n",
       "520   0.1299  0.1332     :   \n",
       "901   0.1124  0.1152     :   \n",
       "1282  0.1021  0.1058     :   \n",
       "1663  0.0981  0.0976     :   \n",
       "\n",
       "[5 rows x 31 columns]"
      ]
     },
     "execution_count": 13,
     "metadata": {},
     "output_type": "execute_result"
    }
   ],
   "source": [
    "es_electricity.head()"
   ]
  },
  {
   "cell_type": "code",
   "execution_count": 14,
   "metadata": {},
   "outputs": [],
   "source": [
    "# eliminamos la columna correspondiente al primer semestre de 2007,\n",
    "# ya que no hay datos de esa época\n",
    "es_electricity = es_electricity.drop(columns=\"2007S1\")\n",
    "\n",
    "# le damos la vuelta porque los años están dispuestos del revés\n",
    "# generamos la x que pondremos abajo en nuestra gráfica\n",
    "x = np.flip(es_electricity.columns[6:].to_numpy())\n",
    "\n",
    "# convertimos el DataFrame de pandas a un numpy array para manipularlo más fácilmente\n",
    "nparray = es_electricity.to_numpy()\n",
    "\n",
    "# hacemos lo mismo que con la x, pero con la y\n",
    "y1 = np.flip(nparray[0, 6:])\n",
    "y2 = np.flip(nparray[1, 6:])\n",
    "y3 = np.flip(nparray[2, 6:])\n",
    "y4 = np.flip(nparray[3, 6:])\n",
    "y5 = np.flip(nparray[4, 6:])\n",
    "\n",
    "# el siguiente paso es castearlos a un tipo flotante,\n",
    "# así que nos aseguramos de que los valores no numéricos\n",
    "# no existan\n",
    "\n",
    "y1[y1 == ': '] = -1\n",
    "y2[y2 == ': '] = -1\n",
    "y3[y3 == ': '] = -1\n",
    "y4[y4 == ': '] = -1\n",
    "y5[y5 == ': '] = -1\n",
    "\n",
    "# convertimos el array a float, ya que hasta ahora era\n",
    "# un array de strings\n",
    "y1 = y1.astype(float)\n",
    "y2 = y2.astype(float)\n",
    "y3 = y3.astype(float)\n",
    "y4 = y4.astype(float)\n",
    "y5 = y5.astype(float)\n"
   ]
  },
  {
   "cell_type": "code",
   "execution_count": 15,
   "metadata": {},
   "outputs": [
    {
     "data": {
      "image/png": "[encoded data removed]",
      "text/plain": [
       "<Figure size 1440x720 with 1 Axes>"
      ]
     },
     "metadata": {
      "needs_background": "light"
     },
     "output_type": "display_data"
    }
   ],
   "source": [
    "plt.figure(figsize=(20,10))\n",
    "plt.plot(x, y1)\n",
    "plt.plot(x, y2)\n",
    "plt.plot(x, y3)\n",
    "plt.plot(x, y4)\n",
    "plt.plot(x, y5)\n",
    "\n",
    "legend = [\"< 1000 kWh\", \"1000 kWh < Consumption < 2500 kWh\",\"2500 kWh < Consumption < 5000 kWh\",\"5000 kWh < Consumption < 15000 kWh\",]\n",
    "plt.legend(legend)\n",
    "\n",
    "plt.ylabel('Cost €')\n",
    "plt.xlabel('Time in semesters')\n",
    "\n",
    "plt.title(\"Cost of energy per year per consumption category, no taxes applied\")\n",
    "plt.grid(True)\n",
    "plt.show()"
   ]
  },
  {
   "cell_type": "code",
   "execution_count": 16,
   "metadata": {},
   "outputs": [
    {
     "data": {
      "text/html": [
       "<div>\n",
       "<style scoped>\n",
       "    .dataframe tbody tr th:only-of-type {\n",
       "        vertical-align: middle;\n",
       "    }\n",
       "\n",
       "    .dataframe tbody tr th {\n",
       "        vertical-align: top;\n",
       "    }\n",
       "\n",
       "    .dataframe thead th {\n",
       "        text-align: right;\n",
       "    }\n",
       "</style>\n",
       "<table border=\"1\" class=\"dataframe\">\n",
       "  <thead>\n",
       "    <tr style=\"text-align: right;\">\n",
       "      <th></th>\n",
       "      <th>product</th>\n",
       "      <th>consom</th>\n",
       "      <th>unit</th>\n",
       "      <th>tax</th>\n",
       "      <th>currency</th>\n",
       "      <th>geo\\time</th>\n",
       "      <th>semester</th>\n",
       "      <th>cost</th>\n",
       "    </tr>\n",
       "  </thead>\n",
       "  <tbody>\n",
       "    <tr>\n",
       "      <th>0</th>\n",
       "      <td>6000</td>\n",
       "      <td>4161901</td>\n",
       "      <td>KWH</td>\n",
       "      <td>I_TAX</td>\n",
       "      <td>EUR</td>\n",
       "      <td>AL</td>\n",
       "      <td>2019S1</td>\n",
       "      <td>:</td>\n",
       "    </tr>\n",
       "    <tr>\n",
       "      <th>1</th>\n",
       "      <td>6000</td>\n",
       "      <td>4161901</td>\n",
       "      <td>KWH</td>\n",
       "      <td>I_TAX</td>\n",
       "      <td>EUR</td>\n",
       "      <td>AT</td>\n",
       "      <td>2019S1</td>\n",
       "      <td>0.3796</td>\n",
       "    </tr>\n",
       "    <tr>\n",
       "      <th>2</th>\n",
       "      <td>6000</td>\n",
       "      <td>4161901</td>\n",
       "      <td>KWH</td>\n",
       "      <td>I_TAX</td>\n",
       "      <td>EUR</td>\n",
       "      <td>BA</td>\n",
       "      <td>2019S1</td>\n",
       "      <td>0.2090</td>\n",
       "    </tr>\n",
       "    <tr>\n",
       "      <th>3</th>\n",
       "      <td>6000</td>\n",
       "      <td>4161901</td>\n",
       "      <td>KWH</td>\n",
       "      <td>I_TAX</td>\n",
       "      <td>EUR</td>\n",
       "      <td>BE</td>\n",
       "      <td>2019S1</td>\n",
       "      <td>0.4742</td>\n",
       "    </tr>\n",
       "    <tr>\n",
       "      <th>4</th>\n",
       "      <td>6000</td>\n",
       "      <td>4161901</td>\n",
       "      <td>KWH</td>\n",
       "      <td>I_TAX</td>\n",
       "      <td>EUR</td>\n",
       "      <td>BG</td>\n",
       "      <td>2019S1</td>\n",
       "      <td>0.1014</td>\n",
       "    </tr>\n",
       "  </tbody>\n",
       "</table>\n",
       "</div>"
      ],
      "text/plain": [
       "   product   consom unit    tax currency geo\\time semester    cost\n",
       "0     6000  4161901  KWH  I_TAX      EUR       AL   2019S1      : \n",
       "1     6000  4161901  KWH  I_TAX      EUR       AT   2019S1  0.3796\n",
       "2     6000  4161901  KWH  I_TAX      EUR       BA   2019S1  0.2090\n",
       "3     6000  4161901  KWH  I_TAX      EUR       BE   2019S1  0.4742\n",
       "4     6000  4161901  KWH  I_TAX      EUR       BG   2019S1  0.1014"
      ]
     },
     "execution_count": 16,
     "metadata": {},
     "output_type": "execute_result"
    }
   ],
   "source": [
    "elec_melt = electricity_prices.melt(\n",
    "    id_vars=['product', 'consom', 'unit', 'tax', 'currency', 'geo\\\\time'],\n",
    "    var_name='semester',\n",
    "    value_name='cost'\n",
    ")\n",
    "\n",
    "elec_melt.head()"
   ]
  },
  {
   "cell_type": "code",
   "execution_count": 17,
   "metadata": {},
   "outputs": [
    {
     "data": {
      "text/html": [
       "<div>\n",
       "<style scoped>\n",
       "    .dataframe tbody tr th:only-of-type {\n",
       "        vertical-align: middle;\n",
       "    }\n",
       "\n",
       "    .dataframe tbody tr th {\n",
       "        vertical-align: top;\n",
       "    }\n",
       "\n",
       "    .dataframe thead th {\n",
       "        text-align: right;\n",
       "    }\n",
       "</style>\n",
       "<table border=\"1\" class=\"dataframe\">\n",
       "  <thead>\n",
       "    <tr style=\"text-align: right;\">\n",
       "      <th></th>\n",
       "      <th>product</th>\n",
       "      <th>consom</th>\n",
       "      <th>unit</th>\n",
       "      <th>tax</th>\n",
       "      <th>currency</th>\n",
       "      <th>geo\\time</th>\n",
       "      <th>semester</th>\n",
       "      <th>cost</th>\n",
       "    </tr>\n",
       "  </thead>\n",
       "  <tbody>\n",
       "    <tr>\n",
       "      <th>12</th>\n",
       "      <td>6000</td>\n",
       "      <td>4161901</td>\n",
       "      <td>KWH</td>\n",
       "      <td>I_TAX</td>\n",
       "      <td>EUR</td>\n",
       "      <td>ES</td>\n",
       "      <td>2019S1</td>\n",
       "      <td>0.6570</td>\n",
       "    </tr>\n",
       "    <tr>\n",
       "      <th>56</th>\n",
       "      <td>6000</td>\n",
       "      <td>4161901</td>\n",
       "      <td>KWH</td>\n",
       "      <td>I_TAX</td>\n",
       "      <td>NAT</td>\n",
       "      <td>ES</td>\n",
       "      <td>2019S1</td>\n",
       "      <td>0.6570</td>\n",
       "    </tr>\n",
       "    <tr>\n",
       "      <th>100</th>\n",
       "      <td>6000</td>\n",
       "      <td>4161901</td>\n",
       "      <td>KWH</td>\n",
       "      <td>I_TAX</td>\n",
       "      <td>PPS</td>\n",
       "      <td>ES</td>\n",
       "      <td>2019S1</td>\n",
       "      <td>0.7183</td>\n",
       "    </tr>\n",
       "    <tr>\n",
       "      <th>139</th>\n",
       "      <td>6000</td>\n",
       "      <td>4161901</td>\n",
       "      <td>KWH</td>\n",
       "      <td>X_TAX</td>\n",
       "      <td>EUR</td>\n",
       "      <td>ES</td>\n",
       "      <td>2019S1</td>\n",
       "      <td>0.5166</td>\n",
       "    </tr>\n",
       "    <tr>\n",
       "      <th>183</th>\n",
       "      <td>6000</td>\n",
       "      <td>4161901</td>\n",
       "      <td>KWH</td>\n",
       "      <td>X_TAX</td>\n",
       "      <td>NAT</td>\n",
       "      <td>ES</td>\n",
       "      <td>2019S1</td>\n",
       "      <td>0.5166</td>\n",
       "    </tr>\n",
       "  </tbody>\n",
       "</table>\n",
       "</div>"
      ],
      "text/plain": [
       "     product   consom unit    tax currency geo\\time semester    cost\n",
       "12      6000  4161901  KWH  I_TAX      EUR       ES   2019S1  0.6570\n",
       "56      6000  4161901  KWH  I_TAX      NAT       ES   2019S1  0.6570\n",
       "100     6000  4161901  KWH  I_TAX      PPS       ES   2019S1  0.7183\n",
       "139     6000  4161901  KWH  X_TAX      EUR       ES   2019S1  0.5166\n",
       "183     6000  4161901  KWH  X_TAX      NAT       ES   2019S1  0.5166"
      ]
     },
     "execution_count": 17,
     "metadata": {},
     "output_type": "execute_result"
    }
   ],
   "source": [
    "es_melt = elec_melt[elec_melt['geo\\\\time'] == 'ES']\n",
    "es_melt.head()"
   ]
  },
  {
   "cell_type": "code",
   "execution_count": 18,
   "metadata": {},
   "outputs": [
    {
     "data": {
      "text/html": [
       "<div>\n",
       "<style scoped>\n",
       "    .dataframe tbody tr th:only-of-type {\n",
       "        vertical-align: middle;\n",
       "    }\n",
       "\n",
       "    .dataframe tbody tr th {\n",
       "        vertical-align: top;\n",
       "    }\n",
       "\n",
       "    .dataframe thead th {\n",
       "        text-align: right;\n",
       "    }\n",
       "</style>\n",
       "<table border=\"1\" class=\"dataframe\">\n",
       "  <thead>\n",
       "    <tr style=\"text-align: right;\">\n",
       "      <th></th>\n",
       "      <th>TIME</th>\n",
       "      <th>GEO</th>\n",
       "      <th>NRG_BAL</th>\n",
       "      <th>UNIT</th>\n",
       "      <th>Value</th>\n",
       "      <th>Flag and Footnotes</th>\n",
       "    </tr>\n",
       "  </thead>\n",
       "  <tbody>\n",
       "    <tr>\n",
       "      <th>0</th>\n",
       "      <td>2008</td>\n",
       "      <td>European Union - 28 countries</td>\n",
       "      <td>Renewable energy sources</td>\n",
       "      <td>Percentage</td>\n",
       "      <td>11.325</td>\n",
       "      <td>NaN</td>\n",
       "    </tr>\n",
       "    <tr>\n",
       "      <th>1</th>\n",
       "      <td>2008</td>\n",
       "      <td>Belgium</td>\n",
       "      <td>Renewable energy sources</td>\n",
       "      <td>Percentage</td>\n",
       "      <td>3.591</td>\n",
       "      <td>NaN</td>\n",
       "    </tr>\n",
       "    <tr>\n",
       "      <th>2</th>\n",
       "      <td>2008</td>\n",
       "      <td>Bulgaria</td>\n",
       "      <td>Renewable energy sources</td>\n",
       "      <td>Percentage</td>\n",
       "      <td>10.492</td>\n",
       "      <td>NaN</td>\n",
       "    </tr>\n",
       "    <tr>\n",
       "      <th>3</th>\n",
       "      <td>2008</td>\n",
       "      <td>Czechia</td>\n",
       "      <td>Renewable energy sources</td>\n",
       "      <td>Percentage</td>\n",
       "      <td>8.626</td>\n",
       "      <td>NaN</td>\n",
       "    </tr>\n",
       "    <tr>\n",
       "      <th>4</th>\n",
       "      <td>2008</td>\n",
       "      <td>Denmark</td>\n",
       "      <td>Renewable energy sources</td>\n",
       "      <td>Percentage</td>\n",
       "      <td>18.564</td>\n",
       "      <td>NaN</td>\n",
       "    </tr>\n",
       "  </tbody>\n",
       "</table>\n",
       "</div>"
      ],
      "text/plain": [
       "   TIME                            GEO                   NRG_BAL        UNIT  \\\n",
       "0  2008  European Union - 28 countries  Renewable energy sources  Percentage   \n",
       "1  2008                        Belgium  Renewable energy sources  Percentage   \n",
       "2  2008                       Bulgaria  Renewable energy sources  Percentage   \n",
       "3  2008                        Czechia  Renewable energy sources  Percentage   \n",
       "4  2008                        Denmark  Renewable energy sources  Percentage   \n",
       "\n",
       "    Value  Flag and Footnotes  \n",
       "0  11.325                 NaN  \n",
       "1   3.591                 NaN  \n",
       "2  10.492                 NaN  \n",
       "3   8.626                 NaN  \n",
       "4  18.564                 NaN  "
      ]
     },
     "execution_count": 18,
     "metadata": {},
     "output_type": "execute_result"
    }
   ],
   "source": [
    "renewable = pd.read_csv(\"energy_data/share_renewable.csv\");\n",
    "renewable.head()"
   ]
  },
  {
   "cell_type": "code",
   "execution_count": 19,
   "metadata": {},
   "outputs": [
    {
     "data": {
      "text/html": [
       "<div>\n",
       "<style scoped>\n",
       "    .dataframe tbody tr th:only-of-type {\n",
       "        vertical-align: middle;\n",
       "    }\n",
       "\n",
       "    .dataframe tbody tr th {\n",
       "        vertical-align: top;\n",
       "    }\n",
       "\n",
       "    .dataframe thead th {\n",
       "        text-align: right;\n",
       "    }\n",
       "</style>\n",
       "<table border=\"1\" class=\"dataframe\">\n",
       "  <thead>\n",
       "    <tr style=\"text-align: right;\">\n",
       "      <th></th>\n",
       "      <th>TIME</th>\n",
       "      <th>GEO</th>\n",
       "      <th>NRG_BAL</th>\n",
       "      <th>UNIT</th>\n",
       "      <th>Value</th>\n",
       "      <th>Flag and Footnotes</th>\n",
       "    </tr>\n",
       "  </thead>\n",
       "  <tbody>\n",
       "    <tr>\n",
       "      <th>9</th>\n",
       "      <td>2008</td>\n",
       "      <td>Spain</td>\n",
       "      <td>Renewable energy sources</td>\n",
       "      <td>Percentage</td>\n",
       "      <td>10.737</td>\n",
       "      <td>NaN</td>\n",
       "    </tr>\n",
       "    <tr>\n",
       "      <th>46</th>\n",
       "      <td>2009</td>\n",
       "      <td>Spain</td>\n",
       "      <td>Renewable energy sources</td>\n",
       "      <td>Percentage</td>\n",
       "      <td>12.963</td>\n",
       "      <td>NaN</td>\n",
       "    </tr>\n",
       "    <tr>\n",
       "      <th>83</th>\n",
       "      <td>2010</td>\n",
       "      <td>Spain</td>\n",
       "      <td>Renewable energy sources</td>\n",
       "      <td>Percentage</td>\n",
       "      <td>13.810</td>\n",
       "      <td>NaN</td>\n",
       "    </tr>\n",
       "    <tr>\n",
       "      <th>120</th>\n",
       "      <td>2011</td>\n",
       "      <td>Spain</td>\n",
       "      <td>Renewable energy sources</td>\n",
       "      <td>Percentage</td>\n",
       "      <td>13.224</td>\n",
       "      <td>NaN</td>\n",
       "    </tr>\n",
       "    <tr>\n",
       "      <th>157</th>\n",
       "      <td>2012</td>\n",
       "      <td>Spain</td>\n",
       "      <td>Renewable energy sources</td>\n",
       "      <td>Percentage</td>\n",
       "      <td>14.286</td>\n",
       "      <td>NaN</td>\n",
       "    </tr>\n",
       "  </tbody>\n",
       "</table>\n",
       "</div>"
      ],
      "text/plain": [
       "     TIME    GEO                   NRG_BAL        UNIT   Value  \\\n",
       "9    2008  Spain  Renewable energy sources  Percentage  10.737   \n",
       "46   2009  Spain  Renewable energy sources  Percentage  12.963   \n",
       "83   2010  Spain  Renewable energy sources  Percentage  13.810   \n",
       "120  2011  Spain  Renewable energy sources  Percentage  13.224   \n",
       "157  2012  Spain  Renewable energy sources  Percentage  14.286   \n",
       "\n",
       "     Flag and Footnotes  \n",
       "9                   NaN  \n",
       "46                  NaN  \n",
       "83                  NaN  \n",
       "120                 NaN  \n",
       "157                 NaN  "
      ]
     },
     "execution_count": 19,
     "metadata": {},
     "output_type": "execute_result"
    }
   ],
   "source": [
    "es_renewable = renewable[renewable['GEO'] == 'Spain']\n",
    "es_renewable.head()"
   ]
  },
  {
   "cell_type": "code",
   "execution_count": 20,
   "metadata": {},
   "outputs": [
    {
     "data": {
      "text/plain": [
       "0                         European Union - 28 countries\n",
       "1                                               Belgium\n",
       "2                                              Bulgaria\n",
       "3                                               Czechia\n",
       "4                                               Denmark\n",
       "5      Germany (until 1990 former territory of the FRG)\n",
       "6                                               Estonia\n",
       "7                                               Ireland\n",
       "8                                                Greece\n",
       "9                                                 Spain\n",
       "10                                               France\n",
       "11                                              Croatia\n",
       "12                                                Italy\n",
       "13                                               Cyprus\n",
       "14                                               Latvia\n",
       "15                                            Lithuania\n",
       "16                                           Luxembourg\n",
       "17                                              Hungary\n",
       "18                                                Malta\n",
       "19                                          Netherlands\n",
       "20                                              Austria\n",
       "21                                               Poland\n",
       "22                                             Portugal\n",
       "23                                              Romania\n",
       "24                                             Slovenia\n",
       "25                                             Slovakia\n",
       "26                                              Finland\n",
       "27                                               Sweden\n",
       "28                                       United Kingdom\n",
       "29                                              Iceland\n",
       "30                                               Norway\n",
       "31                                           Montenegro\n",
       "32                                      North Macedonia\n",
       "33                                              Albania\n",
       "34                                               Serbia\n",
       "35                                               Turkey\n",
       "36    Kosovo (under United Nations Security Council ...\n",
       "Name: GEO, dtype: object"
      ]
     },
     "execution_count": 20,
     "metadata": {},
     "output_type": "execute_result"
    }
   ],
   "source": [
    "renewable['GEO'].drop_duplicates()"
   ]
  },
  {
   "cell_type": "code",
   "execution_count": 21,
   "metadata": {},
   "outputs": [],
   "source": [
    "x = es_renewable.TIME\n",
    "y = es_renewable.Value"
   ]
  },
  {
   "cell_type": "code",
   "execution_count": 22,
   "metadata": {},
   "outputs": [
    {
     "data": {
      "image/png": "[encoded data removed]",
      "text/plain": [
       "<Figure size 432x288 with 1 Axes>"
      ]
     },
     "metadata": {
      "needs_background": "light"
     },
     "output_type": "display_data"
    }
   ],
   "source": [
    "plt.plot(x, y)\n",
    "plt.show()"
   ]
  },
  {
   "cell_type": "code",
   "execution_count": 23,
   "metadata": {},
   "outputs": [
    {
     "data": {
      "text/html": [
       "<div>\n",
       "<style scoped>\n",
       "    .dataframe tbody tr th:only-of-type {\n",
       "        vertical-align: middle;\n",
       "    }\n",
       "\n",
       "    .dataframe tbody tr th {\n",
       "        vertical-align: top;\n",
       "    }\n",
       "\n",
       "    .dataframe thead th {\n",
       "        text-align: right;\n",
       "    }\n",
       "</style>\n",
       "<table border=\"1\" class=\"dataframe\">\n",
       "  <thead>\n",
       "    <tr style=\"text-align: right;\">\n",
       "      <th></th>\n",
       "      <th>TIME</th>\n",
       "      <th>GEO</th>\n",
       "      <th>NRG_BAL</th>\n",
       "      <th>SIEC</th>\n",
       "      <th>UNIT</th>\n",
       "      <th>Value</th>\n",
       "      <th>Flag and Footnotes</th>\n",
       "    </tr>\n",
       "  </thead>\n",
       "  <tbody>\n",
       "    <tr>\n",
       "      <th>0</th>\n",
       "      <td>2008</td>\n",
       "      <td>European Union - 28 countries</td>\n",
       "      <td>Inland consumption - calculated</td>\n",
       "      <td>Geothermal</td>\n",
       "      <td>Terajoule</td>\n",
       "      <td>235 262.865</td>\n",
       "      <td>NaN</td>\n",
       "    </tr>\n",
       "    <tr>\n",
       "      <th>1</th>\n",
       "      <td>2008</td>\n",
       "      <td>European Union - 28 countries</td>\n",
       "      <td>Inland consumption - calculated</td>\n",
       "      <td>Solar thermal</td>\n",
       "      <td>Terajoule</td>\n",
       "      <td>46 004.286</td>\n",
       "      <td>NaN</td>\n",
       "    </tr>\n",
       "    <tr>\n",
       "      <th>2</th>\n",
       "      <td>2008</td>\n",
       "      <td>European Union - 28 countries</td>\n",
       "      <td>Inland consumption - calculated</td>\n",
       "      <td>Primary solid biofuels</td>\n",
       "      <td>Terajoule</td>\n",
       "      <td>3 268 114.691</td>\n",
       "      <td>NaN</td>\n",
       "    </tr>\n",
       "    <tr>\n",
       "      <th>3</th>\n",
       "      <td>2008</td>\n",
       "      <td>European Union - 28 countries</td>\n",
       "      <td>Inland consumption - calculated</td>\n",
       "      <td>Biogases</td>\n",
       "      <td>Terajoule</td>\n",
       "      <td>280 015.181</td>\n",
       "      <td>NaN</td>\n",
       "    </tr>\n",
       "    <tr>\n",
       "      <th>4</th>\n",
       "      <td>2008</td>\n",
       "      <td>European Union - 28 countries</td>\n",
       "      <td>Inland consumption - calculated</td>\n",
       "      <td>Renewable municipal waste</td>\n",
       "      <td>Terajoule</td>\n",
       "      <td>303 233.213</td>\n",
       "      <td>NaN</td>\n",
       "    </tr>\n",
       "  </tbody>\n",
       "</table>\n",
       "</div>"
      ],
      "text/plain": [
       "   TIME                            GEO                          NRG_BAL  \\\n",
       "0  2008  European Union - 28 countries  Inland consumption - calculated   \n",
       "1  2008  European Union - 28 countries  Inland consumption - calculated   \n",
       "2  2008  European Union - 28 countries  Inland consumption - calculated   \n",
       "3  2008  European Union - 28 countries  Inland consumption - calculated   \n",
       "4  2008  European Union - 28 countries  Inland consumption - calculated   \n",
       "\n",
       "                        SIEC       UNIT          Value  Flag and Footnotes  \n",
       "0                 Geothermal  Terajoule    235 262.865                 NaN  \n",
       "1              Solar thermal  Terajoule     46 004.286                 NaN  \n",
       "2     Primary solid biofuels  Terajoule  3 268 114.691                 NaN  \n",
       "3                   Biogases  Terajoule    280 015.181                 NaN  \n",
       "4  Renewable municipal waste  Terajoule    303 233.213                 NaN  "
      ]
     },
     "execution_count": 23,
     "metadata": {},
     "output_type": "execute_result"
    }
   ],
   "source": [
    "supply_consumption = pd.read_csv(\"energy_data/supply_consumption_renewables.csv\")\n",
    "supply_consumption.head()"
   ]
  },
  {
   "cell_type": "code",
   "execution_count": 24,
   "metadata": {},
   "outputs": [
    {
     "data": {
      "text/html": [
       "<div>\n",
       "<style scoped>\n",
       "    .dataframe tbody tr th:only-of-type {\n",
       "        vertical-align: middle;\n",
       "    }\n",
       "\n",
       "    .dataframe tbody tr th {\n",
       "        vertical-align: top;\n",
       "    }\n",
       "\n",
       "    .dataframe thead th {\n",
       "        text-align: right;\n",
       "    }\n",
       "</style>\n",
       "<table border=\"1\" class=\"dataframe\">\n",
       "  <thead>\n",
       "    <tr style=\"text-align: right;\">\n",
       "      <th></th>\n",
       "      <th>TIME</th>\n",
       "      <th>GEO</th>\n",
       "      <th>NRG_BAL</th>\n",
       "      <th>SIEC</th>\n",
       "      <th>UNIT</th>\n",
       "      <th>Value</th>\n",
       "      <th>Flag and Footnotes</th>\n",
       "    </tr>\n",
       "  </thead>\n",
       "  <tbody>\n",
       "    <tr>\n",
       "      <th>50</th>\n",
       "      <td>2008</td>\n",
       "      <td>Spain</td>\n",
       "      <td>Inland consumption - calculated</td>\n",
       "      <td>Geothermal</td>\n",
       "      <td>Terajoule</td>\n",
       "      <td>459.000</td>\n",
       "      <td>NaN</td>\n",
       "    </tr>\n",
       "    <tr>\n",
       "      <th>51</th>\n",
       "      <td>2008</td>\n",
       "      <td>Spain</td>\n",
       "      <td>Inland consumption - calculated</td>\n",
       "      <td>Solar thermal</td>\n",
       "      <td>Terajoule</td>\n",
       "      <td>5 378.234</td>\n",
       "      <td>NaN</td>\n",
       "    </tr>\n",
       "    <tr>\n",
       "      <th>52</th>\n",
       "      <td>2008</td>\n",
       "      <td>Spain</td>\n",
       "      <td>Inland consumption - calculated</td>\n",
       "      <td>Primary solid biofuels</td>\n",
       "      <td>Terajoule</td>\n",
       "      <td>176 143.000</td>\n",
       "      <td>NaN</td>\n",
       "    </tr>\n",
       "    <tr>\n",
       "      <th>53</th>\n",
       "      <td>2008</td>\n",
       "      <td>Spain</td>\n",
       "      <td>Inland consumption - calculated</td>\n",
       "      <td>Biogases</td>\n",
       "      <td>Terajoule</td>\n",
       "      <td>8 660.000</td>\n",
       "      <td>NaN</td>\n",
       "    </tr>\n",
       "    <tr>\n",
       "      <th>54</th>\n",
       "      <td>2008</td>\n",
       "      <td>Spain</td>\n",
       "      <td>Inland consumption - calculated</td>\n",
       "      <td>Renewable municipal waste</td>\n",
       "      <td>Terajoule</td>\n",
       "      <td>13 735.000</td>\n",
       "      <td>NaN</td>\n",
       "    </tr>\n",
       "  </tbody>\n",
       "</table>\n",
       "</div>"
      ],
      "text/plain": [
       "    TIME    GEO                          NRG_BAL                       SIEC  \\\n",
       "50  2008  Spain  Inland consumption - calculated                 Geothermal   \n",
       "51  2008  Spain  Inland consumption - calculated              Solar thermal   \n",
       "52  2008  Spain  Inland consumption - calculated     Primary solid biofuels   \n",
       "53  2008  Spain  Inland consumption - calculated                   Biogases   \n",
       "54  2008  Spain  Inland consumption - calculated  Renewable municipal waste   \n",
       "\n",
       "         UNIT        Value  Flag and Footnotes  \n",
       "50  Terajoule      459.000                 NaN  \n",
       "51  Terajoule    5 378.234                 NaN  \n",
       "52  Terajoule  176 143.000                 NaN  \n",
       "53  Terajoule    8 660.000                 NaN  \n",
       "54  Terajoule   13 735.000                 NaN  "
      ]
     },
     "execution_count": 24,
     "metadata": {},
     "output_type": "execute_result"
    }
   ],
   "source": [
    "es_supply = supply_consumption[supply_consumption['GEO'] == 'Spain']\n",
    "es_supply.head()"
   ]
  },
  {
   "cell_type": "code",
   "execution_count": 25,
   "metadata": {},
   "outputs": [],
   "source": [
    "es_supply = es_supply.reset_index()\n",
    "categories = es_supply.SIEC"
   ]
  },
  {
   "cell_type": "code",
   "execution_count": 26,
   "metadata": {},
   "outputs": [
    {
     "data": {
      "text/plain": [
       "0                   Geothermal\n",
       "1                Solar thermal\n",
       "2       Primary solid biofuels\n",
       "3                     Biogases\n",
       "4    Renewable municipal waste\n",
       "Name: SIEC, dtype: object"
      ]
     },
     "execution_count": 26,
     "metadata": {},
     "output_type": "execute_result"
    }
   ],
   "source": [
    "categories.head()"
   ]
  },
  {
   "cell_type": "code",
   "execution_count": 27,
   "metadata": {},
   "outputs": [],
   "source": [
    "categories = categories.drop_duplicates()"
   ]
  },
  {
   "cell_type": "code",
   "execution_count": 28,
   "metadata": {},
   "outputs": [
    {
     "data": {
      "text/plain": [
       "0                   Geothermal\n",
       "1                Solar thermal\n",
       "2       Primary solid biofuels\n",
       "3                     Biogases\n",
       "4    Renewable municipal waste\n",
       "Name: SIEC, dtype: object"
      ]
     },
     "execution_count": 28,
     "metadata": {},
     "output_type": "execute_result"
    }
   ],
   "source": [
    "categories"
   ]
  },
  {
   "cell_type": "code",
   "execution_count": 29,
   "metadata": {},
   "outputs": [],
   "source": [
    "x = es_supply.TIME\n",
    "x = x.drop_duplicates()"
   ]
  },
  {
   "cell_type": "markdown",
   "metadata": {},
   "source": [
    "- Formateamos las celdas para que sean de tipo flotante:"
   ]
  },
  {
   "cell_type": "code",
   "execution_count": 57,
   "metadata": {},
   "outputs": [],
   "source": [
    "yGeo = es_supply[es_supply['SIEC'] == categories.get(0)].Value\n",
    "yGeo = yGeo.astype(float)\n",
    "\n",
    "ySol = es_supply[es_supply['SIEC'] == categories.get(1)].Value\n",
    "ySol = (ySol.str.replace(\" \", \"\")).astype(float)\n",
    "\n",
    "yBio = es_supply[es_supply['SIEC'] == categories.get(2)].Value\n",
    "yBio = (yBio.str.replace(\" \", \"\")).astype(float)\n",
    "\n",
    "yGas = es_supply[es_supply['SIEC'] == categories.get(3)].Value\n",
    "yGas = (yGas.str.replace(\" \", \"\")).astype(float)\n",
    "\n",
    "yWaste = es_supply[es_supply['SIEC'] == categories.get(4)].Value\n",
    "yWaste = (yWaste.str.replace(\" \", \"\")).astype(float)"
   ]
  },
  {
   "cell_type": "code",
   "execution_count": 31,
   "metadata": {},
   "outputs": [
    {
     "data": {
      "image/png": "[encoded data removed]",
      "text/plain": [
       "<Figure size 1080x504 with 1 Axes>"
      ]
     },
     "metadata": {
      "needs_background": "light"
     },
     "output_type": "display_data"
    }
   ],
   "source": [
    "plt.figure(figsize=(15, 7))\n",
    "plt.plot(x, yGeo, x, ySol, x, yBio, x, yGas, x, yWaste)\n",
    "plt.xlabel('Año')\n",
    "plt.ylabel('Consumo (TJ)')\n",
    "plt.title('Consumo de las distintas energías en terajulios por año')\n",
    "plt.yscale('log')\n",
    "plt.legend(['Geotérmica', 'Solar', 'Biofuels', 'Gas', 'Renovables & Desperdicios'])\n",
    "plt.show()"
   ]
  },
  {
   "cell_type": "code",
   "execution_count": 32,
   "metadata": {},
   "outputs": [],
   "source": [
    "energy_prod = pd.read_csv(\"energy_data/energy_productivity.csv\", delimiter=';')\n",
    "energy_supp = pd.read_csv(\"energy_data/energy_supply.csv\", delimiter=';')\n",
    "energy_cons = pd.read_csv(\"energy_data/consumo_todas_energias.csv\", delimiter=';')"
   ]
  },
  {
   "cell_type": "code",
   "execution_count": 33,
   "metadata": {},
   "outputs": [
    {
     "data": {
      "text/html": [
       "<div>\n",
       "<style scoped>\n",
       "    .dataframe tbody tr th:only-of-type {\n",
       "        vertical-align: middle;\n",
       "    }\n",
       "\n",
       "    .dataframe tbody tr th {\n",
       "        vertical-align: top;\n",
       "    }\n",
       "\n",
       "    .dataframe thead th {\n",
       "        text-align: right;\n",
       "    }\n",
       "</style>\n",
       "<table border=\"1\" class=\"dataframe\">\n",
       "  <thead>\n",
       "    <tr style=\"text-align: right;\">\n",
       "      <th></th>\n",
       "      <th>Unnamed: 0</th>\n",
       "      <th>freq</th>\n",
       "      <th>unit</th>\n",
       "      <th>geo\\TIME_PERIOD</th>\n",
       "      <th>2000</th>\n",
       "      <th>2001</th>\n",
       "      <th>2002</th>\n",
       "      <th>2003</th>\n",
       "      <th>2004</th>\n",
       "      <th>2005</th>\n",
       "      <th>...</th>\n",
       "      <th>2008</th>\n",
       "      <th>2009</th>\n",
       "      <th>2010</th>\n",
       "      <th>2011</th>\n",
       "      <th>2012</th>\n",
       "      <th>2013</th>\n",
       "      <th>2014</th>\n",
       "      <th>2015</th>\n",
       "      <th>2016</th>\n",
       "      <th>2017</th>\n",
       "    </tr>\n",
       "  </thead>\n",
       "  <tbody>\n",
       "    <tr>\n",
       "      <th>0</th>\n",
       "      <td>AL</td>\n",
       "      <td>NaN</td>\n",
       "      <td>NaN</td>\n",
       "      <td>NaN</td>\n",
       "      <td>NaN</td>\n",
       "      <td>NaN</td>\n",
       "      <td>NaN</td>\n",
       "      <td>NaN</td>\n",
       "      <td>NaN</td>\n",
       "      <td>NaN</td>\n",
       "      <td>...</td>\n",
       "      <td>NaN</td>\n",
       "      <td>NaN</td>\n",
       "      <td>NaN</td>\n",
       "      <td>NaN</td>\n",
       "      <td>NaN</td>\n",
       "      <td>NaN</td>\n",
       "      <td>NaN</td>\n",
       "      <td>NaN</td>\n",
       "      <td>NaN</td>\n",
       "      <td>NaN</td>\n",
       "    </tr>\n",
       "    <tr>\n",
       "      <th>1</th>\n",
       "      <td>NaN</td>\n",
       "      <td>A</td>\n",
       "      <td>EUR_KGOE</td>\n",
       "      <td>AL</td>\n",
       "      <td>2.831</td>\n",
       "      <td>3.003</td>\n",
       "      <td>2.842</td>\n",
       "      <td>3.063</td>\n",
       "      <td>2.945</td>\n",
       "      <td>3.091</td>\n",
       "      <td>...</td>\n",
       "      <td>3.922</td>\n",
       "      <td>3.995</td>\n",
       "      <td>4.180</td>\n",
       "      <td>4.109</td>\n",
       "      <td>4.625</td>\n",
       "      <td>3.961</td>\n",
       "      <td>4.048</td>\n",
       "      <td>4.429</td>\n",
       "      <td>4.445</td>\n",
       "      <td>4.385</td>\n",
       "    </tr>\n",
       "    <tr>\n",
       "      <th>2</th>\n",
       "      <td>NaN</td>\n",
       "      <td>A</td>\n",
       "      <td>PPS_KGOE</td>\n",
       "      <td>AL</td>\n",
       "      <td>5.658</td>\n",
       "      <td>6.059</td>\n",
       "      <td>5.864</td>\n",
       "      <td>6.314</td>\n",
       "      <td>6.205</td>\n",
       "      <td>6.670</td>\n",
       "      <td>...</td>\n",
       "      <td>8.956</td>\n",
       "      <td>9.040</td>\n",
       "      <td>9.973</td>\n",
       "      <td>9.964</td>\n",
       "      <td>11.405</td>\n",
       "      <td>9.424</td>\n",
       "      <td>10.093</td>\n",
       "      <td>11.372</td>\n",
       "      <td>10.867</td>\n",
       "      <td>10.907</td>\n",
       "    </tr>\n",
       "    <tr>\n",
       "      <th>3</th>\n",
       "      <td>AT</td>\n",
       "      <td>NaN</td>\n",
       "      <td>NaN</td>\n",
       "      <td>NaN</td>\n",
       "      <td>NaN</td>\n",
       "      <td>NaN</td>\n",
       "      <td>NaN</td>\n",
       "      <td>NaN</td>\n",
       "      <td>NaN</td>\n",
       "      <td>NaN</td>\n",
       "      <td>...</td>\n",
       "      <td>NaN</td>\n",
       "      <td>NaN</td>\n",
       "      <td>NaN</td>\n",
       "      <td>NaN</td>\n",
       "      <td>NaN</td>\n",
       "      <td>NaN</td>\n",
       "      <td>NaN</td>\n",
       "      <td>NaN</td>\n",
       "      <td>NaN</td>\n",
       "      <td>NaN</td>\n",
       "    </tr>\n",
       "    <tr>\n",
       "      <th>4</th>\n",
       "      <td>NaN</td>\n",
       "      <td>A</td>\n",
       "      <td>EUR_KGOE</td>\n",
       "      <td>AT</td>\n",
       "      <td>8.691</td>\n",
       "      <td>8.341</td>\n",
       "      <td>8.430</td>\n",
       "      <td>8.086</td>\n",
       "      <td>8.152</td>\n",
       "      <td>8.100</td>\n",
       "      <td>...</td>\n",
       "      <td>8.881</td>\n",
       "      <td>9.007</td>\n",
       "      <td>8.609</td>\n",
       "      <td>9.121</td>\n",
       "      <td>9.239</td>\n",
       "      <td>9.028</td>\n",
       "      <td>9.384</td>\n",
       "      <td>9.318</td>\n",
       "      <td>9.432</td>\n",
       "      <td>9.486</td>\n",
       "    </tr>\n",
       "  </tbody>\n",
       "</table>\n",
       "<p>5 rows × 22 columns</p>\n",
       "</div>"
      ],
      "text/plain": [
       "  Unnamed: 0 freq      unit geo\\TIME_PERIOD   2000   2001   2002   2003  \\\n",
       "0         AL  NaN       NaN             NaN    NaN    NaN    NaN    NaN   \n",
       "1        NaN    A  EUR_KGOE              AL  2.831  3.003  2.842  3.063   \n",
       "2        NaN    A  PPS_KGOE              AL  5.658  6.059  5.864  6.314   \n",
       "3         AT  NaN       NaN             NaN    NaN    NaN    NaN    NaN   \n",
       "4        NaN    A  EUR_KGOE              AT  8.691  8.341  8.430  8.086   \n",
       "\n",
       "    2004   2005  ...   2008   2009   2010   2011    2012   2013    2014  \\\n",
       "0    NaN    NaN  ...    NaN    NaN    NaN    NaN     NaN    NaN     NaN   \n",
       "1  2.945  3.091  ...  3.922  3.995  4.180  4.109   4.625  3.961   4.048   \n",
       "2  6.205  6.670  ...  8.956  9.040  9.973  9.964  11.405  9.424  10.093   \n",
       "3    NaN    NaN  ...    NaN    NaN    NaN    NaN     NaN    NaN     NaN   \n",
       "4  8.152  8.100  ...  8.881  9.007  8.609  9.121   9.239  9.028   9.384   \n",
       "\n",
       "     2015    2016    2017  \n",
       "0     NaN     NaN     NaN  \n",
       "1   4.429   4.445   4.385  \n",
       "2  11.372  10.867  10.907  \n",
       "3     NaN     NaN     NaN  \n",
       "4   9.318   9.432   9.486  \n",
       "\n",
       "[5 rows x 22 columns]"
      ]
     },
     "execution_count": 33,
     "metadata": {},
     "output_type": "execute_result"
    }
   ],
   "source": [
    "energy_prod.head()"
   ]
  },
  {
   "cell_type": "code",
   "execution_count": 34,
   "metadata": {},
   "outputs": [
    {
     "data": {
      "text/html": [
       "<div>\n",
       "<style scoped>\n",
       "    .dataframe tbody tr th:only-of-type {\n",
       "        vertical-align: middle;\n",
       "    }\n",
       "\n",
       "    .dataframe tbody tr th {\n",
       "        vertical-align: top;\n",
       "    }\n",
       "\n",
       "    .dataframe thead th {\n",
       "        text-align: right;\n",
       "    }\n",
       "</style>\n",
       "<table border=\"1\" class=\"dataframe\">\n",
       "  <thead>\n",
       "    <tr style=\"text-align: right;\">\n",
       "      <th></th>\n",
       "      <th>Unnamed: 0</th>\n",
       "      <th>freq</th>\n",
       "      <th>unit</th>\n",
       "      <th>geo\\TIME_PERIOD</th>\n",
       "      <th>2000</th>\n",
       "      <th>2001</th>\n",
       "      <th>2002</th>\n",
       "      <th>2003</th>\n",
       "      <th>2004</th>\n",
       "      <th>2005</th>\n",
       "      <th>...</th>\n",
       "      <th>2008</th>\n",
       "      <th>2009</th>\n",
       "      <th>2010</th>\n",
       "      <th>2011</th>\n",
       "      <th>2012</th>\n",
       "      <th>2013</th>\n",
       "      <th>2014</th>\n",
       "      <th>2015</th>\n",
       "      <th>2016</th>\n",
       "      <th>2017</th>\n",
       "    </tr>\n",
       "  </thead>\n",
       "  <tbody>\n",
       "    <tr>\n",
       "      <th>37</th>\n",
       "      <td>NaN</td>\n",
       "      <td>A</td>\n",
       "      <td>EUR_KGOE</td>\n",
       "      <td>ES</td>\n",
       "      <td>6.649</td>\n",
       "      <td>6.711</td>\n",
       "      <td>6.717</td>\n",
       "      <td>6.703</td>\n",
       "      <td>6.620</td>\n",
       "      <td>6.706</td>\n",
       "      <td>...</td>\n",
       "      <td>7.424</td>\n",
       "      <td>7.757</td>\n",
       "      <td>7.785</td>\n",
       "      <td>7.732</td>\n",
       "      <td>7.537</td>\n",
       "      <td>7.956</td>\n",
       "      <td>8.186</td>\n",
       "      <td>8.201</td>\n",
       "      <td>8.372</td>\n",
       "      <td>8.271</td>\n",
       "    </tr>\n",
       "    <tr>\n",
       "      <th>38</th>\n",
       "      <td>NaN</td>\n",
       "      <td>A</td>\n",
       "      <td>PPS_KGOE</td>\n",
       "      <td>ES</td>\n",
       "      <td>5.864</td>\n",
       "      <td>6.040</td>\n",
       "      <td>6.271</td>\n",
       "      <td>6.273</td>\n",
       "      <td>6.367</td>\n",
       "      <td>6.721</td>\n",
       "      <td>...</td>\n",
       "      <td>8.050</td>\n",
       "      <td>8.198</td>\n",
       "      <td>8.195</td>\n",
       "      <td>8.171</td>\n",
       "      <td>8.204</td>\n",
       "      <td>8.700</td>\n",
       "      <td>9.133</td>\n",
       "      <td>9.344</td>\n",
       "      <td>9.391</td>\n",
       "      <td>9.318</td>\n",
       "    </tr>\n",
       "  </tbody>\n",
       "</table>\n",
       "<p>2 rows × 22 columns</p>\n",
       "</div>"
      ],
      "text/plain": [
       "   Unnamed: 0 freq      unit geo\\TIME_PERIOD   2000   2001   2002   2003  \\\n",
       "37        NaN    A  EUR_KGOE              ES  6.649  6.711  6.717  6.703   \n",
       "38        NaN    A  PPS_KGOE              ES  5.864  6.040  6.271  6.273   \n",
       "\n",
       "     2004   2005  ...   2008   2009   2010   2011   2012   2013   2014   2015  \\\n",
       "37  6.620  6.706  ...  7.424  7.757  7.785  7.732  7.537  7.956  8.186  8.201   \n",
       "38  6.367  6.721  ...  8.050  8.198  8.195  8.171  8.204  8.700  9.133  9.344   \n",
       "\n",
       "     2016   2017  \n",
       "37  8.372  8.271  \n",
       "38  9.391  9.318  \n",
       "\n",
       "[2 rows x 22 columns]"
      ]
     },
     "execution_count": 34,
     "metadata": {},
     "output_type": "execute_result"
    }
   ],
   "source": [
    "energy_prod_es = energy_prod[energy_prod['geo\\\\TIME_PERIOD'] == 'ES']\n",
    "energy_prod_es"
   ]
  },
  {
   "cell_type": "code",
   "execution_count": 35,
   "metadata": {},
   "outputs": [
    {
     "data": {
      "text/html": [
       "<div>\n",
       "<style scoped>\n",
       "    .dataframe tbody tr th:only-of-type {\n",
       "        vertical-align: middle;\n",
       "    }\n",
       "\n",
       "    .dataframe tbody tr th {\n",
       "        vertical-align: top;\n",
       "    }\n",
       "\n",
       "    .dataframe thead th {\n",
       "        text-align: right;\n",
       "    }\n",
       "</style>\n",
       "<table border=\"1\" class=\"dataframe\">\n",
       "  <thead>\n",
       "    <tr style=\"text-align: right;\">\n",
       "      <th></th>\n",
       "      <th>Unnamed: 0</th>\n",
       "      <th>freq</th>\n",
       "      <th>unit</th>\n",
       "      <th>geo\\TIME_PERIOD</th>\n",
       "      <th>YEAR</th>\n",
       "      <th>production</th>\n",
       "    </tr>\n",
       "  </thead>\n",
       "  <tbody>\n",
       "    <tr>\n",
       "      <th>0</th>\n",
       "      <td>NaN</td>\n",
       "      <td>A</td>\n",
       "      <td>EUR_KGOE</td>\n",
       "      <td>ES</td>\n",
       "      <td>2000</td>\n",
       "      <td>6.649</td>\n",
       "    </tr>\n",
       "    <tr>\n",
       "      <th>1</th>\n",
       "      <td>NaN</td>\n",
       "      <td>A</td>\n",
       "      <td>PPS_KGOE</td>\n",
       "      <td>ES</td>\n",
       "      <td>2000</td>\n",
       "      <td>5.864</td>\n",
       "    </tr>\n",
       "    <tr>\n",
       "      <th>2</th>\n",
       "      <td>NaN</td>\n",
       "      <td>A</td>\n",
       "      <td>EUR_KGOE</td>\n",
       "      <td>ES</td>\n",
       "      <td>2001</td>\n",
       "      <td>6.711</td>\n",
       "    </tr>\n",
       "    <tr>\n",
       "      <th>3</th>\n",
       "      <td>NaN</td>\n",
       "      <td>A</td>\n",
       "      <td>PPS_KGOE</td>\n",
       "      <td>ES</td>\n",
       "      <td>2001</td>\n",
       "      <td>6.040</td>\n",
       "    </tr>\n",
       "    <tr>\n",
       "      <th>4</th>\n",
       "      <td>NaN</td>\n",
       "      <td>A</td>\n",
       "      <td>EUR_KGOE</td>\n",
       "      <td>ES</td>\n",
       "      <td>2002</td>\n",
       "      <td>6.717</td>\n",
       "    </tr>\n",
       "  </tbody>\n",
       "</table>\n",
       "</div>"
      ],
      "text/plain": [
       "  Unnamed: 0 freq      unit geo\\TIME_PERIOD  YEAR production\n",
       "0        NaN    A  EUR_KGOE              ES  2000      6.649\n",
       "1        NaN    A  PPS_KGOE              ES  2000      5.864\n",
       "2        NaN    A  EUR_KGOE              ES  2001      6.711\n",
       "3        NaN    A  PPS_KGOE              ES  2001      6.040\n",
       "4        NaN    A  EUR_KGOE              ES  2002      6.717"
      ]
     },
     "execution_count": 35,
     "metadata": {},
     "output_type": "execute_result"
    }
   ],
   "source": [
    "energy_prod_es = energy_prod_es.melt(\n",
    "    id_vars=['Unnamed: 0', 'freq', 'unit', 'geo\\\\TIME_PERIOD'],\n",
    "    var_name='YEAR',\n",
    "    value_name='production'\n",
    ")\n",
    "\n",
    "energy_prod_es.head()"
   ]
  },
  {
   "cell_type": "code",
   "execution_count": 36,
   "metadata": {},
   "outputs": [],
   "source": [
    "energy_prod_es.production = (energy_prod_es.production).str.replace(\".\", \"\")\n",
    "energy_prod_es.production[energy_prod_es.production == 'NaN'] = 1\n",
    "energy_prod_es.production = pd.to_numeric(energy_prod_es.production)"
   ]
  },
  {
   "cell_type": "code",
   "execution_count": 37,
   "metadata": {},
   "outputs": [],
   "source": [
    "share_renewable = pd.read_csv(\"energy_data/share_renewable.csv\")"
   ]
  },
  {
   "cell_type": "code",
   "execution_count": 38,
   "metadata": {},
   "outputs": [
    {
     "data": {
      "text/html": [
       "<div>\n",
       "<style scoped>\n",
       "    .dataframe tbody tr th:only-of-type {\n",
       "        vertical-align: middle;\n",
       "    }\n",
       "\n",
       "    .dataframe tbody tr th {\n",
       "        vertical-align: top;\n",
       "    }\n",
       "\n",
       "    .dataframe thead th {\n",
       "        text-align: right;\n",
       "    }\n",
       "</style>\n",
       "<table border=\"1\" class=\"dataframe\">\n",
       "  <thead>\n",
       "    <tr style=\"text-align: right;\">\n",
       "      <th></th>\n",
       "      <th>TIME</th>\n",
       "      <th>GEO</th>\n",
       "      <th>NRG_BAL</th>\n",
       "      <th>UNIT</th>\n",
       "      <th>Value</th>\n",
       "      <th>Flag and Footnotes</th>\n",
       "    </tr>\n",
       "  </thead>\n",
       "  <tbody>\n",
       "    <tr>\n",
       "      <th>0</th>\n",
       "      <td>2008</td>\n",
       "      <td>European Union - 28 countries</td>\n",
       "      <td>Renewable energy sources</td>\n",
       "      <td>Percentage</td>\n",
       "      <td>11.325</td>\n",
       "      <td>NaN</td>\n",
       "    </tr>\n",
       "    <tr>\n",
       "      <th>1</th>\n",
       "      <td>2008</td>\n",
       "      <td>Belgium</td>\n",
       "      <td>Renewable energy sources</td>\n",
       "      <td>Percentage</td>\n",
       "      <td>3.591</td>\n",
       "      <td>NaN</td>\n",
       "    </tr>\n",
       "    <tr>\n",
       "      <th>2</th>\n",
       "      <td>2008</td>\n",
       "      <td>Bulgaria</td>\n",
       "      <td>Renewable energy sources</td>\n",
       "      <td>Percentage</td>\n",
       "      <td>10.492</td>\n",
       "      <td>NaN</td>\n",
       "    </tr>\n",
       "    <tr>\n",
       "      <th>3</th>\n",
       "      <td>2008</td>\n",
       "      <td>Czechia</td>\n",
       "      <td>Renewable energy sources</td>\n",
       "      <td>Percentage</td>\n",
       "      <td>8.626</td>\n",
       "      <td>NaN</td>\n",
       "    </tr>\n",
       "    <tr>\n",
       "      <th>4</th>\n",
       "      <td>2008</td>\n",
       "      <td>Denmark</td>\n",
       "      <td>Renewable energy sources</td>\n",
       "      <td>Percentage</td>\n",
       "      <td>18.564</td>\n",
       "      <td>NaN</td>\n",
       "    </tr>\n",
       "  </tbody>\n",
       "</table>\n",
       "</div>"
      ],
      "text/plain": [
       "   TIME                            GEO                   NRG_BAL        UNIT  \\\n",
       "0  2008  European Union - 28 countries  Renewable energy sources  Percentage   \n",
       "1  2008                        Belgium  Renewable energy sources  Percentage   \n",
       "2  2008                       Bulgaria  Renewable energy sources  Percentage   \n",
       "3  2008                        Czechia  Renewable energy sources  Percentage   \n",
       "4  2008                        Denmark  Renewable energy sources  Percentage   \n",
       "\n",
       "    Value  Flag and Footnotes  \n",
       "0  11.325                 NaN  \n",
       "1   3.591                 NaN  \n",
       "2  10.492                 NaN  \n",
       "3   8.626                 NaN  \n",
       "4  18.564                 NaN  "
      ]
     },
     "execution_count": 38,
     "metadata": {},
     "output_type": "execute_result"
    }
   ],
   "source": [
    "share_renewable.head()"
   ]
  },
  {
   "cell_type": "code",
   "execution_count": 39,
   "metadata": {},
   "outputs": [],
   "source": [
    "share_renewable.Value = pd.to_numeric(share_renewable.Value)"
   ]
  },
  {
   "cell_type": "code",
   "execution_count": 40,
   "metadata": {},
   "outputs": [],
   "source": [
    "share_renewable_es = share_renewable[share_renewable['GEO'] == 'Spain']"
   ]
  },
  {
   "cell_type": "code",
   "execution_count": 41,
   "metadata": {},
   "outputs": [
    {
     "data": {
      "text/html": [
       "<div>\n",
       "<style scoped>\n",
       "    .dataframe tbody tr th:only-of-type {\n",
       "        vertical-align: middle;\n",
       "    }\n",
       "\n",
       "    .dataframe tbody tr th {\n",
       "        vertical-align: top;\n",
       "    }\n",
       "\n",
       "    .dataframe thead th {\n",
       "        text-align: right;\n",
       "    }\n",
       "</style>\n",
       "<table border=\"1\" class=\"dataframe\">\n",
       "  <thead>\n",
       "    <tr style=\"text-align: right;\">\n",
       "      <th></th>\n",
       "      <th>TIME</th>\n",
       "      <th>GEO</th>\n",
       "      <th>NRG_BAL</th>\n",
       "      <th>UNIT</th>\n",
       "      <th>Value</th>\n",
       "      <th>Flag and Footnotes</th>\n",
       "    </tr>\n",
       "  </thead>\n",
       "  <tbody>\n",
       "    <tr>\n",
       "      <th>9</th>\n",
       "      <td>2008</td>\n",
       "      <td>Spain</td>\n",
       "      <td>Renewable energy sources</td>\n",
       "      <td>Percentage</td>\n",
       "      <td>10.737</td>\n",
       "      <td>NaN</td>\n",
       "    </tr>\n",
       "    <tr>\n",
       "      <th>46</th>\n",
       "      <td>2009</td>\n",
       "      <td>Spain</td>\n",
       "      <td>Renewable energy sources</td>\n",
       "      <td>Percentage</td>\n",
       "      <td>12.963</td>\n",
       "      <td>NaN</td>\n",
       "    </tr>\n",
       "    <tr>\n",
       "      <th>83</th>\n",
       "      <td>2010</td>\n",
       "      <td>Spain</td>\n",
       "      <td>Renewable energy sources</td>\n",
       "      <td>Percentage</td>\n",
       "      <td>13.810</td>\n",
       "      <td>NaN</td>\n",
       "    </tr>\n",
       "    <tr>\n",
       "      <th>120</th>\n",
       "      <td>2011</td>\n",
       "      <td>Spain</td>\n",
       "      <td>Renewable energy sources</td>\n",
       "      <td>Percentage</td>\n",
       "      <td>13.224</td>\n",
       "      <td>NaN</td>\n",
       "    </tr>\n",
       "    <tr>\n",
       "      <th>157</th>\n",
       "      <td>2012</td>\n",
       "      <td>Spain</td>\n",
       "      <td>Renewable energy sources</td>\n",
       "      <td>Percentage</td>\n",
       "      <td>14.286</td>\n",
       "      <td>NaN</td>\n",
       "    </tr>\n",
       "    <tr>\n",
       "      <th>194</th>\n",
       "      <td>2013</td>\n",
       "      <td>Spain</td>\n",
       "      <td>Renewable energy sources</td>\n",
       "      <td>Percentage</td>\n",
       "      <td>15.320</td>\n",
       "      <td>NaN</td>\n",
       "    </tr>\n",
       "    <tr>\n",
       "      <th>231</th>\n",
       "      <td>2014</td>\n",
       "      <td>Spain</td>\n",
       "      <td>Renewable energy sources</td>\n",
       "      <td>Percentage</td>\n",
       "      <td>16.126</td>\n",
       "      <td>NaN</td>\n",
       "    </tr>\n",
       "    <tr>\n",
       "      <th>268</th>\n",
       "      <td>2015</td>\n",
       "      <td>Spain</td>\n",
       "      <td>Renewable energy sources</td>\n",
       "      <td>Percentage</td>\n",
       "      <td>16.217</td>\n",
       "      <td>NaN</td>\n",
       "    </tr>\n",
       "    <tr>\n",
       "      <th>305</th>\n",
       "      <td>2016</td>\n",
       "      <td>Spain</td>\n",
       "      <td>Renewable energy sources</td>\n",
       "      <td>Percentage</td>\n",
       "      <td>17.356</td>\n",
       "      <td>NaN</td>\n",
       "    </tr>\n",
       "    <tr>\n",
       "      <th>342</th>\n",
       "      <td>2017</td>\n",
       "      <td>Spain</td>\n",
       "      <td>Renewable energy sources</td>\n",
       "      <td>Percentage</td>\n",
       "      <td>17.511</td>\n",
       "      <td>NaN</td>\n",
       "    </tr>\n",
       "  </tbody>\n",
       "</table>\n",
       "</div>"
      ],
      "text/plain": [
       "     TIME    GEO                   NRG_BAL        UNIT   Value  \\\n",
       "9    2008  Spain  Renewable energy sources  Percentage  10.737   \n",
       "46   2009  Spain  Renewable energy sources  Percentage  12.963   \n",
       "83   2010  Spain  Renewable energy sources  Percentage  13.810   \n",
       "120  2011  Spain  Renewable energy sources  Percentage  13.224   \n",
       "157  2012  Spain  Renewable energy sources  Percentage  14.286   \n",
       "194  2013  Spain  Renewable energy sources  Percentage  15.320   \n",
       "231  2014  Spain  Renewable energy sources  Percentage  16.126   \n",
       "268  2015  Spain  Renewable energy sources  Percentage  16.217   \n",
       "305  2016  Spain  Renewable energy sources  Percentage  17.356   \n",
       "342  2017  Spain  Renewable energy sources  Percentage  17.511   \n",
       "\n",
       "     Flag and Footnotes  \n",
       "9                   NaN  \n",
       "46                  NaN  \n",
       "83                  NaN  \n",
       "120                 NaN  \n",
       "157                 NaN  \n",
       "194                 NaN  \n",
       "231                 NaN  \n",
       "268                 NaN  \n",
       "305                 NaN  \n",
       "342                 NaN  "
      ]
     },
     "execution_count": 41,
     "metadata": {},
     "output_type": "execute_result"
    }
   ],
   "source": [
    "share_renewable_es"
   ]
  },
  {
   "cell_type": "code",
   "execution_count": 42,
   "metadata": {},
   "outputs": [
    {
     "data": {
      "text/plain": [
       "Text(0.5, 1.0, 'Evolution of use of renewable energies over time')"
      ]
     },
     "execution_count": 42,
     "metadata": {},
     "output_type": "execute_result"
    },
    {
     "data": {
      "image/png": "[encoded data removed]",
      "text/plain": [
       "<Figure size 432x288 with 1 Axes>"
      ]
     },
     "metadata": {
      "needs_background": "light"
     },
     "output_type": "display_data"
    }
   ],
   "source": [
    "plt.plot(share_renewable_es.TIME, share_renewable_es.Value)\n",
    "plt.xlabel('Time')\n",
    "plt.ylabel('% of use')\n",
    "plt.title('Evolution of use of renewable energies over time')"
   ]
  },
  {
   "cell_type": "markdown",
   "metadata": {},
   "source": [
    "# ////////////// COMIENZO DE LA LIBRETA //////////////"
   ]
  },
  {
   "cell_type": "markdown",
   "metadata": {},
   "source": [
    "#### Importamos las librerías necesarias..."
   ]
  },
  {
   "cell_type": "code",
   "execution_count": 37,
   "metadata": {},
   "outputs": [],
   "source": [
    "import pandas as pd\n",
    "import numpy as np\n",
    "import matplotlib.pyplot as plt"
   ]
  },
  {
   "cell_type": "code",
   "execution_count": 38,
   "metadata": {},
   "outputs": [],
   "source": [
    "electricity_prices_household = pd.read_csv(\"energy_data/electricity_prices_household.csv\", delimiter=';')\n",
    "gas_prices_household = pd.read_csv(\"energy_data/gas_prices_household.csv\", delimiter=';')\n",
    "consumo_energias_sector = pd.read_csv(\"energy_data/consumo_energias_sector.csv\", delimiter=';')\n",
    "energy_supply = pd.read_csv(\"energy_data/energy_supply.csv\", delimiter=';')\n",
    "energy_productivity = pd.read_csv(\"energy_data/energy_productivity.csv\", delimiter=';')"
   ]
  },
  {
   "cell_type": "markdown",
   "metadata": {},
   "source": [
    "#### Definición de funciones útiles"
   ]
  },
  {
   "cell_type": "code",
   "execution_count": 39,
   "metadata": {},
   "outputs": [],
   "source": [
    "def consulta_por_valor_columna(dataframe, valor, nombre_columna):\n",
    "    return dataframe[dataframe[nombre_columna] == valor]"
   ]
  },
  {
   "cell_type": "code",
   "execution_count": 40,
   "metadata": {},
   "outputs": [],
   "source": [
    "def crear_grafica(x_data, y_data, titulo, x_label, y_label):\n",
    "    plt.plot(x_data, y_data)\n",
    "    plt.xlabel(x_label)\n",
    "    plt.ylabel(y_label)\n",
    "    plt.title(titulo)"
   ]
  },
  {
   "cell_type": "code",
   "execution_count": 41,
   "metadata": {},
   "outputs": [],
   "source": [
    "def castear_a_float(input_list):\n",
    "    '''Recibe una lista de valores y devuelve otra con los valores interpretados como flotantes.\n",
    "    Esta función NO edita la columna, devuelve una nueva. La columna del dataframe original deberá ser sobreescrita pertinentemente.\n",
    "    ''' \n",
    "    return input_list.apply(float)"
   ]
  },
  {
   "cell_type": "code",
   "execution_count": 42,
   "metadata": {},
   "outputs": [],
   "source": [
    "def string_replace_columna(columna, valor_a_buscar, valor_sustituto):\n",
    "    '''Busca espacios en la columna y los elimina\n",
    "    Esta función NO edita la columna, devuelve una nueva. La columna del dataframe original deberá ser sobreescrita pertinentemente.\n",
    "    '''\n",
    "    return columna.str.replace(valor_a_buscar, valor_sustituto)"
   ]
  },
  {
   "cell_type": "code",
   "execution_count": 43,
   "metadata": {},
   "outputs": [],
   "source": [
    "def eliminar_valores_invalidos(dataframe, columna, valor_invalido, valor_nuevo):\n",
    "    '''Sustituye las instancias de valor_invalido por las de valor nuevo en la columna. Por ejemplo, para sustituir \\':\\' por -1\n",
    "    Es recomendable pasar el valor nuevo como tipo igual al que tiene el data frame, para que luego los casteos no se hagan complicados\n",
    "    '''\n",
    "    dataframe.loc[dataframe[columna] == valor_invalido, columna] = valor_nuevo"
   ]
  },
  {
   "cell_type": "code",
   "execution_count": 44,
   "metadata": {},
   "outputs": [],
   "source": [
    "electricity_prices_household = electricity_prices_household.melt(\n",
    "    id_vars=['product', 'consom', 'unit', 'tax', 'currency', 'geo\\\\time'],\n",
    "    var_name='semester',\n",
    "    value_name='cost'\n",
    ")"
   ]
  },
  {
   "cell_type": "markdown",
   "metadata": {},
   "source": [
    "#### Ejemplo de uso de las funciones:"
   ]
  },
  {
   "cell_type": "code",
   "execution_count": 45,
   "metadata": {},
   "outputs": [],
   "source": [
    "eliminar_valores_invalidos(electricity_prices_household, 'cost', ': ', '-1')\n",
    "eliminar_valores_invalidos(electricity_prices_household, 'cost', ': u', '-1')\n",
    "electricity_prices_household.cost = string_replace_columna(electricity_prices_household.cost, 'u', \"\")\n",
    "electricity_prices_household.cost = string_replace_columna(electricity_prices_household.cost, 'p', \"\")"
   ]
  },
  {
   "cell_type": "code",
   "execution_count": 46,
   "metadata": {},
   "outputs": [],
   "source": [
    "electricity_prices_household.cost = castear_a_float(electricity_prices_household.cost)"
   ]
  },
  {
   "cell_type": "code",
   "execution_count": 47,
   "metadata": {},
   "outputs": [
    {
     "data": {
      "text/plain": [
       "0   -1.0000\n",
       "1    0.3796\n",
       "2    0.2090\n",
       "3    0.4742\n",
       "4    0.1014\n",
       "Name: cost, dtype: float64"
      ]
     },
     "execution_count": 47,
     "metadata": {},
     "output_type": "execute_result"
    }
   ],
   "source": [
    "electricity_prices_household.cost.head()"
   ]
  },
  {
   "cell_type": "markdown",
   "metadata": {},
   "source": [
    "#### Podemos ver que ahora el tipo de esa columna es flotante, no _object_ o _str_"
   ]
  },
  {
   "cell_type": "code",
   "execution_count": 48,
   "metadata": {},
   "outputs": [],
   "source": [
    "supply_consumption_renewables = pd.read_csv(\"energy_data/supply_consumption_renewables.csv\")"
   ]
  },
  {
   "cell_type": "code",
   "execution_count": 49,
   "metadata": {},
   "outputs": [
    {
     "data": {
      "text/html": [
       "<div>\n",
       "<style scoped>\n",
       "    .dataframe tbody tr th:only-of-type {\n",
       "        vertical-align: middle;\n",
       "    }\n",
       "\n",
       "    .dataframe tbody tr th {\n",
       "        vertical-align: top;\n",
       "    }\n",
       "\n",
       "    .dataframe thead th {\n",
       "        text-align: right;\n",
       "    }\n",
       "</style>\n",
       "<table border=\"1\" class=\"dataframe\">\n",
       "  <thead>\n",
       "    <tr style=\"text-align: right;\">\n",
       "      <th></th>\n",
       "      <th>TIME</th>\n",
       "      <th>GEO</th>\n",
       "      <th>NRG_BAL</th>\n",
       "      <th>SIEC</th>\n",
       "      <th>UNIT</th>\n",
       "      <th>Value</th>\n",
       "      <th>Flag and Footnotes</th>\n",
       "    </tr>\n",
       "  </thead>\n",
       "  <tbody>\n",
       "    <tr>\n",
       "      <th>0</th>\n",
       "      <td>2008</td>\n",
       "      <td>European Union - 28 countries</td>\n",
       "      <td>Inland consumption - calculated</td>\n",
       "      <td>Geothermal</td>\n",
       "      <td>Terajoule</td>\n",
       "      <td>235 262.865</td>\n",
       "      <td>NaN</td>\n",
       "    </tr>\n",
       "    <tr>\n",
       "      <th>1</th>\n",
       "      <td>2008</td>\n",
       "      <td>European Union - 28 countries</td>\n",
       "      <td>Inland consumption - calculated</td>\n",
       "      <td>Solar thermal</td>\n",
       "      <td>Terajoule</td>\n",
       "      <td>46 004.286</td>\n",
       "      <td>NaN</td>\n",
       "    </tr>\n",
       "    <tr>\n",
       "      <th>2</th>\n",
       "      <td>2008</td>\n",
       "      <td>European Union - 28 countries</td>\n",
       "      <td>Inland consumption - calculated</td>\n",
       "      <td>Primary solid biofuels</td>\n",
       "      <td>Terajoule</td>\n",
       "      <td>3 268 114.691</td>\n",
       "      <td>NaN</td>\n",
       "    </tr>\n",
       "    <tr>\n",
       "      <th>3</th>\n",
       "      <td>2008</td>\n",
       "      <td>European Union - 28 countries</td>\n",
       "      <td>Inland consumption - calculated</td>\n",
       "      <td>Biogases</td>\n",
       "      <td>Terajoule</td>\n",
       "      <td>280 015.181</td>\n",
       "      <td>NaN</td>\n",
       "    </tr>\n",
       "    <tr>\n",
       "      <th>4</th>\n",
       "      <td>2008</td>\n",
       "      <td>European Union - 28 countries</td>\n",
       "      <td>Inland consumption - calculated</td>\n",
       "      <td>Renewable municipal waste</td>\n",
       "      <td>Terajoule</td>\n",
       "      <td>303 233.213</td>\n",
       "      <td>NaN</td>\n",
       "    </tr>\n",
       "  </tbody>\n",
       "</table>\n",
       "</div>"
      ],
      "text/plain": [
       "   TIME                            GEO                          NRG_BAL  \\\n",
       "0  2008  European Union - 28 countries  Inland consumption - calculated   \n",
       "1  2008  European Union - 28 countries  Inland consumption - calculated   \n",
       "2  2008  European Union - 28 countries  Inland consumption - calculated   \n",
       "3  2008  European Union - 28 countries  Inland consumption - calculated   \n",
       "4  2008  European Union - 28 countries  Inland consumption - calculated   \n",
       "\n",
       "                        SIEC       UNIT          Value  Flag and Footnotes  \n",
       "0                 Geothermal  Terajoule    235 262.865                 NaN  \n",
       "1              Solar thermal  Terajoule     46 004.286                 NaN  \n",
       "2     Primary solid biofuels  Terajoule  3 268 114.691                 NaN  \n",
       "3                   Biogases  Terajoule    280 015.181                 NaN  \n",
       "4  Renewable municipal waste  Terajoule    303 233.213                 NaN  "
      ]
     },
     "execution_count": 49,
     "metadata": {},
     "output_type": "execute_result"
    }
   ],
   "source": [
    "supply_consumption_renewables.head()"
   ]
  },
  {
   "cell_type": "code",
   "execution_count": 50,
   "metadata": {},
   "outputs": [],
   "source": [
    "supply_consumption_renewables.Value = string_replace_columna(supply_consumption_renewables.Value, \" \", \"\")"
   ]
  },
  {
   "cell_type": "code",
   "execution_count": 51,
   "metadata": {},
   "outputs": [],
   "source": [
    "eliminar_valores_invalidos(supply_consumption_renewables, 'Value', ':', '-1')\n",
    "\n",
    "eliminar_valores_invalidos(supply_consumption_renewables, 'Value', ': u', '-1')\n",
    "\n",
    "supply_consumption_renewables.Value = string_replace_columna(supply_consumption_renewables.Value, 'p', \"\")\n",
    "\n",
    "supply_consumption_renewables.Value = castear_a_float(supply_consumption_renewables.Value)"
   ]
  },
  {
   "cell_type": "code",
   "execution_count": 52,
   "metadata": {},
   "outputs": [
    {
     "data": {
      "text/plain": [
       "0     235262.865\n",
       "1      46004.286\n",
       "2    3268114.691\n",
       "3     280015.181\n",
       "4     303233.213\n",
       "Name: Value, dtype: float64"
      ]
     },
     "execution_count": 52,
     "metadata": {},
     "output_type": "execute_result"
    }
   ],
   "source": [
    "supply_consumption_renewables.Value.head()"
   ]
  },
  {
   "cell_type": "markdown",
   "metadata": {},
   "source": [
    "<a name='bookmark' />"
   ]
  },
  {
   "cell_type": "markdown",
   "metadata": {
    "slideshow": {
     "slide_type": "slide"
    }
   },
   "source": [
    "## Comenzamos con el proceso de selección de los datos que nos interesan. \n",
    "#### Vamos a seleccionar en las tablas los datos correspondientes a España. Y, si hiciera falta, seleccionar la categoría más relevante, como la moneda la unidad de energía u otros."
   ]
  },
  {
   "cell_type": "markdown",
   "metadata": {
    "slideshow": {
     "slide_type": "subslide"
    }
   },
   "source": [
    "#### Importamos las librerías necesarias y cargamos las tablas..."
   ]
  },
  {
   "cell_type": "code",
   "execution_count": 1,
   "metadata": {
    "slideshow": {
     "slide_type": "slide"
    }
   },
   "outputs": [],
   "source": [
    "import pandas as pd\n",
    "import numpy as np\n",
    "import matplotlib.pyplot as plt"
   ]
  },
  {
   "cell_type": "code",
   "execution_count": 2,
   "metadata": {},
   "outputs": [],
   "source": [
    "electricity_prices_household = pd.read_csv(\"energy_data/electricity_prices_household.csv\", delimiter=';')\n",
    "gas_prices_household = pd.read_csv(\"energy_data/gas_prices_household.csv\", delimiter=';')\n",
    "consumo_energias_sector = pd.read_csv(\"energy_data/consumo_energias_sector.csv\", delimiter=';')\n",
    "energy_supply = pd.read_csv(\"energy_data/energy_supply.csv\", delimiter=';')\n",
    "energy_productivity = pd.read_csv(\"energy_data/energy_productivity.csv\", delimiter=';')"
   ]
  },
  {
   "cell_type": "markdown",
   "metadata": {},
   "source": [
    "#### Definición de funciones útiles"
   ]
  },
  {
   "cell_type": "code",
   "execution_count": 3,
   "metadata": {},
   "outputs": [],
   "source": [
    "def consulta_por_valor_columna(dataframe, valor, nombre_columna):\n",
    "    return dataframe[dataframe[nombre_columna] == valor]"
   ]
  },
  {
   "cell_type": "code",
   "execution_count": 4,
   "metadata": {},
   "outputs": [],
   "source": [
    "def crear_grafica(x_data, y_data, titulo, x_label, y_label):\n",
    "    plt.plot(x_data, y_data)\n",
    "    plt.xlabel(x_label)\n",
    "    plt.ylabel(y_label)\n",
    "    plt.title(titulo)"
   ]
  },
  {
   "cell_type": "code",
   "execution_count": 5,
   "metadata": {},
   "outputs": [],
   "source": [
    "def castear_a_float(input_list):\n",
    "    '''Recibe una lista de valores y devuelve otra con los valores interpretados como flotantes.\n",
    "    Esta función NO edita la columna, devuelve una nueva. La columna del dataframe original deberá ser sobreescrita pertinentemente.\n",
    "    ''' \n",
    "    return input_list.apply(float)"
   ]
  },
  {
   "cell_type": "code",
   "execution_count": 6,
   "metadata": {},
   "outputs": [],
   "source": [
    "def string_replace_columna(columna, valor_a_buscar, valor_sustituto):\n",
    "    '''Busca espacios en la columna y los elimina\n",
    "    Esta función NO edita la columna, devuelve una nueva. La columna del dataframe original deberá ser sobreescrita pertinentemente.\n",
    "    '''\n",
    "    return columna.str.replace(valor_a_buscar, valor_sustituto)"
   ]
  },
  {
   "cell_type": "code",
   "execution_count": 7,
   "metadata": {},
   "outputs": [],
   "source": [
    "def eliminar_valores_invalidos(dataframe, columna, valor_invalido, valor_nuevo):\n",
    "    '''Sustituye las instancias de valor_invalido por las de valor nuevo en la columna. Por ejemplo, para sustituir \\':\\' por -1\n",
    "    Es recomendable pasar el valor nuevo como tipo igual al que tiene el data frame, para que luego los casteos no se hagan complicados\n",
    "    '''\n",
    "    dataframe.loc[dataframe[columna] == valor_invalido, columna] = valor_nuevo"
   ]
  },
  {
   "cell_type": "markdown",
   "metadata": {},
   "source": [
    "##### Seleccionamos las columnas referentes a nuestro país..."
   ]
  },
  {
   "cell_type": "code",
   "execution_count": 8,
   "metadata": {},
   "outputs": [],
   "source": [
    "electricity_prices_household_es = consulta_por_valor_columna(electricity_prices_household, 'ES', 'geo\\\\time')\n",
    "gas_prices_household_es = consulta_por_valor_columna(gas_prices_household, 'ES', 'geo\\\\time')\n",
    "consumo_energias_sector_es = consulta_por_valor_columna(consumo_energias_sector, 'ES', 'geo\\TIME_PERIOD')"
   ]
  },
  {
   "cell_type": "markdown",
   "metadata": {},
   "source": [
    "##### Seleccionamos la moneda y las unidades relevantes..."
   ]
  },
  {
   "cell_type": "code",
   "execution_count": 9,
   "metadata": {},
   "outputs": [],
   "source": [
    "electricity_prices_household_es_eur = consulta_por_valor_columna(electricity_prices_household_es, 'EUR', 'currency')\n",
    "electricity_prices_household_es_eur_xtax = consulta_por_valor_columna(electricity_prices_household_es_eur, 'X_TAX', 'tax')\n",
    "\n",
    "\n",
    "gas_prices_household_es_eur = consulta_por_valor_columna(gas_prices_household_es, 'EUR', 'currency')\n",
    "gas_prices_household_es_eur_xtax = consulta_por_valor_columna(gas_prices_household_es_eur, 'X_TAX', 'tax')\n",
    "\n",
    "\n",
    "consumo_energias_sector_es_household = consulta_por_valor_columna(consumo_energias_sector_es, 'FC_OTH_HH_E', 'nrg_bal')\n"
   ]
  },
  {
   "cell_type": "markdown",
   "metadata": {},
   "source": [
    "#### Hemos acabado el proceso de selección. Ahora tenemos 3 dataframes mucho más concretos y capaces de aportar bastante información.\n",
    "\n",
    "##### Vamos a crear una gráfica con ellos, y a sacar algunas conclusiones de esta primera fase."
   ]
  },
  {
   "cell_type": "markdown",
   "metadata": {},
   "source": [
    "Para ello, primero debemos tratar los datos para convertir las columnas que representaremos en formato numérico."
   ]
  },
  {
   "cell_type": "code",
   "execution_count": 10,
   "metadata": {},
   "outputs": [
    {
     "data": {
      "text/html": [
       "<div>\n",
       "<style scoped>\n",
       "    .dataframe tbody tr th:only-of-type {\n",
       "        vertical-align: middle;\n",
       "    }\n",
       "\n",
       "    .dataframe tbody tr th {\n",
       "        vertical-align: top;\n",
       "    }\n",
       "\n",
       "    .dataframe thead th {\n",
       "        text-align: right;\n",
       "    }\n",
       "</style>\n",
       "<table border=\"1\" class=\"dataframe\">\n",
       "  <thead>\n",
       "    <tr style=\"text-align: right;\">\n",
       "      <th></th>\n",
       "      <th>product</th>\n",
       "      <th>consom</th>\n",
       "      <th>unit</th>\n",
       "      <th>tax</th>\n",
       "      <th>currency</th>\n",
       "      <th>geo\\time</th>\n",
       "      <th>2019S1</th>\n",
       "      <th>2018S2</th>\n",
       "      <th>2018S1</th>\n",
       "      <th>2017S2</th>\n",
       "      <th>...</th>\n",
       "      <th>2011S2</th>\n",
       "      <th>2011S1</th>\n",
       "      <th>2010S2</th>\n",
       "      <th>2010S1</th>\n",
       "      <th>2009S2</th>\n",
       "      <th>2009S1</th>\n",
       "      <th>2008S2</th>\n",
       "      <th>2008S1</th>\n",
       "      <th>2007S2</th>\n",
       "      <th>2007S1</th>\n",
       "    </tr>\n",
       "  </thead>\n",
       "  <tbody>\n",
       "    <tr>\n",
       "      <th>139</th>\n",
       "      <td>6000</td>\n",
       "      <td>4161901</td>\n",
       "      <td>KWH</td>\n",
       "      <td>X_TAX</td>\n",
       "      <td>EUR</td>\n",
       "      <td>ES</td>\n",
       "      <td>0.5166</td>\n",
       "      <td>0.4485</td>\n",
       "      <td>0.4680</td>\n",
       "      <td>0.4479</td>\n",
       "      <td>...</td>\n",
       "      <td>0.3044</td>\n",
       "      <td>0.2890</td>\n",
       "      <td>0.2926</td>\n",
       "      <td>0.3174</td>\n",
       "      <td>0.2611</td>\n",
       "      <td>0.2540</td>\n",
       "      <td>0.2622</td>\n",
       "      <td>0.2455</td>\n",
       "      <td>0.2424</td>\n",
       "      <td>:</td>\n",
       "    </tr>\n",
       "    <tr>\n",
       "      <th>520</th>\n",
       "      <td>6000</td>\n",
       "      <td>4161902</td>\n",
       "      <td>KWH</td>\n",
       "      <td>X_TAX</td>\n",
       "      <td>EUR</td>\n",
       "      <td>ES</td>\n",
       "      <td>0.2355</td>\n",
       "      <td>0.2393</td>\n",
       "      <td>0.2303</td>\n",
       "      <td>0.2113</td>\n",
       "      <td>...</td>\n",
       "      <td>0.1870</td>\n",
       "      <td>0.1768</td>\n",
       "      <td>0.1681</td>\n",
       "      <td>0.1622</td>\n",
       "      <td>0.1571</td>\n",
       "      <td>0.1459</td>\n",
       "      <td>0.1475</td>\n",
       "      <td>0.1299</td>\n",
       "      <td>0.1332</td>\n",
       "      <td>:</td>\n",
       "    </tr>\n",
       "    <tr>\n",
       "      <th>901</th>\n",
       "      <td>6000</td>\n",
       "      <td>4161903</td>\n",
       "      <td>KWH</td>\n",
       "      <td>X_TAX</td>\n",
       "      <td>EUR</td>\n",
       "      <td>ES</td>\n",
       "      <td>0.1889</td>\n",
       "      <td>0.1947</td>\n",
       "      <td>0.1873</td>\n",
       "      <td>0.1712</td>\n",
       "      <td>...</td>\n",
       "      <td>0.1684</td>\n",
       "      <td>0.1597</td>\n",
       "      <td>0.1492</td>\n",
       "      <td>0.1417</td>\n",
       "      <td>0.1381</td>\n",
       "      <td>0.1294</td>\n",
       "      <td>0.1277</td>\n",
       "      <td>0.1124</td>\n",
       "      <td>0.1152</td>\n",
       "      <td>:</td>\n",
       "    </tr>\n",
       "    <tr>\n",
       "      <th>1282</th>\n",
       "      <td>6000</td>\n",
       "      <td>4161904</td>\n",
       "      <td>KWH</td>\n",
       "      <td>X_TAX</td>\n",
       "      <td>EUR</td>\n",
       "      <td>ES</td>\n",
       "      <td>0.1608</td>\n",
       "      <td>0.1697</td>\n",
       "      <td>0.1513</td>\n",
       "      <td>0.1482</td>\n",
       "      <td>...</td>\n",
       "      <td>0.1563</td>\n",
       "      <td>0.1426</td>\n",
       "      <td>0.1363</td>\n",
       "      <td>0.1271</td>\n",
       "      <td>0.1266</td>\n",
       "      <td>0.1203</td>\n",
       "      <td>0.1219</td>\n",
       "      <td>0.1021</td>\n",
       "      <td>0.1058</td>\n",
       "      <td>:</td>\n",
       "    </tr>\n",
       "    <tr>\n",
       "      <th>1663</th>\n",
       "      <td>6000</td>\n",
       "      <td>4161905</td>\n",
       "      <td>KWH</td>\n",
       "      <td>X_TAX</td>\n",
       "      <td>EUR</td>\n",
       "      <td>ES</td>\n",
       "      <td>0.1409</td>\n",
       "      <td>0.1414</td>\n",
       "      <td>0.1236</td>\n",
       "      <td>0.1311</td>\n",
       "      <td>...</td>\n",
       "      <td>0.1444</td>\n",
       "      <td>0.1251</td>\n",
       "      <td>0.1244</td>\n",
       "      <td>0.1174</td>\n",
       "      <td>0.1153</td>\n",
       "      <td>0.1163</td>\n",
       "      <td>0.1148</td>\n",
       "      <td>0.0981</td>\n",
       "      <td>0.0976</td>\n",
       "      <td>:</td>\n",
       "    </tr>\n",
       "  </tbody>\n",
       "</table>\n",
       "<p>5 rows × 31 columns</p>\n",
       "</div>"
      ],
      "text/plain": [
       "      product   consom unit    tax currency geo\\time  2019S1  2018S2  2018S1  \\\n",
       "139      6000  4161901  KWH  X_TAX      EUR       ES  0.5166  0.4485  0.4680   \n",
       "520      6000  4161902  KWH  X_TAX      EUR       ES  0.2355  0.2393  0.2303   \n",
       "901      6000  4161903  KWH  X_TAX      EUR       ES  0.1889  0.1947  0.1873   \n",
       "1282     6000  4161904  KWH  X_TAX      EUR       ES  0.1608  0.1697  0.1513   \n",
       "1663     6000  4161905  KWH  X_TAX      EUR       ES  0.1409  0.1414  0.1236   \n",
       "\n",
       "      2017S2  ...  2011S2  2011S1  2010S2  2010S1  2009S2  2009S1  2008S2  \\\n",
       "139   0.4479  ...  0.3044  0.2890  0.2926  0.3174  0.2611  0.2540  0.2622   \n",
       "520   0.2113  ...  0.1870  0.1768  0.1681  0.1622  0.1571  0.1459  0.1475   \n",
       "901   0.1712  ...  0.1684  0.1597  0.1492  0.1417  0.1381  0.1294  0.1277   \n",
       "1282  0.1482  ...  0.1563  0.1426  0.1363  0.1271  0.1266  0.1203  0.1219   \n",
       "1663  0.1311  ...  0.1444  0.1251  0.1244  0.1174  0.1153  0.1163  0.1148   \n",
       "\n",
       "      2008S1  2007S2 2007S1  \n",
       "139   0.2455  0.2424     :   \n",
       "520   0.1299  0.1332     :   \n",
       "901   0.1124  0.1152     :   \n",
       "1282  0.1021  0.1058     :   \n",
       "1663  0.0981  0.0976     :   \n",
       "\n",
       "[5 rows x 31 columns]"
      ]
     },
     "execution_count": 10,
     "metadata": {},
     "output_type": "execute_result"
    }
   ],
   "source": [
    "electricity_prices_household_es_eur_xtax.head()"
   ]
  },
  {
   "cell_type": "markdown",
   "metadata": {},
   "source": [
    "#### El formato en el que se presenta la tabla es bastante inconveniente para procesar los datos. Vamos a unir todas las columnas referentes a los años en solo dos, una con los semestres y otra con su valor."
   ]
  },
  {
   "cell_type": "code",
   "execution_count": 11,
   "metadata": {},
   "outputs": [
    {
     "data": {
      "text/html": [
       "<div>\n",
       "<style scoped>\n",
       "    .dataframe tbody tr th:only-of-type {\n",
       "        vertical-align: middle;\n",
       "    }\n",
       "\n",
       "    .dataframe tbody tr th {\n",
       "        vertical-align: top;\n",
       "    }\n",
       "\n",
       "    .dataframe thead th {\n",
       "        text-align: right;\n",
       "    }\n",
       "</style>\n",
       "<table border=\"1\" class=\"dataframe\">\n",
       "  <thead>\n",
       "    <tr style=\"text-align: right;\">\n",
       "      <th></th>\n",
       "      <th>product</th>\n",
       "      <th>consom</th>\n",
       "      <th>unit</th>\n",
       "      <th>tax</th>\n",
       "      <th>currency</th>\n",
       "      <th>geo\\time</th>\n",
       "      <th>Semestres</th>\n",
       "      <th>Precio</th>\n",
       "    </tr>\n",
       "  </thead>\n",
       "  <tbody>\n",
       "    <tr>\n",
       "      <th>0</th>\n",
       "      <td>6000</td>\n",
       "      <td>4161901</td>\n",
       "      <td>KWH</td>\n",
       "      <td>X_TAX</td>\n",
       "      <td>EUR</td>\n",
       "      <td>ES</td>\n",
       "      <td>2019S1</td>\n",
       "      <td>0.5166</td>\n",
       "    </tr>\n",
       "    <tr>\n",
       "      <th>1</th>\n",
       "      <td>6000</td>\n",
       "      <td>4161902</td>\n",
       "      <td>KWH</td>\n",
       "      <td>X_TAX</td>\n",
       "      <td>EUR</td>\n",
       "      <td>ES</td>\n",
       "      <td>2019S1</td>\n",
       "      <td>0.2355</td>\n",
       "    </tr>\n",
       "    <tr>\n",
       "      <th>2</th>\n",
       "      <td>6000</td>\n",
       "      <td>4161903</td>\n",
       "      <td>KWH</td>\n",
       "      <td>X_TAX</td>\n",
       "      <td>EUR</td>\n",
       "      <td>ES</td>\n",
       "      <td>2019S1</td>\n",
       "      <td>0.1889</td>\n",
       "    </tr>\n",
       "    <tr>\n",
       "      <th>3</th>\n",
       "      <td>6000</td>\n",
       "      <td>4161904</td>\n",
       "      <td>KWH</td>\n",
       "      <td>X_TAX</td>\n",
       "      <td>EUR</td>\n",
       "      <td>ES</td>\n",
       "      <td>2019S1</td>\n",
       "      <td>0.1608</td>\n",
       "    </tr>\n",
       "    <tr>\n",
       "      <th>4</th>\n",
       "      <td>6000</td>\n",
       "      <td>4161905</td>\n",
       "      <td>KWH</td>\n",
       "      <td>X_TAX</td>\n",
       "      <td>EUR</td>\n",
       "      <td>ES</td>\n",
       "      <td>2019S1</td>\n",
       "      <td>0.1409</td>\n",
       "    </tr>\n",
       "  </tbody>\n",
       "</table>\n",
       "</div>"
      ],
      "text/plain": [
       "   product   consom unit    tax currency geo\\time Semestres  Precio\n",
       "0     6000  4161901  KWH  X_TAX      EUR       ES    2019S1  0.5166\n",
       "1     6000  4161902  KWH  X_TAX      EUR       ES    2019S1  0.2355\n",
       "2     6000  4161903  KWH  X_TAX      EUR       ES    2019S1  0.1889\n",
       "3     6000  4161904  KWH  X_TAX      EUR       ES    2019S1  0.1608\n",
       "4     6000  4161905  KWH  X_TAX      EUR       ES    2019S1  0.1409"
      ]
     },
     "execution_count": 11,
     "metadata": {},
     "output_type": "execute_result"
    }
   ],
   "source": [
    "electricity_prices_household_es_eur_xtax = electricity_prices_household_es_eur_xtax.melt(\n",
    "    id_vars=['product', 'consom', 'unit', 'tax', 'currency', 'geo\\\\time'],\n",
    "    var_name='Semestres',\n",
    "    value_name='Precio' \n",
    ")\n",
    "\n",
    "electricity_prices_household_es_eur_xtax.head()"
   ]
  },
  {
   "cell_type": "code",
   "execution_count": 12,
   "metadata": {},
   "outputs": [
    {
     "data": {
      "text/html": [
       "<div>\n",
       "<style scoped>\n",
       "    .dataframe tbody tr th:only-of-type {\n",
       "        vertical-align: middle;\n",
       "    }\n",
       "\n",
       "    .dataframe tbody tr th {\n",
       "        vertical-align: top;\n",
       "    }\n",
       "\n",
       "    .dataframe thead th {\n",
       "        text-align: right;\n",
       "    }\n",
       "</style>\n",
       "<table border=\"1\" class=\"dataframe\">\n",
       "  <thead>\n",
       "    <tr style=\"text-align: right;\">\n",
       "      <th></th>\n",
       "      <th>product</th>\n",
       "      <th>consom</th>\n",
       "      <th>unit</th>\n",
       "      <th>tax</th>\n",
       "      <th>currency</th>\n",
       "      <th>geo\\time</th>\n",
       "      <th>Semestres</th>\n",
       "      <th>Precio</th>\n",
       "    </tr>\n",
       "  </thead>\n",
       "  <tbody>\n",
       "    <tr>\n",
       "      <th>0</th>\n",
       "      <td>4100</td>\n",
       "      <td>4141901</td>\n",
       "      <td>GJ_GCV</td>\n",
       "      <td>X_TAX</td>\n",
       "      <td>EUR</td>\n",
       "      <td>ES</td>\n",
       "      <td>2019S1</td>\n",
       "      <td>:</td>\n",
       "    </tr>\n",
       "    <tr>\n",
       "      <th>1</th>\n",
       "      <td>4100</td>\n",
       "      <td>4141901</td>\n",
       "      <td>KWH</td>\n",
       "      <td>X_TAX</td>\n",
       "      <td>EUR</td>\n",
       "      <td>ES</td>\n",
       "      <td>2019S1</td>\n",
       "      <td>:</td>\n",
       "    </tr>\n",
       "    <tr>\n",
       "      <th>2</th>\n",
       "      <td>4100</td>\n",
       "      <td>4141902</td>\n",
       "      <td>GJ_GCV</td>\n",
       "      <td>X_TAX</td>\n",
       "      <td>EUR</td>\n",
       "      <td>ES</td>\n",
       "      <td>2019S1</td>\n",
       "      <td>:</td>\n",
       "    </tr>\n",
       "    <tr>\n",
       "      <th>3</th>\n",
       "      <td>4100</td>\n",
       "      <td>4141902</td>\n",
       "      <td>KWH</td>\n",
       "      <td>X_TAX</td>\n",
       "      <td>EUR</td>\n",
       "      <td>ES</td>\n",
       "      <td>2019S1</td>\n",
       "      <td>:</td>\n",
       "    </tr>\n",
       "    <tr>\n",
       "      <th>4</th>\n",
       "      <td>4100</td>\n",
       "      <td>4141903</td>\n",
       "      <td>GJ_GCV</td>\n",
       "      <td>X_TAX</td>\n",
       "      <td>EUR</td>\n",
       "      <td>ES</td>\n",
       "      <td>2019S1</td>\n",
       "      <td>:</td>\n",
       "    </tr>\n",
       "  </tbody>\n",
       "</table>\n",
       "</div>"
      ],
      "text/plain": [
       "   product   consom    unit    tax currency geo\\time Semestres Precio\n",
       "0     4100  4141901  GJ_GCV  X_TAX      EUR       ES    2019S1     : \n",
       "1     4100  4141901     KWH  X_TAX      EUR       ES    2019S1     : \n",
       "2     4100  4141902  GJ_GCV  X_TAX      EUR       ES    2019S1     : \n",
       "3     4100  4141902     KWH  X_TAX      EUR       ES    2019S1     : \n",
       "4     4100  4141903  GJ_GCV  X_TAX      EUR       ES    2019S1     : "
      ]
     },
     "execution_count": 12,
     "metadata": {},
     "output_type": "execute_result"
    }
   ],
   "source": [
    "gas_prices_household_es_eur_xtax = gas_prices_household_es_eur_xtax.melt(\n",
    "    id_vars=['product', 'consom', 'unit', 'tax', 'currency', 'geo\\\\time'],\n",
    "    var_name='Semestres',\n",
    "    value_name='Precio' \n",
    ")\n",
    "\n",
    "gas_prices_household_es_eur_xtax.head()"
   ]
  },
  {
   "cell_type": "code",
   "execution_count": 13,
   "metadata": {},
   "outputs": [
    {
     "data": {
      "text/html": [
       "<div>\n",
       "<style scoped>\n",
       "    .dataframe tbody tr th:only-of-type {\n",
       "        vertical-align: middle;\n",
       "    }\n",
       "\n",
       "    .dataframe tbody tr th {\n",
       "        vertical-align: top;\n",
       "    }\n",
       "\n",
       "    .dataframe thead th {\n",
       "        text-align: right;\n",
       "    }\n",
       "</style>\n",
       "<table border=\"1\" class=\"dataframe\">\n",
       "  <thead>\n",
       "    <tr style=\"text-align: right;\">\n",
       "      <th></th>\n",
       "      <th>freq</th>\n",
       "      <th>nrg_bal</th>\n",
       "      <th>siec</th>\n",
       "      <th>unit</th>\n",
       "      <th>geo\\TIME_PERIOD</th>\n",
       "      <th>Años</th>\n",
       "      <th>Consumo</th>\n",
       "    </tr>\n",
       "  </thead>\n",
       "  <tbody>\n",
       "    <tr>\n",
       "      <th>0</th>\n",
       "      <td>A</td>\n",
       "      <td>FC_OTH_HH_E</td>\n",
       "      <td>TOTAL</td>\n",
       "      <td>KTOE</td>\n",
       "      <td>ES</td>\n",
       "      <td>2006</td>\n",
       "      <td>15629.050</td>\n",
       "    </tr>\n",
       "    <tr>\n",
       "      <th>1</th>\n",
       "      <td>A</td>\n",
       "      <td>FC_OTH_HH_E</td>\n",
       "      <td>TOTAL</td>\n",
       "      <td>KTOE</td>\n",
       "      <td>ES</td>\n",
       "      <td>2007</td>\n",
       "      <td>15672.903</td>\n",
       "    </tr>\n",
       "    <tr>\n",
       "      <th>2</th>\n",
       "      <td>A</td>\n",
       "      <td>FC_OTH_HH_E</td>\n",
       "      <td>TOTAL</td>\n",
       "      <td>KTOE</td>\n",
       "      <td>ES</td>\n",
       "      <td>2008</td>\n",
       "      <td>15542.505</td>\n",
       "    </tr>\n",
       "    <tr>\n",
       "      <th>3</th>\n",
       "      <td>A</td>\n",
       "      <td>FC_OTH_HH_E</td>\n",
       "      <td>TOTAL</td>\n",
       "      <td>KTOE</td>\n",
       "      <td>ES</td>\n",
       "      <td>2009</td>\n",
       "      <td>15967.814</td>\n",
       "    </tr>\n",
       "    <tr>\n",
       "      <th>4</th>\n",
       "      <td>A</td>\n",
       "      <td>FC_OTH_HH_E</td>\n",
       "      <td>TOTAL</td>\n",
       "      <td>KTOE</td>\n",
       "      <td>ES</td>\n",
       "      <td>2010</td>\n",
       "      <td>16964.172</td>\n",
       "    </tr>\n",
       "  </tbody>\n",
       "</table>\n",
       "</div>"
      ],
      "text/plain": [
       "  freq      nrg_bal   siec  unit geo\\TIME_PERIOD  Años    Consumo\n",
       "0    A  FC_OTH_HH_E  TOTAL  KTOE              ES  2006  15629.050\n",
       "1    A  FC_OTH_HH_E  TOTAL  KTOE              ES  2007  15672.903\n",
       "2    A  FC_OTH_HH_E  TOTAL  KTOE              ES  2008  15542.505\n",
       "3    A  FC_OTH_HH_E  TOTAL  KTOE              ES  2009  15967.814\n",
       "4    A  FC_OTH_HH_E  TOTAL  KTOE              ES  2010  16964.172"
      ]
     },
     "execution_count": 13,
     "metadata": {},
     "output_type": "execute_result"
    }
   ],
   "source": [
    "consumo_energias_sector_es_household = consumo_energias_sector_es_household.melt(\n",
    "    id_vars=['freq', 'nrg_bal', 'siec', 'unit', 'geo\\\\TIME_PERIOD'],\n",
    "    var_name='Años',\n",
    "    value_name='Consumo' \n",
    ")\n",
    "\n",
    "consumo_energias_sector_es_household.head()"
   ]
  },
  {
   "cell_type": "markdown",
   "metadata": {},
   "source": [
    "#### Ahora, vamos a convertir las columnas pertinentes a flotantes.\n",
    "##### Primero debemos eliminar los valores inválidos:"
   ]
  },
  {
   "cell_type": "code",
   "execution_count": 14,
   "metadata": {},
   "outputs": [],
   "source": [
    "eliminar_valores_invalidos(electricity_prices_household_es_eur_xtax, 'Precio', \": \", \"-1\")\n",
    "eliminar_valores_invalidos(electricity_prices_household_es_eur_xtax, 'Precio', \": u\", \"-1\")\n",
    "\n",
    "electricity_prices_household_es_eur_xtax.Precio = string_replace_columna(electricity_prices_household_es_eur_xtax.Precio, 'p', \"\")\n",
    "electricity_prices_household_es_eur_xtax.Precio = string_replace_columna(electricity_prices_household_es_eur_xtax.Precio, \" \", \"\")"
   ]
  },
  {
   "cell_type": "markdown",
   "metadata": {},
   "source": [
    "Ahora que hemos limpiado la columna precio, podemos convertirla a ```float```."
   ]
  },
  {
   "cell_type": "code",
   "execution_count": 15,
   "metadata": {},
   "outputs": [
    {
     "data": {
      "text/plain": [
       "0    0.5166\n",
       "1    0.2355\n",
       "2    0.1889\n",
       "3    0.1608\n",
       "4    0.1409\n",
       "Name: Precio, dtype: float64"
      ]
     },
     "execution_count": 15,
     "metadata": {},
     "output_type": "execute_result"
    }
   ],
   "source": [
    "electricity_prices_household_es_eur_xtax.Precio = castear_a_float(electricity_prices_household_es_eur_xtax.Precio)\n",
    "\n",
    "electricity_prices_household_es_eur_xtax.Precio.head()"
   ]
  },
  {
   "cell_type": "markdown",
   "metadata": {},
   "source": [
    "### ¡Genial! Procedamos con las demás."
   ]
  },
  {
   "cell_type": "code",
   "execution_count": 16,
   "metadata": {},
   "outputs": [],
   "source": [
    "eliminar_valores_invalidos(gas_prices_household_es_eur_xtax, 'Precio', \": \", \"-1\")\n",
    "eliminar_valores_invalidos(gas_prices_household_es_eur_xtax, 'Precio', \": u\", \"-1\")\n",
    "\n",
    "gas_prices_household_es_eur_xtax.Precio = string_replace_columna(gas_prices_household_es_eur_xtax.Precio, 'p', \"\")\n",
    "gas_prices_household_es_eur_xtax.Precio = string_replace_columna(gas_prices_household_es_eur_xtax.Precio, \" \", \"\")"
   ]
  },
  {
   "cell_type": "code",
   "execution_count": 17,
   "metadata": {},
   "outputs": [
    {
     "data": {
      "text/plain": [
       "0   -1.0\n",
       "1   -1.0\n",
       "2   -1.0\n",
       "3   -1.0\n",
       "4   -1.0\n",
       "Name: Precio, dtype: float64"
      ]
     },
     "execution_count": 17,
     "metadata": {},
     "output_type": "execute_result"
    }
   ],
   "source": [
    "gas_prices_household_es_eur_xtax.Precio = castear_a_float(gas_prices_household_es_eur_xtax.Precio)\n",
    "\n",
    "gas_prices_household_es_eur_xtax.Precio.head()"
   ]
  },
  {
   "cell_type": "code",
   "execution_count": 18,
   "metadata": {},
   "outputs": [
    {
     "data": {
      "text/html": [
       "<div>\n",
       "<style scoped>\n",
       "    .dataframe tbody tr th:only-of-type {\n",
       "        vertical-align: middle;\n",
       "    }\n",
       "\n",
       "    .dataframe tbody tr th {\n",
       "        vertical-align: top;\n",
       "    }\n",
       "\n",
       "    .dataframe thead th {\n",
       "        text-align: right;\n",
       "    }\n",
       "</style>\n",
       "<table border=\"1\" class=\"dataframe\">\n",
       "  <thead>\n",
       "    <tr style=\"text-align: right;\">\n",
       "      <th></th>\n",
       "      <th>freq</th>\n",
       "      <th>nrg_bal</th>\n",
       "      <th>siec</th>\n",
       "      <th>unit</th>\n",
       "      <th>geo\\TIME_PERIOD</th>\n",
       "      <th>Años</th>\n",
       "      <th>Consumo</th>\n",
       "    </tr>\n",
       "  </thead>\n",
       "  <tbody>\n",
       "    <tr>\n",
       "      <th>0</th>\n",
       "      <td>A</td>\n",
       "      <td>FC_OTH_HH_E</td>\n",
       "      <td>TOTAL</td>\n",
       "      <td>KTOE</td>\n",
       "      <td>ES</td>\n",
       "      <td>2006</td>\n",
       "      <td>15629.050</td>\n",
       "    </tr>\n",
       "    <tr>\n",
       "      <th>1</th>\n",
       "      <td>A</td>\n",
       "      <td>FC_OTH_HH_E</td>\n",
       "      <td>TOTAL</td>\n",
       "      <td>KTOE</td>\n",
       "      <td>ES</td>\n",
       "      <td>2007</td>\n",
       "      <td>15672.903</td>\n",
       "    </tr>\n",
       "    <tr>\n",
       "      <th>2</th>\n",
       "      <td>A</td>\n",
       "      <td>FC_OTH_HH_E</td>\n",
       "      <td>TOTAL</td>\n",
       "      <td>KTOE</td>\n",
       "      <td>ES</td>\n",
       "      <td>2008</td>\n",
       "      <td>15542.505</td>\n",
       "    </tr>\n",
       "    <tr>\n",
       "      <th>3</th>\n",
       "      <td>A</td>\n",
       "      <td>FC_OTH_HH_E</td>\n",
       "      <td>TOTAL</td>\n",
       "      <td>KTOE</td>\n",
       "      <td>ES</td>\n",
       "      <td>2009</td>\n",
       "      <td>15967.814</td>\n",
       "    </tr>\n",
       "    <tr>\n",
       "      <th>4</th>\n",
       "      <td>A</td>\n",
       "      <td>FC_OTH_HH_E</td>\n",
       "      <td>TOTAL</td>\n",
       "      <td>KTOE</td>\n",
       "      <td>ES</td>\n",
       "      <td>2010</td>\n",
       "      <td>16964.172</td>\n",
       "    </tr>\n",
       "  </tbody>\n",
       "</table>\n",
       "</div>"
      ],
      "text/plain": [
       "  freq      nrg_bal   siec  unit geo\\TIME_PERIOD  Años    Consumo\n",
       "0    A  FC_OTH_HH_E  TOTAL  KTOE              ES  2006  15629.050\n",
       "1    A  FC_OTH_HH_E  TOTAL  KTOE              ES  2007  15672.903\n",
       "2    A  FC_OTH_HH_E  TOTAL  KTOE              ES  2008  15542.505\n",
       "3    A  FC_OTH_HH_E  TOTAL  KTOE              ES  2009  15967.814\n",
       "4    A  FC_OTH_HH_E  TOTAL  KTOE              ES  2010  16964.172"
      ]
     },
     "execution_count": 18,
     "metadata": {},
     "output_type": "execute_result"
    }
   ],
   "source": [
    "consumo_energias_sector_es_household.head()"
   ]
  },
  {
   "cell_type": "code",
   "execution_count": 19,
   "metadata": {},
   "outputs": [
    {
     "data": {
      "text/plain": [
       "0    15629.050\n",
       "1    15672.903\n",
       "2    15542.505\n",
       "3    15967.814\n",
       "4    16964.172\n",
       "Name: Consumo, dtype: object"
      ]
     },
     "execution_count": 19,
     "metadata": {},
     "output_type": "execute_result"
    }
   ],
   "source": [
    "consumo_energias_sector_es_household.Consumo.head()"
   ]
  },
  {
   "cell_type": "code",
   "execution_count": 20,
   "metadata": {},
   "outputs": [],
   "source": [
    "eliminar_valores_invalidos(consumo_energias_sector_es_household, 'Consumo', \": \", \"-1\")\n",
    "eliminar_valores_invalidos(consumo_energias_sector_es_household, 'Consumo', \": u\", \"-1\")\n",
    "\n",
    "consumo_energias_sector_es_household.Consumo = string_replace_columna(consumo_energias_sector_es_household.Consumo, 'p', \"\")\n",
    "consumo_energias_sector_es_household.Consumo = string_replace_columna(consumo_energias_sector_es_household.Consumo, \" \", \"\")"
   ]
  },
  {
   "cell_type": "code",
   "execution_count": 21,
   "metadata": {},
   "outputs": [
    {
     "data": {
      "text/plain": [
       "0    15629.050\n",
       "1    15672.903\n",
       "2    15542.505\n",
       "3    15967.814\n",
       "4    16964.172\n",
       "Name: Consumo, dtype: float64"
      ]
     },
     "execution_count": 21,
     "metadata": {},
     "output_type": "execute_result"
    }
   ],
   "source": [
    "consumo_energias_sector_es_household.Consumo = castear_a_float(consumo_energias_sector_es_household.Consumo)\n",
    "\n",
    "consumo_energias_sector_es_household.Consumo.head()"
   ]
  },
  {
   "cell_type": "markdown",
   "metadata": {},
   "source": [
    "### Ahora que tenemos los datos bien formateados, ¡vamos a representarlos!"
   ]
  },
  {
   "cell_type": "markdown",
   "metadata": {},
   "source": [
    "##### Para representar los datos del consumo de electricidad, primero debemos agruparlos por las diferentes categorías que presentan, como el precio según la tarifa."
   ]
  },
  {
   "cell_type": "markdown",
   "metadata": {},
   "source": [
    "Primero, vamos a eliminar la columna de 2007S1, ya que, durante el proceso de análisis, nos hemos dado cuenta de que no posee ningún valor."
   ]
  },
  {
   "cell_type": "code",
   "execution_count": 22,
   "metadata": {},
   "outputs": [],
   "source": [
    "electricity_prices_household_es_eur_xtax = electricity_prices_household_es_eur_xtax[electricity_prices_household_es_eur_xtax['Semestres'] != '2007S1']"
   ]
  },
  {
   "cell_type": "markdown",
   "metadata": {},
   "source": [
    "De las fuentes de datos, sabemos que los diferentes valores de la columna Consom corresponden a las diferentes facturas de electricidad. Vamos a separarlas en diferentes variables."
   ]
  },
  {
   "cell_type": "code",
   "execution_count": 23,
   "metadata": {},
   "outputs": [],
   "source": [
    "less_1k = (consulta_por_valor_columna(electricity_prices_household_es_eur_xtax, 4161901, 'consom')).Precio\n",
    "from_1k_to_2k = (consulta_por_valor_columna(electricity_prices_household_es_eur_xtax, 4161902, 'consom')).Precio\n",
    "from_2k_to_5k = (consulta_por_valor_columna(electricity_prices_household_es_eur_xtax, 4161903, 'consom')).Precio\n",
    "from_5k_to_15k = (consulta_por_valor_columna(electricity_prices_household_es_eur_xtax, 4161904, 'consom')).Precio\n",
    "over_15k = (consulta_por_valor_columna(electricity_prices_household_es_eur_xtax, 4161905, 'consom')).Precio"
   ]
  },
  {
   "cell_type": "code",
   "execution_count": 24,
   "metadata": {},
   "outputs": [],
   "source": [
    "semestres_elec = (electricity_prices_household_es_eur_xtax.Semestres).drop_duplicates()"
   ]
  },
  {
   "cell_type": "markdown",
   "metadata": {},
   "source": [
    "##### Como los datos están dispuestos del revés cronológicamente, vamos a darles la vuelta."
   ]
  },
  {
   "cell_type": "code",
   "execution_count": 25,
   "metadata": {},
   "outputs": [],
   "source": [
    "semestres_elec = semestres_elec.iloc[::-1]\n",
    "less_1k = less_1k.iloc[::-1]\n",
    "from_1k_to_2k = from_1k_to_2k.iloc[::-1] \n",
    "from_2k_to_5k = from_2k_to_5k.iloc[::-1] \n",
    "from_5k_to_15k = from_5k_to_15k.iloc[::-1]\n",
    "over_15k = over_15k.iloc[::-1]"
   ]
  },
  {
   "cell_type": "code",
   "execution_count": 44,
   "metadata": {},
   "outputs": [],
   "source": [
    "avg_elec = np.array([less_1k, from_1k_to_2k, from_2k_to_5k, from_5k_to_15k, over_15k])\n",
    "avg_elec = np.mean(avg_elec, axis=0)\n",
    "avg_elec = pd.Series(avg_elec)"
   ]
  },
  {
   "cell_type": "code",
   "execution_count": 55,
   "metadata": {},
   "outputs": [
    {
     "data": {
      "text/plain": [
       "Text(0, 0.5, 'Precio €')"
      ]
     },
     "execution_count": 55,
     "metadata": {},
     "output_type": "execute_result"
    },
    {
     "data": {
      "image/png": "[encoded data removed]",
      "text/plain": [
       "<Figure size 1440x720 with 1 Axes>"
      ]
     },
     "metadata": {
      "needs_background": "light"
     },
     "output_type": "display_data"
    }
   ],
   "source": [
    "fig = plt.figure(figsize=(20, 10))\n",
    "ax  = fig.add_subplot(111)\n",
    "\n",
    "ax.plot(semestres_elec, less_1k, semestres_elec, from_1k_to_2k, semestres_elec, from_2k_to_5k, semestres_elec, from_5k_to_15k, semestres_elec, over_15k, linewidth=2, alpha=0.6)\n",
    "ax.plot(semestres_elec, avg_elec, 'r-', linewidth=4)\n",
    "\n",
    "plt.title('Precio de la energía eléctrica por semestre y por tarifa, sin tasas aplicadas')\n",
    "plt.legend(['Menos de 1k KWh', 'De 1k a 2.5k', 'De 2k a 5k', 'De 5k a 15k', 'Más de 15k KWh', 'Media'])\n",
    "plt.xlabel('Semestres')\n",
    "plt.ylabel('Precio €')"
   ]
  },
  {
   "cell_type": "markdown",
   "metadata": {},
   "source": [
    "##### Ahora, los datos del precio del gas."
   ]
  },
  {
   "cell_type": "code",
   "execution_count": 27,
   "metadata": {},
   "outputs": [
    {
     "data": {
      "text/html": [
       "<div>\n",
       "<style scoped>\n",
       "    .dataframe tbody tr th:only-of-type {\n",
       "        vertical-align: middle;\n",
       "    }\n",
       "\n",
       "    .dataframe tbody tr th {\n",
       "        vertical-align: top;\n",
       "    }\n",
       "\n",
       "    .dataframe thead th {\n",
       "        text-align: right;\n",
       "    }\n",
       "</style>\n",
       "<table border=\"1\" class=\"dataframe\">\n",
       "  <thead>\n",
       "    <tr style=\"text-align: right;\">\n",
       "      <th></th>\n",
       "      <th>product</th>\n",
       "      <th>consom</th>\n",
       "      <th>unit</th>\n",
       "      <th>tax</th>\n",
       "      <th>currency</th>\n",
       "      <th>geo\\time</th>\n",
       "      <th>Semestres</th>\n",
       "      <th>Precio</th>\n",
       "    </tr>\n",
       "  </thead>\n",
       "  <tbody>\n",
       "    <tr>\n",
       "      <th>0</th>\n",
       "      <td>4100</td>\n",
       "      <td>4141901</td>\n",
       "      <td>GJ_GCV</td>\n",
       "      <td>X_TAX</td>\n",
       "      <td>EUR</td>\n",
       "      <td>ES</td>\n",
       "      <td>2019S1</td>\n",
       "      <td>-1.0</td>\n",
       "    </tr>\n",
       "    <tr>\n",
       "      <th>1</th>\n",
       "      <td>4100</td>\n",
       "      <td>4141901</td>\n",
       "      <td>KWH</td>\n",
       "      <td>X_TAX</td>\n",
       "      <td>EUR</td>\n",
       "      <td>ES</td>\n",
       "      <td>2019S1</td>\n",
       "      <td>-1.0</td>\n",
       "    </tr>\n",
       "    <tr>\n",
       "      <th>2</th>\n",
       "      <td>4100</td>\n",
       "      <td>4141902</td>\n",
       "      <td>GJ_GCV</td>\n",
       "      <td>X_TAX</td>\n",
       "      <td>EUR</td>\n",
       "      <td>ES</td>\n",
       "      <td>2019S1</td>\n",
       "      <td>-1.0</td>\n",
       "    </tr>\n",
       "    <tr>\n",
       "      <th>3</th>\n",
       "      <td>4100</td>\n",
       "      <td>4141902</td>\n",
       "      <td>KWH</td>\n",
       "      <td>X_TAX</td>\n",
       "      <td>EUR</td>\n",
       "      <td>ES</td>\n",
       "      <td>2019S1</td>\n",
       "      <td>-1.0</td>\n",
       "    </tr>\n",
       "    <tr>\n",
       "      <th>4</th>\n",
       "      <td>4100</td>\n",
       "      <td>4141903</td>\n",
       "      <td>GJ_GCV</td>\n",
       "      <td>X_TAX</td>\n",
       "      <td>EUR</td>\n",
       "      <td>ES</td>\n",
       "      <td>2019S1</td>\n",
       "      <td>-1.0</td>\n",
       "    </tr>\n",
       "  </tbody>\n",
       "</table>\n",
       "</div>"
      ],
      "text/plain": [
       "   product   consom    unit    tax currency geo\\time Semestres  Precio\n",
       "0     4100  4141901  GJ_GCV  X_TAX      EUR       ES    2019S1    -1.0\n",
       "1     4100  4141901     KWH  X_TAX      EUR       ES    2019S1    -1.0\n",
       "2     4100  4141902  GJ_GCV  X_TAX      EUR       ES    2019S1    -1.0\n",
       "3     4100  4141902     KWH  X_TAX      EUR       ES    2019S1    -1.0\n",
       "4     4100  4141903  GJ_GCV  X_TAX      EUR       ES    2019S1    -1.0"
      ]
     },
     "execution_count": 27,
     "metadata": {},
     "output_type": "execute_result"
    }
   ],
   "source": [
    "gas_prices_household_es_eur_xtax.head()"
   ]
  },
  {
   "cell_type": "markdown",
   "metadata": {},
   "source": [
    "##### Nos quedamos con los GJ (Giga Julios), que es la unidad que se utiliza como referencia."
   ]
  },
  {
   "cell_type": "code",
   "execution_count": 28,
   "metadata": {},
   "outputs": [],
   "source": [
    "gas_prices_household_es_eur_xtax_gj = consulta_por_valor_columna(gas_prices_household_es_eur_xtax, 'GJ_GCV','unit')"
   ]
  },
  {
   "cell_type": "code",
   "execution_count": 29,
   "metadata": {},
   "outputs": [],
   "source": [
    "gas_prices_household_es_eur_xtax_gj = gas_prices_household_es_eur_xtax_gj[(gas_prices_household_es_eur_xtax_gj['Semestres'] != '2019S1') & (gas_prices_household_es_eur_xtax_gj['Semestres'] != '2007S1')]"
   ]
  },
  {
   "cell_type": "code",
   "execution_count": 30,
   "metadata": {},
   "outputs": [],
   "source": [
    "semestres_gas = (gas_prices_household_es_eur_xtax_gj.Semestres).drop_duplicates()"
   ]
  },
  {
   "cell_type": "code",
   "execution_count": 31,
   "metadata": {},
   "outputs": [
    {
     "data": {
      "text/html": [
       "<div>\n",
       "<style scoped>\n",
       "    .dataframe tbody tr th:only-of-type {\n",
       "        vertical-align: middle;\n",
       "    }\n",
       "\n",
       "    .dataframe tbody tr th {\n",
       "        vertical-align: top;\n",
       "    }\n",
       "\n",
       "    .dataframe thead th {\n",
       "        text-align: right;\n",
       "    }\n",
       "</style>\n",
       "<table border=\"1\" class=\"dataframe\">\n",
       "  <thead>\n",
       "    <tr style=\"text-align: right;\">\n",
       "      <th></th>\n",
       "      <th>product</th>\n",
       "      <th>consom</th>\n",
       "      <th>unit</th>\n",
       "      <th>tax</th>\n",
       "      <th>currency</th>\n",
       "      <th>geo\\time</th>\n",
       "      <th>Semestres</th>\n",
       "      <th>Precio</th>\n",
       "    </tr>\n",
       "  </thead>\n",
       "  <tbody>\n",
       "    <tr>\n",
       "      <th>6</th>\n",
       "      <td>4100</td>\n",
       "      <td>4141901</td>\n",
       "      <td>GJ_GCV</td>\n",
       "      <td>X_TAX</td>\n",
       "      <td>EUR</td>\n",
       "      <td>ES</td>\n",
       "      <td>2018S2</td>\n",
       "      <td>25.7334</td>\n",
       "    </tr>\n",
       "    <tr>\n",
       "      <th>8</th>\n",
       "      <td>4100</td>\n",
       "      <td>4141902</td>\n",
       "      <td>GJ_GCV</td>\n",
       "      <td>X_TAX</td>\n",
       "      <td>EUR</td>\n",
       "      <td>ES</td>\n",
       "      <td>2018S2</td>\n",
       "      <td>19.4281</td>\n",
       "    </tr>\n",
       "    <tr>\n",
       "      <th>10</th>\n",
       "      <td>4100</td>\n",
       "      <td>4141903</td>\n",
       "      <td>GJ_GCV</td>\n",
       "      <td>X_TAX</td>\n",
       "      <td>EUR</td>\n",
       "      <td>ES</td>\n",
       "      <td>2018S2</td>\n",
       "      <td>13.9205</td>\n",
       "    </tr>\n",
       "    <tr>\n",
       "      <th>12</th>\n",
       "      <td>4100</td>\n",
       "      <td>4141901</td>\n",
       "      <td>GJ_GCV</td>\n",
       "      <td>X_TAX</td>\n",
       "      <td>EUR</td>\n",
       "      <td>ES</td>\n",
       "      <td>2018S1</td>\n",
       "      <td>19.4699</td>\n",
       "    </tr>\n",
       "    <tr>\n",
       "      <th>14</th>\n",
       "      <td>4100</td>\n",
       "      <td>4141902</td>\n",
       "      <td>GJ_GCV</td>\n",
       "      <td>X_TAX</td>\n",
       "      <td>EUR</td>\n",
       "      <td>ES</td>\n",
       "      <td>2018S1</td>\n",
       "      <td>14.6187</td>\n",
       "    </tr>\n",
       "  </tbody>\n",
       "</table>\n",
       "</div>"
      ],
      "text/plain": [
       "    product   consom    unit    tax currency geo\\time Semestres   Precio\n",
       "6      4100  4141901  GJ_GCV  X_TAX      EUR       ES    2018S2  25.7334\n",
       "8      4100  4141902  GJ_GCV  X_TAX      EUR       ES    2018S2  19.4281\n",
       "10     4100  4141903  GJ_GCV  X_TAX      EUR       ES    2018S2  13.9205\n",
       "12     4100  4141901  GJ_GCV  X_TAX      EUR       ES    2018S1  19.4699\n",
       "14     4100  4141902  GJ_GCV  X_TAX      EUR       ES    2018S1  14.6187"
      ]
     },
     "execution_count": 31,
     "metadata": {},
     "output_type": "execute_result"
    }
   ],
   "source": [
    "gas_prices_household_es_eur_xtax_gj.head()"
   ]
  },
  {
   "cell_type": "code",
   "execution_count": 32,
   "metadata": {},
   "outputs": [],
   "source": [
    "less_20GJ = (consulta_por_valor_columna(gas_prices_household_es_eur_xtax_gj, 4141901, 'consom')).Precio\n",
    "from_20GJ_to_200GJ = (consulta_por_valor_columna(gas_prices_household_es_eur_xtax_gj, 4141902, 'consom')).Precio\n",
    "over_200GJ = (consulta_por_valor_columna(gas_prices_household_es_eur_xtax_gj, 4141903, 'consom')).Precio"
   ]
  },
  {
   "cell_type": "code",
   "execution_count": 33,
   "metadata": {},
   "outputs": [],
   "source": [
    "less_20GJ = less_20GJ.iloc[::-1]\n",
    "from_20GJ_to_200GJ = from_20GJ_to_200GJ.iloc[::-1]\n",
    "over_200GJ = over_200GJ.iloc[::-1]\n",
    "semestres_gas = semestres_gas.iloc[::-1]"
   ]
  },
  {
   "cell_type": "code",
   "execution_count": 34,
   "metadata": {},
   "outputs": [],
   "source": [
    "averages = np.array([less_20GJ, from_20GJ_to_200GJ, over_200GJ])\n",
    "averages = (np.mean(averages, axis=0))\n",
    "averages = pd.Series(averages)"
   ]
  },
  {
   "cell_type": "code",
   "execution_count": 54,
   "metadata": {},
   "outputs": [
    {
     "data": {
      "text/plain": [
       "Text(0, 0.5, 'Precio €')"
      ]
     },
     "execution_count": 54,
     "metadata": {},
     "output_type": "execute_result"
    },
    {
     "data": {
      "image/png": "[encoded data removed]",
      "text/plain": [
       "<Figure size 1440x720 with 1 Axes>"
      ]
     },
     "metadata": {
      "needs_background": "light"
     },
     "output_type": "display_data"
    }
   ],
   "source": [
    "fig = plt.figure(figsize=(20, 10))\n",
    "ax  = fig.add_subplot(111)\n",
    "\n",
    "ax.plot(semestres_gas, less_20GJ, semestres_gas, from_20GJ_to_200GJ, semestres_gas, over_200GJ, linewidth=2, alpha=0.6)\n",
    "ax.plot(semestres_gas, averages, 'r-', linewidth=3)\n",
    "\n",
    "plt.title('Precio del gas por semestre y por tarifa de consumo en GJ, sin tasas aplicadas')\n",
    "plt.legend(['Menos de 20GJ', 'De 20 a 200GJ', 'Más de 200GJ', 'Media'])\n",
    "plt.xlabel('Semestres')\n",
    "plt.ylabel('Precio €')"
   ]
  },
  {
   "cell_type": "markdown",
   "metadata": {},
   "source": [
    "### Como vemos, el precio de ambas energías ha subido progresivamente en los últimos años. \n",
    "#### También es destacable que las tarifas más caras por unidad son aquellas que contratan menos energía. Tiene sentido, siempre que se compra de algo, cuanto más te lleves, más barato te sale por unidad."
   ]
  },
  {
   "cell_type": "code",
   "execution_count": 56,
   "metadata": {},
   "outputs": [
    {
     "data": {
      "text/plain": [
       "1.5453639202498197"
      ]
     },
     "execution_count": 56,
     "metadata": {},
     "output_type": "execute_result"
    }
   ],
   "source": [
    "less_20GJ.iloc[-1] / less_20GJ.iloc[0]"
   ]
  },
  {
   "cell_type": "markdown",
   "metadata": {},
   "source": [
    "##### El precio del gas ha subido en un 1.5, es decir, un 50% más que en 2008"
   ]
  },
  {
   "cell_type": "code",
   "execution_count": 57,
   "metadata": {},
   "outputs": [
    {
     "data": {
      "text/plain": [
       "2.131188118811881"
      ]
     },
     "execution_count": 57,
     "metadata": {},
     "output_type": "execute_result"
    }
   ],
   "source": [
    "less_1k.iloc[-1] / less_1k.iloc[0]"
   ]
  },
  {
   "cell_type": "markdown",
   "metadata": {},
   "source": [
    "##### El de la electricidad ha aumentado en más de un 100%, es decir, prácticamente se ha duplicado desde 2007"
   ]
  },
  {
   "cell_type": "markdown",
   "metadata": {},
   "source": [
    "## Hemos analizado el coste de la electricidad. Vamos a ver ahora cuánto se consume de cada una. "
   ]
  },
  {
   "cell_type": "code",
   "execution_count": null,
   "metadata": {},
   "outputs": [],
   "source": [
    "consum = pd.read_csv('consumo_energias_sector.csv')"
   ]
  }
 ],
 "metadata": {
  "kernelspec": {
   "display_name": "Python 3",
   "language": "python",
   "name": "python3"
  },
  "language_info": {
   "codemirror_mode": {
    "name": "ipython",
    "version": 3
   },
   "file_extension": ".py",
   "mimetype": "text/x-python",
   "name": "python",
   "nbconvert_exporter": "python",
   "pygments_lexer": "ipython3",
   "version": "3.7.3"
  }
 },
 "nbformat": 4,
 "nbformat_minor": 4
}
